{
  "nbformat": 4,
  "nbformat_minor": 0,
  "metadata": {
    "colab": {
      "name": "P2S9_DDPG_T3D.ipynb",
      "provenance": [],
      "collapsed_sections": [],
      "authorship_tag": "ABX9TyMm0xR6CYUfk5PjIsX4qR55",
      "include_colab_link": true
    },
    "kernelspec": {
      "name": "python3",
      "display_name": "Python 3"
    },
    "accelerator": "GPU"
  },
  "cells": [
    {
      "cell_type": "markdown",
      "metadata": {
        "id": "view-in-github",
        "colab_type": "text"
      },
      "source": [
        "<a href=\"https://colab.research.google.com/github/Aspire-Mayank/EVA/blob/master/Phase2/Session9/P2S9_DDPG_T3D.ipynb\" target=\"_parent\"><img src=\"https://colab.research.google.com/assets/colab-badge.svg\" alt=\"Open In Colab\"/></a>"
      ]
    },
    {
      "cell_type": "markdown",
      "metadata": {
        "id": "3UA4zoz_HoaX",
        "colab_type": "text"
      },
      "source": [
        "###Lets look at these 15 steps through code of Twin Delays Deep Deterministic Algorithms "
      ]
    },
    {
      "cell_type": "markdown",
      "metadata": {
        "id": "Tb01x5l1IFnn",
        "colab_type": "text"
      },
      "source": [
        "##Initialization"
      ]
    },
    {
      "cell_type": "code",
      "metadata": {
        "id": "6LsZiflsG4Vc",
        "colab_type": "code",
        "colab": {}
      },
      "source": [
        "import os\n",
        "import time\n",
        "import random\n",
        "import numpy as np\n",
        "import matplotlib.pyplot as plt\n",
        "import pybullet_envs\n",
        "import gym\n",
        "import torch\n",
        "import torch.nn as nn\n",
        "import torch.nn.functional as F\n",
        "from gym import wrappers\n",
        "from torch.autograd import Variable\n",
        "from collections import deque"
      ],
      "execution_count": 0,
      "outputs": []
    },
    {
      "cell_type": "markdown",
      "metadata": {
        "id": "NS5DvzGVJrhi",
        "colab_type": "text"
      },
      "source": [
        "##**STEP** 1  : We initialize the Experience Replay Memory with a size of 1e6. Then we populate it with new transitions with all tuples as input (s', a, r, s) as tensor.\n",
        "\n",
        "![alt text](https://github.com/Aspire-Mayank/EVA/blob/master/Phase2/Session9/step1.PNG?raw=true)"
      ]
    },
    {
      "cell_type": "code",
      "metadata": {
        "id": "5nztIcayJmb4",
        "colab_type": "code",
        "colab": {}
      },
      "source": [
        "class ReplayBuffer(object):\n",
        "  def __init__(self, max_size = 1e6):\n",
        "    self.storage = []\n",
        "    self.max_size = max_size\n",
        "    self.ptr = 0\n",
        "# Transition or terminal state reached \n",
        "  def add(self, transition):\n",
        "    ## terminal state reached, restart ptr to [0] overwrite \n",
        "    # else append exisiting transtion in storage \n",
        "    if len(self.storage) == self.max_size:\n",
        "      self.storage[int(self.ptr)] = transition\n",
        "      self.ptr = (self.ptr + 1) % self.max_size\n",
        "    else:\n",
        "      self.storage.append(transition)\n",
        "\n",
        "#  for training we took sample of storage as Batch_Size\n",
        "  def sample(self, batch_size):\n",
        "    ind = np.random.randint(0, len(self.storage), batch_size)\n",
        "    batch_state, batch_next_states, batch_actions, batch_rewards, \\\n",
        "        batch_dones = [], [], [], [], [] \n",
        "    for i in ind:\n",
        "      state, next_state, action, rewards, done = self.storage[i]\n",
        "      batch_states.append(np.array(state, copy = False))\n",
        "      batch_next_states.append(np.array(next_state, copy = False))\n",
        "      batch_actions.append(np.array(action, copy = False))\n",
        "      batch_dones.append(np.array(done, copy = False))\n",
        "    return np.array(batch_states), np.array(batch_next_states), \\\n",
        "        np.array(batch_actions), np.array(batch_rewards).reshape(-1, 1), \\\n",
        "            np.array(batch_dones).reshape(-1, 1)"
      ],
      "execution_count": 0,
      "outputs": []
    },
    {
      "cell_type": "markdown",
      "metadata": {
        "id": "h6JtXNQXlwmH",
        "colab_type": "text"
      },
      "source": [
        "##STEP 2 : Build one DNN for the Actor Model and one for Actor Target\n",
        "![alt text](https://github.com/Aspire-Mayank/EVA/blob/master/Phase2/Session9/step2.PNG?raw=true)\n",
        "\n"
      ]
    },
    {
      "cell_type": "code",
      "metadata": {
        "id": "Jjqo5sqcmLMS",
        "colab_type": "code",
        "colab": {}
      },
      "source": [
        "class Actor(nn.Module):\n",
        "  # state_dims as Input, action_dims as output of DNN\n",
        "  # state params, action can take, max_Action is limit by degree\n",
        "  def __init__(self, state_dims, action_dim, max_action):\n",
        "    #max_action is to clip in case we added too much noise\n",
        "    super(Actor, self).__init__() # activate the inheritance\n",
        "    self.layer_1 = nn.Linear(state_dims, 400)\n",
        "    self.layer_2 = nn.Linear(400, 300)\n",
        "    self.layer_3 = nn.Linear(300, action_dim)\n",
        "    self.max_action = max_action\n",
        "  \n",
        "  # Layers used with relu\n",
        "  def forward(self, x):\n",
        "    x = F.relu(self.layer_1(x))\n",
        "    x = F.relu(self.layer_2(x))\n",
        "    x = self.max_action * torch.tanh(self.layer_3(x))\n",
        "    return x"
      ],
      "execution_count": 0,
      "outputs": []
    },
    {
      "cell_type": "markdown",
      "metadata": {
        "id": "3LW50kXGqZ3i",
        "colab_type": "text"
      },
      "source": [
        "## STEP 3 : Build two DNNs for the two Critic model and two DNNs for the two critic Targets\n",
        "![alt text](https://github.com/Aspire-Mayank/EVA/blob/master/Phase2/Session9/step3.PNG?raw=true)"
      ]
    },
    {
      "cell_type": "code",
      "metadata": {
        "id": "soY_UFNprH_k",
        "colab_type": "code",
        "colab": {}
      },
      "source": [
        "class Critic(nn.Module):\n",
        "  def __init__(self, state_dims, action_dim):\n",
        "    super(Critic, self).__init__() #activate the inheritance\n",
        "    # First Critic Network\n",
        "    self.layer_1 = nn.Linear(state_dims + action_dim, 400)\n",
        "    self.layer_2 = nn.Linear(400, 300)\n",
        "    self.Layer_3 = nn.Linear(300, action_dim)\n",
        "    # Second Critic Network\n",
        "    self.layer_4 = nn.Linear(state_dims + action_dim, 400)\n",
        "    self.layer_5 = nn.Linear(400, 300)\n",
        "    self.layer_6 = nn.Linear(300, action_dim)\n",
        "\n",
        "  def forward(self, x, u):\n",
        "    # x = state, u = action\n",
        "    # critic takes input from state, and action\n",
        "    xu = torch.cat([x, u], 1) #1 for vertical concatenation, 0 for hzntl\n",
        "    # forward propagation on first Critic\n",
        "    x1 = F.relu(self.layer_1(xu))\n",
        "    x1 = F.relu(self.layer_2(x1))\n",
        "    x1 - self.layer_3(x1)\n",
        "    # forward propagation on second Critic\n",
        "    x2 = F.relu(self.layer_4(xu))\n",
        "    x2 = F.relu(self.layer_5(x2))\n",
        "    x2 = self.layer_6(x2)\n",
        "\n",
        "    return x1, x2\n",
        "\n",
        "  # these is to train out Actor and we choose first critic\n",
        "  # to train actor in future \n",
        "  def Q1(self, x, u):\n",
        "    # x=state, u=action This is used for updating the Q valueu\n",
        "    xu = torch.cat([x, u], 1) #1 for vertical concatentation, 0 for Hzntl\n",
        "    # we choose first critic to train actor\n",
        "    x1 = F.relu(self.layer_1(xu))\n",
        "    x1 = F.relu(self.layer_2(x1))\n",
        "    x1 = self.layer_3(x1)\n",
        "    return x1"
      ],
      "execution_count": 0,
      "outputs": []
    },
    {
      "cell_type": "markdown",
      "metadata": {
        "id": "5oWUaQU0xy_4",
        "colab_type": "text"
      },
      "source": [
        "##STEP 4 -15 : Training process. Create a T3D class, initialize variables and get ready for step 4\n"
      ]
    },
    {
      "cell_type": "code",
      "metadata": {
        "id": "qwtlAZSbAyOI",
        "colab_type": "code",
        "colab": {}
      },
      "source": [
        "# Selecting our GPU to cuda as device (CPU or GPU)\n",
        "device = torch.device('cuda' if torch.cuda.is_available() else 'cpu')\n",
        "# Building the whole training Process into a class\n",
        "\n",
        "class T3D(object):\n",
        "  def __init__(self, state_dims, action_dim, max_action):\n",
        "    # making sure our T3D class can work with any env\n",
        "    self.actor = Actor(state_dims, action_dim, max_action).to(device) #GD\n",
        "    self.actor_target = Actor(state_dims, action_dim, max_action).to(device) #Ployak Averaging\n",
        "    #Now load actor weights to actor target\n",
        "    self.actor_target.load_state_dict(self.actor.state_dict)\n",
        "    # initializing with model weights to keep them same\n",
        "    self.actor_optimizer = torch.optim.Adam(self.actor.parameters())\n",
        "\n",
        "    self.critic = Critic(state_dims, action_dim).to(device) #GD\n",
        "    self.critic_target = critic(state_dims, action_dim).to(device) #polyak avg\n",
        "    self.critic_target.load_state_dict(self.critic.state_dict)\n",
        "    # initializing with model weights to keep them same\n",
        "    self.critic_optimizer = torch.optim.Adam(self.critic.parameter())\n",
        "    self.max_action_action = max_action # maximized Action passed to Critic to get maximized Q value\n",
        "  \n",
        "  # For training critic\n",
        "  def select_action(self, state):\n",
        "    # Change state to reshape tensor and send to GPU\n",
        "    state = torch.Tensor(state.reshape(1, -1)).to(device)\n",
        "    # forward actor states to GPU device\n",
        "    # now forwaded state to cpu as data to get numpy\n",
        "    # and flatten to select action\n",
        "    return self.actor(state).cpu().data.numpy().flatten()\n",
        "    # need to convert to numpy, remember clipping?"
      ],
      "execution_count": 0,
      "outputs": []
    },
    {
      "cell_type": "markdown",
      "metadata": {
        "id": "J0efoXV3M3zV",
        "colab_type": "text"
      },
      "source": [
        "##STEP 4 : sample from a batch of transition(s,s',a, r) from the memory\n",
        "![alt text](https://github.com/Aspire-Mayank/EVA/blob/master/Phase2/Session9/step4-15.PNG?raw=true)"
      ]
    },
    {
      "cell_type": "code",
      "metadata": {
        "id": "JtaEfqjjNlkZ",
        "colab_type": "code",
        "colab": {}
      },
      "source": [
        "def train(self, replay_buffer, iterations, batch_size=100, discount=0.99,\n",
        "          tau = 0.005, policy_noise=0.2, noise_clip=0.5, policy_freq=2):\n",
        "   for it in range(iterations):\n",
        "     # Step 4 we sample from a batch of transition (s, s', a, r) from memory\n",
        "     batch_states, batch_next_states, batch_actions, batch_rewards, batch_dones \\\n",
        "          = replay_buffer.sample(batch_size)\n",
        "     state = torch.Tensor(batch_states).to(device)\n",
        "     next_state = torch.Tensor(batch_next_states).to(device)\n",
        "     action = torch.Tensor(batch_actions).to(device)\n",
        "     rewards = torch.Tensor(batch_rewards).to(device)\n",
        "     # done coming from Env feedback as one episode completed\n",
        "     done = torch.Tensor(batch_dones).to(device)"
      ],
      "execution_count": 0,
      "outputs": []
    },
    {
      "cell_type": "markdown",
      "metadata": {
        "id": "perRZrokUPJd",
        "colab_type": "text"
      },
      "source": [
        "##STEP 5 : From the next state s', the actor target plays the next action a'\n",
        "![alt text](https://github.com/Aspire-Mayank/EVA/blob/master/Phase2/Session9/step4.PNG?raw=true)"
      ]
    },
    {
      "cell_type": "code",
      "metadata": {
        "id": "lm0ZCd9GUzZM",
        "colab_type": "code",
        "colab": {}
      },
      "source": [
        "# step 5: From the next state s', the actor target play the next action a'\n",
        "next_action = self.actor_target.forward(next_state) "
      ],
      "execution_count": 0,
      "outputs": []
    },
    {
      "cell_type": "markdown",
      "metadata": {
        "id": "oLYMT-mleu-e",
        "colab_type": "text"
      },
      "source": [
        "##Step 6 : We add Gaussian noise to this next action a' and we clamp it in a range of values supported by the environment\n",
        "\n",
        "![alt text](https://github.com/Aspire-Mayank/EVA/blob/master/Phase2/Session9/step5.PNG?raw=true)"
      ]
    },
    {
      "cell_type": "code",
      "metadata": {
        "id": "vTVwNCmQgU9P",
        "colab_type": "code",
        "colab": {}
      },
      "source": [
        "noise = torch.Tensor(batch_actions).data.normal_(0, policy_noise).to(device)\n",
        "noise = noise.clamp(-noise_clip, noise_clip)\n",
        "next_action = (next_action + noise).clamp(-self.max_action, self.max_action)"
      ],
      "execution_count": 0,
      "outputs": []
    },
    {
      "cell_type": "markdown",
      "metadata": {
        "id": "yzNK8nQqj8rY",
        "colab_type": "text"
      },
      "source": [
        "##STEP 7 : The Two Critic targets take each the couple (s', a') as input and return two Q values, Qt1(s', a') and Qt2(s', a') as outputs.\n",
        "\n",
        "![alt text](https://github.com/Aspire-Mayank/EVA/blob/master/Phase2/Session9/step6.PNG?raw=true)"
      ]
    },
    {
      "cell_type": "code",
      "metadata": {
        "id": "CHPBowjpkrZE",
        "colab_type": "code",
        "colab": {}
      },
      "source": [
        "target_Q1, target_Q2 = self.critic_target.forward(next_state, next_action)"
      ],
      "execution_count": 0,
      "outputs": []
    },
    {
      "cell_type": "markdown",
      "metadata": {
        "id": "qd7pCTBTnZqV",
        "colab_type": "text"
      },
      "source": [
        "##STEP 8 : Keep the minimum of these two Q-Values\n",
        "\n",
        "![alt text](https://github.com/Aspire-Mayank/EVA/blob/master/Phase2/Session9/step7.PNG?raw=true)"
      ]
    },
    {
      "cell_type": "code",
      "metadata": {
        "id": "cMnRcmBYpTjr",
        "colab_type": "code",
        "colab": {}
      },
      "source": [
        "target_Q = torch.min(target_Q1, target_Q2)"
      ],
      "execution_count": 0,
      "outputs": []
    },
    {
      "cell_type": "markdown",
      "metadata": {
        "id": "N84uqZOtpj6U",
        "colab_type": "text"
      },
      "source": [
        "This is not target_Q, we are just being lazy, and want to use the same variable name later on."
      ]
    },
    {
      "cell_type": "markdown",
      "metadata": {
        "id": "WP8XRLcOp05c",
        "colab_type": "text"
      },
      "source": [
        "##STEP 9 : We get the final target of the two Critic models, which is \n",
        "\n",
        "![alt text](https://github.com/Aspire-Mayank/EVA/blob/master/Phase2/Session9/step8.PNG?raw=true)\n",
        ">  Target Qt = Reward + (gamma * min(Q1, Q2))\n",
        "\n",
        "> -> we can define \"target_q\" as \"Qt\" as \"reward + discount * torch.min(Q1, Q2)\" but it won't work. \n",
        "> 1. First, we are only supposed to run this if the episode is over, which means we need to intergate Done.\n",
        "\n",
        "> 2. Second, target_q would create it's BP/computation graph, and without detaching Qt1/Qt2 from their own graph, we are complicating things, i.e we need to use detach. let's look below:\n"
      ]
    },
    {
      "cell_type": "code",
      "metadata": {
        "id": "-pmqaEXntmXI",
        "colab_type": "code",
        "colab": {}
      },
      "source": [
        "## Step 9:\n",
        "#we get the final target of the two critic model, which is:\n",
        "#Qt = r + gamma*min(Qt1, Qt2)\n",
        "#target_Q = reward + (1-done) * discount * target_Q\n",
        "#0 = episode not over, 1 = episode over\n",
        "#we can't run the above equation efficiently as some components are in computational\n",
        "#graph and some are not. we need to make one minor modification\n",
        "target_Q = reward + ((1 - done) * discount * target_Q).detach()"
      ],
      "execution_count": 0,
      "outputs": []
    },
    {
      "cell_type": "markdown",
      "metadata": {
        "id": "IX-f2qw9ttA3",
        "colab_type": "text"
      },
      "source": [
        "##STEP 10 : Two critic models each take the couple(s, a) as input and return two Q-values\n",
        "\n",
        "![alt text](https://github.com/Aspire-Mayank/EVA/blob/master/Phase2/Session9/step9.PNG?raw=true)"
      ]
    },
    {
      "cell_type": "code",
      "metadata": {
        "id": "oLNYn8TNt299",
        "colab_type": "code",
        "colab": {}
      },
      "source": [
        "current_Q1, current_Q2 = self.critic.forward(state, action)"
      ],
      "execution_count": 0,
      "outputs": []
    },
    {
      "cell_type": "markdown",
      "metadata": {
        "id": "ca-3ee7yuVvH",
        "colab_type": "text"
      },
      "source": [
        "##STEP 11 : Compute the critic loss\n",
        "we compute the loss coming from the two critic models\n",
        "\n",
        "![alt text](https://github.com/Aspire-Mayank/EVA/blob/master/Phase2/Session9/step10.PNG?raw=true)"
      ]
    },
    {
      "cell_type": "code",
      "metadata": {
        "id": "VND9VQWUukdX",
        "colab_type": "code",
        "colab": {}
      },
      "source": [
        "critic_loss = F.mse_loss(current_Q1, target_Q) + F.mse_loss(current_Q2, target_Q)"
      ],
      "execution_count": 0,
      "outputs": []
    },
    {
      "cell_type": "markdown",
      "metadata": {
        "id": "pEahn_OhvyIH",
        "colab_type": "text"
      },
      "source": [
        "##STEP 12 : Backpropagate this critic loss and update the parameters of two critic models with Adam optimizer\n",
        "![alt_text](https://github.com/Aspire-Mayank/EVA/blob/master/Phase2/Session9/step11.PNG?raw=ture)"
      ]
    },
    {
      "cell_type": "code",
      "metadata": {
        "id": "g5SvWxJiwIcX",
        "colab_type": "code",
        "colab": {}
      },
      "source": [
        "self.critic_optimizer.zero_grad() # initializing the gradients to zero\n",
        "critic_loss.backward() # computing the gradients\n",
        "self.critic_optimizer.step() # performing the weight updates"
      ],
      "execution_count": 0,
      "outputs": []
    },
    {
      "cell_type": "markdown",
      "metadata": {
        "id": "ifagScopw6SE",
        "colab_type": "text"
      },
      "source": [
        "##STEP 13 : once every two iterations, we update our Actor model by performing gradient Ascent on the output of the first Critic model.\n",
        "\n",
        "![alt_text](https://github.com/Aspire-Mayank/EVA/blob/master/Phase2/Session9/step12.PNG?raw=true)"
      ]
    },
    {
      "cell_type": "code",
      "metadata": {
        "id": "HWdgcGqFxSq3",
        "colab_type": "code",
        "colab": {}
      },
      "source": [
        "if it % policy_freq == 0:\n",
        "  # This is DPG part\n",
        "  # Actor.forward.mean we need avg of all actor\n",
        "  actor_loss = -(self.critic.Q1(state, self.actor(state)).mean())\n",
        "  self.actor_optimizer.grad_zero()\n",
        "  actor_loss.backward()\n",
        "  self.actor_optimizer.step()\n",
        "\n",
        "#these above will happen two times plus critic will happen update \n",
        "# to make actor target update. by polyak avg. "
      ],
      "execution_count": 0,
      "outputs": []
    },
    {
      "cell_type": "markdown",
      "metadata": {
        "id": "P6JfA_AFzFMi",
        "colab_type": "text"
      },
      "source": [
        "##Step 14 : Still once every two iterations, we update the weights of the Actor target by Polyak Averaging\n",
        "![alt_text](https://github.com/Aspire-Mayank/EVA/blob/master/Phase2/Session9/step13.PNG?raw=true)"
      ]
    },
    {
      "cell_type": "code",
      "metadata": {
        "id": "Y-C8L3_vzTGo",
        "colab_type": "code",
        "colab": {}
      },
      "source": [
        "for param, target_param in zip(self.actor.parameters(), self.actor_target.parameters()):\n",
        "  target_param.data.copy_(tau*param.data + (1 -tau)*target_param.data)"
      ],
      "execution_count": 0,
      "outputs": []
    },
    {
      "cell_type": "markdown",
      "metadata": {
        "id": "kKqxyGzs0ZnJ",
        "colab_type": "text"
      },
      "source": [
        "##STEP 15 : still, in once every two iterations, we update the weights of our critic target by polyal Averaging\n",
        "\n",
        "![alt_true](https://github.com/Aspire-Mayank/EVA/blob/master/Phase2/Session9/step14.PNG?raw=true)"
      ]
    },
    {
      "cell_type": "code",
      "metadata": {
        "id": "P6RO5rwe0tlP",
        "colab_type": "code",
        "colab": {}
      },
      "source": [
        "for param, target_param in zip(self.critic.parameters(), self.critic_target.paramters()):\n",
        "  target_param.data.copy_(tau * param.data + (1 - tau) * target_param.data)\n",
        "\n",
        "# T3D is done Now!"
      ],
      "execution_count": 0,
      "outputs": []
    }
  ]
}