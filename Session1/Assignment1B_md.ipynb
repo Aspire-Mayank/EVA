{
  "nbformat": 4,
  "nbformat_minor": 0,
  "metadata": {
    "colab": {
      "name": "Assignment1B.md",
      "version": "0.3.2",
      "provenance": [],
      "collapsed_sections": [],
      "include_colab_link": true
    },
    "kernelspec": {
      "name": "python3",
      "display_name": "Python 3"
    }
  },
  "cells": [
    {
      "cell_type": "markdown",
      "metadata": {
        "id": "view-in-github",
        "colab_type": "text"
      },
      "source": [
        "<a href=\"https://colab.research.google.com/github/Mayank01/EVA/blob/master/Session1/Assignment1B_md.ipynb\" target=\"_parent\"><img src=\"https://colab.research.google.com/assets/colab-badge.svg\" alt=\"Open In Colab\"/></a>"
      ]
    },
    {
      "cell_type": "markdown",
      "metadata": {
        "id": "Yh7e5FiUPFOZ",
        "colab_type": "text"
      },
      "source": [
        "# EVA\n",
        "The School Of AI"
      ]
    },
    {
      "cell_type": "markdown",
      "metadata": {
        "id": "Ky2VN-hsOwNJ",
        "colab_type": "text"
      },
      "source": [
        "## 1. What are the channels and Kernals?\n",
        "\n",
        " ### Channels:\n",
        "- Channels is the data/content frequency over which all information is distributed in Input and output images.\n",
        "- Channels is also knows as ***Feature maps*** or ***Activation map***.\n",
        "\n",
        " ![alt text](https://www.researchgate.net/profile/Santhiya_Rajan/post/How_will_channels_RGB_effect_convolutional_neural_network/attachment/5c67b72d3843b0544e664e12/AS%3A726829115666434%401550300973344/download/cnn_1.gif)\n",
        "\n",
        " - Channels are the theme of image or input content. like if you have Colored Image it has three channels differentiate with RGB.\n",
        "- In case of Grayscale its one only. Channels helps to understand Image deeper as different application of classfication.\n",
        "\n",
        " ![alt text](https://machinethink.net/images/compressing-deep-neural-nets/Conv1@2x.png)\n",
        "\n",
        " ### Kernals:\n",
        "Kernel or filters words came from Image processing, its kind of small matrix or mask which we can move or slide on top of actual image as pixel by pixel, to get image information can say features or information, main objective of filters to get bunch of different features from same actual image. we can get blur,edges detected,smooth images as end result after masking.\n",
        "\n",
        " ![alt text](https://i.stack.imgur.com/9Iu89.gif)\n",
        "\n",
        " ## 2. Why should we only (well mostly) use 3x3 Kernels?\n",
        "\n",
        " In Image Proccessing, filters/kernals/Mask/Feature extractors plays important roles. \n",
        "\n",
        " ***why 3x3 is mostly/preferrably use below the points?***\n",
        "\n",
        " 1. If compared 5*5 with 3*3, we apply 3x3 kernel twice to get a final value, we actually used (3x3 + 3x3) weights. So, with smaller kernel sizes, we get lower number of weights and *more number of layers*.\n",
        "2. Due to the lower number of weights, this is computationally efficient.\n",
        "3. Due to the larger number of layers, it will learns complex, more non-linear features.\n",
        "4. With more number of layers, it will have to keep each of those layers in the memory to perform backpropogation. This necessitates the need for larger storage memory. \n",
        "\n",
        " ***Now Question arises why not 1x1, 2x2(odd filter)?***\n",
        "\n",
        " - Output layer pixel is the combination of convolving previous pixel layers. so all the previous layer pixel would be symmetrical around the output layer pixel.Without this symmetry, we will have to account for distortions across the layers. This will happen due to the usage of an even sized kernel. Therefore, even sized kernel filters aren’t preferred.\n",
        "\n",
        " - 1*1 is out of the list as it would extract feature be local, fine grained, and with not any contribution for neigbour pixels.\n",
        "\n",
        " ## 3. How many times do we need to perform 3x3 convolution operation to reach 1x1 from 199x199 (show calculations)\n",
        "\n",
        " 199x199x3 | 197x197x3 | 195x195x3 | 193x193x3 | 191x191x3 | 189x189            -5\n",
        "189x189x3 | 187x187x3 | 185x185x3 | 183x183x3 | 181x181x3 | 179x179    \n",
        "179x179x3 | 177x177x3 | 175x175x3 | 173x173x3 | 171x171x3 | 169x169\n",
        "169x169x3 | 167x167x3 | 165x165x3 | 163x163x3 | 161x161x3 | 159x159\n",
        "159x159x3 | 157x157x3 | 155x155x3 | 153x153x3 | 151x151x3 | 149x149x            - 5x5 = 25\n",
        "\n",
        " 149x149x3 | 147x147x3 | 145x145x3 | 143x143x3 | 141x141x3 | 139x139\n",
        "139x139x3 | 137x137x3 | 135x135x3 | 133x133x3 | 131x131x3 | 129x129\n",
        "129x129x3 | 127x127x3 | 125x125x3 | 123x123x3 | 121x121x3 | 119x119\n",
        "119x119x3 | 117x117x3 | 115x115x3 | 113x113x3 | 111x111x3 | 109x109\n",
        "109x109x3 | 107x107x3 | 105x105x3 | 103x103x3 | 101x101x3 | 99x99x                = 25\n",
        "\n",
        " 99x99x3 | 97x97x3 | 95x95x3 | 93x93x3 | 91x91x3 | 89x89\n",
        "89x89x3 | 87x87x3 | 85x85x3 | 83x83x3 | 81x81x3 | 79x79\n",
        "79x79x3 | 77x77x3 | 75x75x3 | 73x73x3 | 71x71x3 | 69x69\n",
        "69x69x3 | 67x67x3 | 65x65x3 | 63x63x3 | 61x61x3 | 59x59\n",
        "59x59x3 | 57x57x3 | 55x55x3 | 53x53x3 | 51x51x3 | 49x49x                            =25\n",
        "\n",
        " 49x49x3 | 47x47x3 | 45x45x3 | 43x43x3 | 41x41x3 | 39x39\n",
        "39x39x3 | 37x37x3 | 35x35x3 | 33x33x3 | 31x31x3 | 29x29\n",
        "29x29x3 | 27x27x3 | 25x25x3 | 23x23x3 | 21x21x3 | 19x19\n",
        "19x19x3 | 17x17x3 | 15x15x3 | 13x13x3 | 11x11x3 | 9x9\n",
        "9x9x3   |  7x7x3  |  5x5x3  | 3x3x3  |  1x1                                         = 24\n",
        "\n",
        " ***Total = 99***"
      ]
    }
  ]
}