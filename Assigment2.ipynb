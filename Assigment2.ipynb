{
  "nbformat": 4,
  "nbformat_minor": 0,
  "metadata": {
    "colab": {
      "name": "Assigment2.ipynb",
      "version": "0.3.2",
      "provenance": [],
      "collapsed_sections": [],
      "include_colab_link": true
    },
    "kernelspec": {
      "name": "python3",
      "display_name": "Python 3"
    },
    "accelerator": "GPU"
  },
  "cells": [
    {
      "cell_type": "markdown",
      "metadata": {
        "id": "view-in-github",
        "colab_type": "text"
      },
      "source": [
        "<a href=\"https://colab.research.google.com/github/Mayank01/EVA/blob/master/Assigment2.ipynb\" target=\"_parent\"><img src=\"https://colab.research.google.com/assets/colab-badge.svg\" alt=\"Open In Colab\"/></a>"
      ]
    },
    {
      "cell_type": "markdown",
      "metadata": {
        "id": "Gmb3rIlILfyy",
        "colab_type": "text"
      },
      "source": [
        "##Assigment 2:   "
      ]
    },
    {
      "cell_type": "code",
      "metadata": {
        "id": "lIxpn_khHfmq",
        "colab_type": "code",
        "outputId": "3137bc74-b62a-4ea9-b004-6add7947a2d3",
        "colab": {
          "base_uri": "https://localhost:8080/",
          "height": 33
        }
      },
      "source": [
        "# https://keras.io/\n",
        "# install keras Framework using pip\n",
        "# importing or loading keras library\n",
        "!pip install -q keras\n",
        "import keras"
      ],
      "execution_count": 0,
      "outputs": [
        {
          "output_type": "stream",
          "text": [
            "Using TensorFlow backend.\n"
          ],
          "name": "stderr"
        }
      ]
    },
    {
      "cell_type": "code",
      "metadata": {
        "id": "nRit7dl-H1uS",
        "colab_type": "code",
        "colab": {}
      },
      "source": [
        "#loading packages which required to do math array calculation: Numpy,\n",
        "# keras sequential models, layers which will use in CNN model, dataset to get learn for model \n",
        "import numpy as np\n",
        "from keras.models import Sequential\n",
        "from keras.layers import Flatten, Convolution2D\n",
        "from keras.utils import np_utils\n",
        "\n",
        "from keras.datasets import mnist"
      ],
      "execution_count": 0,
      "outputs": []
    },
    {
      "cell_type": "code",
      "metadata": {
        "id": "rWK0ur_LIuds",
        "colab_type": "code",
        "outputId": "eb8dc4a1-8288-47a0-dec6-cbc68b14eaf9",
        "colab": {
          "base_uri": "https://localhost:8080/",
          "height": 50
        }
      },
      "source": [
        "# mnist data set loading and divided into training and test data.\n",
        "(X_train, y_train),(X_test,y_test)= mnist.load_data()"
      ],
      "execution_count": 0,
      "outputs": [
        {
          "output_type": "stream",
          "text": [
            "Downloading data from https://s3.amazonaws.com/img-datasets/mnist.npz\n",
            "11493376/11490434 [==============================] - 1s 0us/step\n"
          ],
          "name": "stdout"
        }
      ]
    },
    {
      "cell_type": "code",
      "metadata": {
        "id": "gl9aCqRUJG1R",
        "colab_type": "code",
        "outputId": "6e04ad26-1d63-466d-d2f8-6da55696ce4d",
        "colab": {
          "base_uri": "https://localhost:8080/",
          "height": 302
        }
      },
      "source": [
        "# printing input training data shape/matrix.\n",
        "print(X_train.shape)\n",
        "# loading matplot library for visulization \n",
        "from matplotlib import pyplot as plt\n",
        "%matplotlib inline\n",
        "# plotting of Input training data value of 0th index \n",
        "plt.imshow(X_train[0])"
      ],
      "execution_count": 0,
      "outputs": [
        {
          "output_type": "stream",
          "text": [
            "(60000, 28, 28)\n"
          ],
          "name": "stdout"
        },
        {
          "output_type": "execute_result",
          "data": {
            "text/plain": [
              "<matplotlib.image.AxesImage at 0x7f6780814358>"
            ]
          },
          "metadata": {
            "tags": []
          },
          "execution_count": 5
        },
        {
          "output_type": "display_data",
          "data": {
            "image/png": "[encoded data removed]",
            "text/plain": [
              "<Figure size 432x288 with 1 Axes>"
            ]
          },
          "metadata": {
            "tags": []
          }
        }
      ]
    },
    {
      "cell_type": "code",
      "metadata": {
        "id": "lI8lETjzJ-vA",
        "colab_type": "code",
        "colab": {}
      },
      "source": [
        "# rearranging of training and test data of input image 28*28\n",
        "X_train = X_train.reshape(X_train.shape[0], 28, 28, 1)\n",
        "X_test = X_test.reshape(X_test.shape[0], 28, 28, 1)"
      ],
      "execution_count": 0,
      "outputs": []
    },
    {
      "cell_type": "code",
      "metadata": {
        "id": "7IeR3FrJK8cJ",
        "colab_type": "code",
        "colab": {}
      },
      "source": [
        "# Normalizing the data\n",
        "# casting of test, training data to float\n",
        "# diving cast data to 255 bytes\n",
        "X_train = X_train.astype('float32')\n",
        "X_test = X_test.astype('float32')\n",
        "X_train /= 255\n",
        "X_test /= 255"
      ],
      "execution_count": 0,
      "outputs": []
    },
    {
      "cell_type": "code",
      "metadata": {
        "id": "_RtA8VoNLkt7",
        "colab_type": "code",
        "outputId": "70995323-61c9-4b4b-c9be-7a90429b8da3",
        "colab": {
          "base_uri": "https://localhost:8080/",
          "height": 33
        }
      },
      "source": [
        "# printing Training Data from 0-10 indexs\n",
        "y_train[:10]"
      ],
      "execution_count": 0,
      "outputs": [
        {
          "output_type": "execute_result",
          "data": {
            "text/plain": [
              "array([5, 0, 4, 1, 9, 2, 1, 3, 1, 4], dtype=uint8)"
            ]
          },
          "metadata": {
            "tags": []
          },
          "execution_count": 8
        }
      ]
    },
    {
      "cell_type": "code",
      "metadata": {
        "id": "WC_5pEdfL4zN",
        "colab_type": "code",
        "colab": {}
      },
      "source": [
        "# convert 1-Dimensional class array to 10-Dimensional matrix using keras np_utils.\n",
        "Y_train = np_utils.to_categorical(y_train, 10)\n",
        "Y_test = np_utils.to_categorical(y_test, 10)"
      ],
      "execution_count": 0,
      "outputs": []
    },
    {
      "cell_type": "code",
      "metadata": {
        "id": "h5ydh0qtMvnu",
        "colab_type": "code",
        "outputId": "099980fa-e425-4692-cbae-42ee74070cd7",
        "colab": {
          "base_uri": "https://localhost:8080/",
          "height": 184
        }
      },
      "source": [
        "# After matrix conversion we gets below array\n",
        "Y_train[:10]"
      ],
      "execution_count": 0,
      "outputs": [
        {
          "output_type": "execute_result",
          "data": {
            "text/plain": [
              "array([[0., 0., 0., 0., 0., 1., 0., 0., 0., 0.],\n",
              "       [1., 0., 0., 0., 0., 0., 0., 0., 0., 0.],\n",
              "       [0., 0., 0., 0., 1., 0., 0., 0., 0., 0.],\n",
              "       [0., 1., 0., 0., 0., 0., 0., 0., 0., 0.],\n",
              "       [0., 0., 0., 0., 0., 0., 0., 0., 0., 1.],\n",
              "       [0., 0., 1., 0., 0., 0., 0., 0., 0., 0.],\n",
              "       [0., 1., 0., 0., 0., 0., 0., 0., 0., 0.],\n",
              "       [0., 0., 0., 1., 0., 0., 0., 0., 0., 0.],\n",
              "       [0., 1., 0., 0., 0., 0., 0., 0., 0., 0.],\n",
              "       [0., 0., 0., 0., 1., 0., 0., 0., 0., 0.]], dtype=float32)"
            ]
          },
          "metadata": {
            "tags": []
          },
          "execution_count": 10
        }
      ]
    },
    {
      "cell_type": "code",
      "metadata": {
        "id": "4WUSNj_POV3q",
        "colab_type": "code",
        "outputId": "87497f7a-da04-4f6d-c10f-6d784c274801",
        "colab": {
          "base_uri": "https://localhost:8080/",
          "height": 823
        }
      },
      "source": [
        "# loading packages for convolution layers  \n",
        "from keras.layers import Activation, MaxPooling2D\n",
        "\n",
        "# START BUILDING MODEL\n",
        "# 1. Start as Sequential model\n",
        "model = Sequential()\n",
        "\n",
        "# 2. adding Input image of size 28*28*of_channel_1 to Model\n",
        "# Kernal Size of 3*3*1 of no. 32 with activation function \"relu\"\n",
        "# RF for 1st layer would be :3\n",
        "model.add(Convolution2D(32, 3, 3, activation='relu', input_shape=(28, 28 ,1))) \n",
        "\n",
        "# 3. Now Input image for second layer would be (26,26,32) and\n",
        "# Kernal size for 2nd layer is 3*3*32 of count 64\n",
        "# Receptive Field for second layer 5*5 \n",
        "model.add(Convolution2D(64, 3, 3, activation='relu')) # RF : 5\n",
        "\n",
        "# 4. Input image for 3rd layer would be (24,24,64) and\n",
        "# kernal size of 3*3*64 of count 128\n",
        "model.add(Convolution2D(128, 3, 3, activation='relu')) # RF : 7\n",
        "\n",
        "# 5. Input Image to 4th layer(pooling) would be (22,22,128) \n",
        "# now Max pooling will reduce to half the resolution and\n",
        "# 1/4th to features.\n",
        "model.add(MaxPooling2D(pool_size=(2,2))) # RF would be double : 14\n",
        "\n",
        "# 6. Input image to 5th layer after max pooling is (11,11,128)\n",
        "# and kernal size is 3*3*128 of count 256\n",
        "model.add(Convolution2D(256, 3, 3, activation='relu')) # RF : 16\n",
        "\n",
        "# 7. Input image to 6th layer would be (9,9,256) and\n",
        "# kernal size would be 3*3*256 of count 512\n",
        "model.add(Convolution2D(512, 3, 3, activation='relu')) # RF : 18\n",
        "\n",
        "# 8. Input image to 7th layer would be (7,7,512) and\n",
        "# kernal size would be 3*3*512 of count 1024\n",
        "model.add(Convolution2D(1024, 3, 3, activation='relu')) # RF : 20\n",
        "\n",
        "# 9. Input image to 8th layer would be (5,5,1024) and\n",
        "# kernal size would be 3*3*1024 of count 2048\n",
        "model.add(Convolution2D(2048, 3, 3, activation='relu')) # RF : 22\n",
        "\n",
        "# 10. Input image to 9th layer would be (3,3,2048) and\n",
        "# kernal size would be 3*3*2048 of count 10\n",
        "model.add(Convolution2D(10, 3, 3, activation='relu')) # RF :24\n",
        "\n",
        "# 11. Input image to Flatten layer would be (1,1,10) and\n",
        "# Flatten layer bring down all multi-layer image to single plane.\n",
        "model.add(Flatten())\n",
        "\n",
        "# 12. Activation Function is to smoothing the output classes\n",
        "# Classifier at last to predict output from model\n",
        "# to normalize the output with continuos distribution\n",
        "model.add(Activation('softmax'))\n",
        "\n",
        "model.summary()\n",
        "\n"
      ],
      "execution_count": 0,
      "outputs": [
        {
          "output_type": "stream",
          "text": [
            "WARNING:tensorflow:From /usr/local/lib/python3.6/dist-packages/tensorflow/python/framework/op_def_library.py:263: colocate_with (from tensorflow.python.framework.ops) is deprecated and will be removed in a future version.\n",
            "Instructions for updating:\n",
            "Colocations handled automatically by placer.\n"
          ],
          "name": "stdout"
        },
        {
          "output_type": "stream",
          "text": [
            "/usr/local/lib/python3.6/dist-packages/ipykernel_launcher.py:5: UserWarning: Update your `Conv2D` call to the Keras 2 API: `Conv2D(32, (3, 3), activation=\"relu\", input_shape=(28, 28, 1...)`\n",
            "  \"\"\"\n",
            "/usr/local/lib/python3.6/dist-packages/ipykernel_launcher.py:8: UserWarning: Update your `Conv2D` call to the Keras 2 API: `Conv2D(64, (3, 3), activation=\"relu\")`\n",
            "  \n",
            "/usr/local/lib/python3.6/dist-packages/ipykernel_launcher.py:9: UserWarning: Update your `Conv2D` call to the Keras 2 API: `Conv2D(128, (3, 3), activation=\"relu\")`\n",
            "  if __name__ == '__main__':\n",
            "/usr/local/lib/python3.6/dist-packages/ipykernel_launcher.py:13: UserWarning: Update your `Conv2D` call to the Keras 2 API: `Conv2D(256, (3, 3), activation=\"relu\")`\n",
            "  del sys.path[0]\n",
            "/usr/local/lib/python3.6/dist-packages/ipykernel_launcher.py:14: UserWarning: Update your `Conv2D` call to the Keras 2 API: `Conv2D(512, (3, 3), activation=\"relu\")`\n",
            "  \n",
            "/usr/local/lib/python3.6/dist-packages/ipykernel_launcher.py:15: UserWarning: Update your `Conv2D` call to the Keras 2 API: `Conv2D(1024, (3, 3), activation=\"relu\")`\n",
            "  from ipykernel import kernelapp as app\n",
            "/usr/local/lib/python3.6/dist-packages/ipykernel_launcher.py:16: UserWarning: Update your `Conv2D` call to the Keras 2 API: `Conv2D(2048, (3, 3), activation=\"relu\")`\n",
            "  app.launch_new_instance()\n",
            "/usr/local/lib/python3.6/dist-packages/ipykernel_launcher.py:17: UserWarning: Update your `Conv2D` call to the Keras 2 API: `Conv2D(10, (3, 3), activation=\"relu\")`\n"
          ],
          "name": "stderr"
        },
        {
          "output_type": "stream",
          "text": [
            "_________________________________________________________________\n",
            "Layer (type)                 Output Shape              Param #   \n",
            "=================================================================\n",
            "conv2d_1 (Conv2D)            (None, 26, 26, 32)        320       \n",
            "_________________________________________________________________\n",
            "conv2d_2 (Conv2D)            (None, 24, 24, 64)        18496     \n",
            "_________________________________________________________________\n",
            "conv2d_3 (Conv2D)            (None, 22, 22, 128)       73856     \n",
            "_________________________________________________________________\n",
            "max_pooling2d_1 (MaxPooling2 (None, 11, 11, 128)       0         \n",
            "_________________________________________________________________\n",
            "conv2d_4 (Conv2D)            (None, 9, 9, 256)         295168    \n",
            "_________________________________________________________________\n",
            "conv2d_5 (Conv2D)            (None, 7, 7, 512)         1180160   \n",
            "_________________________________________________________________\n",
            "conv2d_6 (Conv2D)            (None, 5, 5, 1024)        4719616   \n",
            "_________________________________________________________________\n",
            "conv2d_7 (Conv2D)            (None, 3, 3, 2048)        18876416  \n",
            "_________________________________________________________________\n",
            "conv2d_8 (Conv2D)            (None, 1, 1, 10)          184330    \n",
            "_________________________________________________________________\n",
            "flatten_1 (Flatten)          (None, 10)                0         \n",
            "_________________________________________________________________\n",
            "activation_1 (Activation)    (None, 10)                0         \n",
            "=================================================================\n",
            "Total params: 25,348,362\n",
            "Trainable params: 25,348,362\n",
            "Non-trainable params: 0\n",
            "_________________________________________________________________\n"
          ],
          "name": "stdout"
        }
      ]
    },
    {
      "cell_type": "code",
      "metadata": {
        "id": "pCfcnFNASd9Z",
        "colab_type": "code",
        "colab": {}
      },
      "source": [
        "# Loss Function, Optimizer, \n",
        "# Loss Function to calculate deflection/Difference btw actual value and predicted value\n",
        "# For Accurate prediction we need to minimize error which is work of backpropogation\n",
        "# the proccess to minimize error using updating weights and bias by function called \"optimizer\"\n",
        "model.compile(loss='categorical_crossentropy',\n",
        "             optimizer='adam',\n",
        "             metrics=['accuracy'])"
      ],
      "execution_count": 0,
      "outputs": []
    },
    {
      "cell_type": "code",
      "metadata": {
        "id": "V5u1TRH7QlLP",
        "colab_type": "code",
        "outputId": "84a0e193-c673-4117-a49d-531c3bc66877",
        "colab": {
          "base_uri": "https://localhost:8080/",
          "height": 472
        }
      },
      "source": [
        "# to fit model btw X_train and predicted y_train)\n",
        "model.fit(X_train, Y_train, batch_size=32, nb_epoch=10, verbose=1)"
      ],
      "execution_count": 0,
      "outputs": [
        {
          "output_type": "stream",
          "text": [
            "WARNING:tensorflow:From /usr/local/lib/python3.6/dist-packages/tensorflow/python/ops/math_ops.py:3066: to_int32 (from tensorflow.python.ops.math_ops) is deprecated and will be removed in a future version.\n",
            "Instructions for updating:\n",
            "Use tf.cast instead.\n"
          ],
          "name": "stdout"
        },
        {
          "output_type": "stream",
          "text": [
            "/usr/local/lib/python3.6/dist-packages/ipykernel_launcher.py:1: UserWarning: The `nb_epoch` argument in `fit` has been renamed `epochs`.\n",
            "  \"\"\"Entry point for launching an IPython kernel.\n"
          ],
          "name": "stderr"
        },
        {
          "output_type": "stream",
          "text": [
            "Epoch 1/10\n",
            "60000/60000 [==============================] - 120s 2ms/step - loss: 1.4834 - acc: 0.3856\n",
            "Epoch 2/10\n",
            "60000/60000 [==============================] - 113s 2ms/step - loss: 1.2851 - acc: 0.4569\n",
            "Epoch 3/10\n",
            "60000/60000 [==============================] - 113s 2ms/step - loss: 1.1980 - acc: 0.4899\n",
            "Epoch 4/10\n",
            "60000/60000 [==============================] - 112s 2ms/step - loss: 1.1931 - acc: 0.4911\n",
            "Epoch 5/10\n",
            "60000/60000 [==============================] - 112s 2ms/step - loss: 1.1889 - acc: 0.4918\n",
            "Epoch 6/10\n",
            "60000/60000 [==============================] - 112s 2ms/step - loss: 1.1864 - acc: 0.4915\n",
            "Epoch 7/10\n",
            "60000/60000 [==============================] - 112s 2ms/step - loss: 1.1878 - acc: 0.4914\n",
            "Epoch 8/10\n",
            "60000/60000 [==============================] - 112s 2ms/step - loss: 1.1802 - acc: 0.4926\n",
            "Epoch 9/10\n",
            "60000/60000 [==============================] - 112s 2ms/step - loss: 1.1812 - acc: 0.4928\n",
            "Epoch 10/10\n",
            "60000/60000 [==============================] - 112s 2ms/step - loss: 1.1811 - acc: 0.4924\n"
          ],
          "name": "stdout"
        },
        {
          "output_type": "execute_result",
          "data": {
            "text/plain": [
              "<keras.callbacks.History at 0x7f677d621780>"
            ]
          },
          "metadata": {
            "tags": []
          },
          "execution_count": 13
        }
      ]
    },
    {
      "cell_type": "code",
      "metadata": {
        "id": "_ItcFufgTany",
        "colab_type": "code",
        "colab": {}
      },
      "source": [
        "# Model to evaluate the score on the basis of actual output and predicted output. \n",
        "# it will evaluate loss and Accuracy\n",
        "score= model.evaluate(X_test, Y_test, verbose=0)"
      ],
      "execution_count": 0,
      "outputs": []
    },
    {
      "cell_type": "code",
      "metadata": {
        "id": "nN0nR5cbTlMh",
        "colab_type": "code",
        "outputId": "2178375e-bef2-4cdc-f076-b9536408e3f4",
        "colab": {
          "base_uri": "https://localhost:8080/",
          "height": 33
        }
      },
      "source": [
        "print(score)\n",
        "# model[loss, Accurarcy]"
      ],
      "execution_count": 0,
      "outputs": [
        {
          "output_type": "stream",
          "text": [
            "[1.1859116373062133, 0.4918]\n"
          ],
          "name": "stdout"
        }
      ]
    },
    {
      "cell_type": "code",
      "metadata": {
        "id": "hINiNvFvTv5J",
        "colab_type": "code",
        "colab": {}
      },
      "source": [
        "# Model predicting Y_pred from X_test data\n",
        "y_pred = model.predict(X_test)"
      ],
      "execution_count": 0,
      "outputs": []
    },
    {
      "cell_type": "code",
      "metadata": {
        "id": "HV-CPWp3UCpf",
        "colab_type": "code",
        "outputId": "723297f0-06bb-418a-f071-395825cb19d2",
        "colab": {
          "base_uri": "https://localhost:8080/",
          "height": 334
        }
      },
      "source": [
        "print(y_pred[:9])\n",
        "print(y_test[:9])"
      ],
      "execution_count": 0,
      "outputs": [
        {
          "output_type": "stream",
          "text": [
            "[[1.0000000e-01 1.0000000e-01 1.0000000e-01 1.0000000e-01 1.0000000e-01\n",
            "  1.0000000e-01 1.0000000e-01 1.0000000e-01 1.0000000e-01 1.0000000e-01]\n",
            " [1.0000000e-01 1.0000000e-01 1.0000000e-01 1.0000000e-01 1.0000000e-01\n",
            "  1.0000000e-01 1.0000000e-01 1.0000000e-01 1.0000000e-01 1.0000000e-01]\n",
            " [4.3956765e-11 1.0000000e+00 4.3956765e-11 4.3956765e-11 4.3956765e-11\n",
            "  4.3956765e-11 4.3956765e-11 4.3956765e-11 4.3956765e-11 4.3956765e-11]\n",
            " [9.9999988e-01 1.5426824e-08 1.5426824e-08 1.5426824e-08 1.5426824e-08\n",
            "  1.5426824e-08 1.5426824e-08 1.5426824e-08 1.5426824e-08 1.5426824e-08]\n",
            " [8.6081918e-29 8.6081918e-29 8.6081918e-29 8.6081918e-29 1.0000000e+00\n",
            "  8.6081918e-29 8.6081918e-29 8.6081918e-29 8.6081918e-29 8.6081918e-29]\n",
            " [9.1899738e-11 1.0000000e+00 9.1899738e-11 9.1899738e-11 9.1899738e-11\n",
            "  9.1899738e-11 9.1899738e-11 9.1899738e-11 9.1899738e-11 9.1899738e-11]\n",
            " [3.6897546e-17 3.6897546e-17 3.6897546e-17 3.6897546e-17 1.0000000e+00\n",
            "  3.6897546e-17 3.6897546e-17 3.6897546e-17 3.6897546e-17 3.6897546e-17]\n",
            " [1.0000000e-01 1.0000000e-01 1.0000000e-01 1.0000000e-01 1.0000000e-01\n",
            "  1.0000000e-01 1.0000000e-01 1.0000000e-01 1.0000000e-01 1.0000000e-01]\n",
            " [1.5715580e-06 1.5715580e-06 1.5715580e-06 1.5715580e-06 1.5715580e-06\n",
            "  9.9998593e-01 1.5715580e-06 1.5715580e-06 1.5715580e-06 1.5715580e-06]]\n",
            "[7 2 1 0 4 1 4 9 5]\n"
          ],
          "name": "stdout"
        }
      ]
    },
    {
      "cell_type": "markdown",
      "metadata": {
        "id": "5ovcK_oeDujR",
        "colab_type": "text"
      },
      "source": [
        "### EXPLAINATION : \n",
        ">***Q. What went wrong ???***\n",
        "> As we know image feature distributed/consists of \n",
        "\n",
        ">**edges, gradients --> texture --> pattern --> parts of object --> object --> scene**\n",
        "\n",
        ">1. In these model after getting features in initial convolution layer, still increases depth of model(channels)\n",
        "2. Input image in dataset is simple which doesn't have much comples features maps.\n",
        "3. Channels will help to get feature but once getting features we need to maintain parameter too.\n",
        "4. We can still be use 32 channels as input and make it constant to acheive output in multiple layers.\n",
        "5. and max pooling also help to get important features early and decrease layer counts.\n",
        "6. This model exceed the RF as we know image should be equal to size of object, which is achieved in initial stage of convolution layers, but still added channels and layers in above models.\n",
        "7. In this model Validation accuracy was worst after 10 epochs it was still 49% , it seems if you run 100 epochs too it will overffit and won't gain any addition to accuracy.\n",
        "8. Loss is too much in this model as channels depth increases which increase model time to calculate. Model already learn important features in initial convolution layers, no need to increase depth of model.\n"
      ]
    }
  ]
}