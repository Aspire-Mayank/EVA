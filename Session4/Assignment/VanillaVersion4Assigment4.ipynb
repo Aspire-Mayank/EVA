{
  "nbformat": 4,
  "nbformat_minor": 0,
  "metadata": {
    "colab": {
      "name": "VanillaVersion4Assigment4.ipynb",
      "version": "0.3.2",
      "provenance": [],
      "collapsed_sections": []
    },
    "kernelspec": {
      "name": "python3",
      "display_name": "Python 3"
    },
    "accelerator": "GPU"
  },
  "cells": [
    {
      "cell_type": "markdown",
      "metadata": {
        "id": "N-zJJyU6Cdz-",
        "colab_type": "text"
      },
      "source": [
        "##Vanilla Version -4 : Assigment 4 "
      ]
    },
    {
      "cell_type": "markdown",
      "metadata": {
        "id": "a3xCHpPfXvNV",
        "colab_type": "text"
      },
      "source": [
        "###Installing Important weapons of DNN (keras)"
      ]
    },
    {
      "cell_type": "code",
      "metadata": {
        "id": "Ae4NIzdbud8B",
        "colab_type": "code",
        "colab": {}
      },
      "source": [
        "# https://keras.io/\n",
        "!pip install -q keras\n",
        "import keras"
      ],
      "execution_count": 0,
      "outputs": []
    },
    {
      "cell_type": "markdown",
      "metadata": {
        "id": "QDpnnNKjwe4-",
        "colab_type": "text"
      },
      "source": [
        "###Installing Keras and related core assualts for using in Neural Network"
      ]
    },
    {
      "cell_type": "code",
      "metadata": {
        "id": "86xOwp-TwgA5",
        "colab_type": "code",
        "colab": {}
      },
      "source": [
        "import numpy as np\n",
        "\n",
        "from keras.models import Sequential\n",
        "from keras.layers import Dense, Dropout, Activation, Flatten, Add\n",
        "from keras.layers import Convolution2D, MaxPooling2D\n",
        "from keras.utils import np_utils\n",
        "\n",
        "from keras.datasets import mnist"
      ],
      "execution_count": 0,
      "outputs": []
    },
    {
      "cell_type": "markdown",
      "metadata": {
        "id": "RVypk1MTwk4A",
        "colab_type": "text"
      },
      "source": [
        "###Loading pre-Shuffled MNIST DataSet in Training and Test "
      ]
    },
    {
      "cell_type": "code",
      "metadata": {
        "id": "ytd3xOp2wlGq",
        "colab_type": "code",
        "colab": {}
      },
      "source": [
        "(X_train, y_train), (X_test, y_test) = mnist.load_data()"
      ],
      "execution_count": 0,
      "outputs": []
    },
    {
      "cell_type": "markdown",
      "metadata": {
        "id": "eL5f_VexGdzB",
        "colab_type": "text"
      },
      "source": [
        "###We can confirm and see we have 60K sample images each of size 28x28, will plot and see sample images."
      ]
    },
    {
      "cell_type": "code",
      "metadata": {
        "id": "0bW6SMjAwnMo",
        "colab_type": "code",
        "outputId": "5d4ed395-ba8a-4b90-a5ac-0d5d87f5cf79",
        "colab": {
          "base_uri": "https://localhost:8080/",
          "height": 302
        }
      },
      "source": [
        "print (X_train.shape)\n",
        "from matplotlib import pyplot as plt\n",
        "%matplotlib inline\n",
        "plt.imshow(X_train[9])"
      ],
      "execution_count": 42,
      "outputs": [
        {
          "output_type": "stream",
          "text": [
            "(60000, 28, 28)\n"
          ],
          "name": "stdout"
        },
        {
          "output_type": "execute_result",
          "data": {
            "text/plain": [
              "<matplotlib.image.AxesImage at 0x7fb440baf898>"
            ]
          },
          "metadata": {
            "tags": []
          },
          "execution_count": 42
        },
        {
          "output_type": "display_data",
          "data": {
            "image/png": "[encoded data removed]",
            "text/plain": [
              "<Figure size 432x288 with 1 Axes>"
            ]
          },
          "metadata": {
            "tags": []
          }
        }
      ]
    },
    {
      "cell_type": "markdown",
      "metadata": {
        "id": "AFdJEZR6D556",
        "colab_type": "text"
      },
      "source": [
        "###Preprocess input data for Keras.\n",
        ">***A full-color image with all 3 RGB channels will have a depth of 3.Our MNIST images only have a depth of 1, but we must explicitly declare that.***\n",
        "\n",
        ">***In other words, we want to transform our dataset from having shape (n, width, height) to (n, depth, width, height)***."
      ]
    },
    {
      "cell_type": "code",
      "metadata": {
        "id": "-8GM5d6FwtpQ",
        "colab_type": "code",
        "colab": {}
      },
      "source": [
        "#Converting/Reshaping 2-D dimenional Grayscale image to keras specific 4-D input/output form\n",
        "X_train = X_train.reshape(X_train.shape[0], 28, 28,1)\n",
        "X_test = X_test.reshape(X_test.shape[0], 28, 28,1)"
      ],
      "execution_count": 0,
      "outputs": []
    },
    {
      "cell_type": "markdown",
      "metadata": {
        "id": "wgSDr3SKIfR_",
        "colab_type": "text"
      },
      "source": [
        "### Final preprocessing step for the input data is to convert our data type to float32 and normalize our data values to the range"
      ]
    },
    {
      "cell_type": "code",
      "metadata": {
        "id": "8pR9xaZIwwPA",
        "colab_type": "code",
        "colab": {}
      },
      "source": [
        "X_train = X_train.astype('float32')\n",
        "X_test = X_test.astype('float32')\n",
        "X_train /= 255\n",
        "X_test /= 255"
      ],
      "execution_count": 0,
      "outputs": []
    },
    {
      "cell_type": "markdown",
      "metadata": {
        "id": "B5e-2aoeIzTk",
        "colab_type": "text"
      },
      "source": [
        "###Preprocess class labels for Keras.\n",
        ">***let's take a look at the shape of our class label data***\n"
      ]
    },
    {
      "cell_type": "code",
      "metadata": {
        "id": "8uU-4luwKB6a",
        "colab_type": "code",
        "outputId": "12671c35-5778-4672-a548-3cb6615e67e6",
        "colab": {
          "base_uri": "https://localhost:8080/",
          "height": 33
        }
      },
      "source": [
        "print(y_train.shape)"
      ],
      "execution_count": 45,
      "outputs": [
        {
          "output_type": "stream",
          "text": [
            "(60000,)\n"
          ],
          "name": "stdout"
        }
      ]
    },
    {
      "cell_type": "markdown",
      "metadata": {
        "id": "lfeYxqo5KDDK",
        "colab_type": "text"
      },
      "source": [
        "\n",
        ">***We should have 10 different classes, one for each digit, but it looks like we only have a 1-dimensional array.***\n",
        "\n",
        ">***Let's take a look at the labels for the first 10 training samples:***"
      ]
    },
    {
      "cell_type": "code",
      "metadata": {
        "id": "sR0OBUoQwyiR",
        "colab_type": "code",
        "outputId": "16941458-650a-4eca-f02f-df75823dd92c",
        "colab": {
          "base_uri": "https://localhost:8080/",
          "height": 33
        }
      },
      "source": [
        "y_train[:10]"
      ],
      "execution_count": 46,
      "outputs": [
        {
          "output_type": "execute_result",
          "data": {
            "text/plain": [
              "array([5, 0, 4, 1, 9, 2, 1, 3, 1, 4], dtype=uint8)"
            ]
          },
          "metadata": {
            "tags": []
          },
          "execution_count": 46
        }
      ]
    },
    {
      "cell_type": "markdown",
      "metadata": {
        "id": "PC3ZTzfaKkGg",
        "colab_type": "text"
      },
      "source": [
        "###And there's the problem. The y_train and y_test data are not split into 10 distinct class labels, but rather are represented as a single array with the class values.\n",
        "\n",
        ">***1. We can fix this easily:***"
      ]
    },
    {
      "cell_type": "code",
      "metadata": {
        "id": "zvkD7VfNvsOC",
        "colab_type": "code",
        "colab": {}
      },
      "source": [
        "# Convert 1-dimensional class arrays to 10-dimensional class matrices\n",
        "Y_train = np_utils.to_categorical(y_train, 10)\n",
        "Y_test = np_utils.to_categorical(y_test, 10)"
      ],
      "execution_count": 0,
      "outputs": []
    },
    {
      "cell_type": "markdown",
      "metadata": {
        "id": "T9x3rm3DK8x8",
        "colab_type": "text"
      },
      "source": [
        "###Now have a look:"
      ]
    },
    {
      "cell_type": "code",
      "metadata": {
        "id": "pAqV4GDNLKJU",
        "colab_type": "code",
        "outputId": "dff509d1-0d5a-4038-ca4e-4184d2748134",
        "colab": {
          "base_uri": "https://localhost:8080/",
          "height": 33
        }
      },
      "source": [
        "print (Y_train.shape)"
      ],
      "execution_count": 48,
      "outputs": [
        {
          "output_type": "stream",
          "text": [
            "(60000, 10)\n"
          ],
          "name": "stdout"
        }
      ]
    },
    {
      "cell_type": "code",
      "metadata": {
        "id": "uJFFdoIZvvYN",
        "colab_type": "code",
        "outputId": "9d378056-9610-4f1f-91fe-ce1a229b9070",
        "colab": {
          "base_uri": "https://localhost:8080/",
          "height": 184
        }
      },
      "source": [
        "Y_train[:10]"
      ],
      "execution_count": 49,
      "outputs": [
        {
          "output_type": "execute_result",
          "data": {
            "text/plain": [
              "array([[0., 0., 0., 0., 0., 1., 0., 0., 0., 0.],\n",
              "       [1., 0., 0., 0., 0., 0., 0., 0., 0., 0.],\n",
              "       [0., 0., 0., 0., 1., 0., 0., 0., 0., 0.],\n",
              "       [0., 1., 0., 0., 0., 0., 0., 0., 0., 0.],\n",
              "       [0., 0., 0., 0., 0., 0., 0., 0., 0., 1.],\n",
              "       [0., 0., 1., 0., 0., 0., 0., 0., 0., 0.],\n",
              "       [0., 1., 0., 0., 0., 0., 0., 0., 0., 0.],\n",
              "       [0., 0., 0., 1., 0., 0., 0., 0., 0., 0.],\n",
              "       [0., 1., 0., 0., 0., 0., 0., 0., 0., 0.],\n",
              "       [0., 0., 0., 0., 1., 0., 0., 0., 0., 0.]], dtype=float32)"
            ]
          },
          "metadata": {
            "tags": []
          },
          "execution_count": 49
        }
      ]
    },
    {
      "cell_type": "markdown",
      "metadata": {
        "id": "EmzftdD7LW7T",
        "colab_type": "text"
      },
      "source": [
        "##Define Model Architechture :"
      ]
    },
    {
      "cell_type": "code",
      "metadata": {
        "id": "8aZ7ugF4w3KJ",
        "colab_type": "code",
        "outputId": "b6a76f78-e4e9-49cf-ef67-8e6b7a284856",
        "colab": {
          "base_uri": "https://localhost:8080/",
          "height": 187
        }
      },
      "source": [
        "#Importing core Functions of Keras layers which will use in Neural Network\n",
        "from keras.layers import Activation, BatchNormalization\n",
        "\n",
        "#Now Will start with Sequential Model\n",
        "model = Sequential()\n",
        "\n",
        "#Adding Input Layer:\n",
        "#Input Image size 28x28x1\n",
        "#convolution filter/kernal size is 3x3x1 of count/row : 10\n",
        "model.add(Convolution2D(10, 3, 3, activation='relu', input_shape=(28,28,1))) # 26\n",
        "#BatchNorms will normalize weights using Mean, Variance of each channels pixel-wise in particular layer\n",
        "model.add(BatchNormalization())\n",
        "#adding Dropouts(10% drops in pixel values randomly) which drops random nueron/pixel in particular layer which helps model to learn other params exceplicitly\n",
        "model.add(Dropout(0.1))\n",
        "\n",
        "#Input image to these layer is 26x26x10\n",
        "#Kernal/filter size : 3x3x10 of number/count/row : 16\n",
        "model.add(Convolution2D(16, 3, 3, activation='relu')) # 24\n",
        "model.add(BatchNormalization())\n",
        "model.add(Dropout(0.1))\n",
        "\n",
        "#Input image to these layer is 24x24x10\n",
        "#Kernal/filter size : 1x1x16 of number/count/row : 10\n",
        "#1x1 convolution layer which helps to reduce channel size and increase particular features amplitude.\n",
        "model.add(Convolution2D(10, 1, 1, activation='relu')) # 24\n",
        "\n",
        "#MaxPooling2D is a way to reduce the number of parameters in our model by sliding a 2x2 pooling,\n",
        "#filter across the previous layer and taking the max of the 4 values in the 2x2 filter.\n",
        "model.add(MaxPooling2D(pool_size=(2, 2))) # 12\n",
        "#model.add(Convolution2D(10, 1, 1, activation='relu')) # 12\n",
        "\n",
        "#Input image to these layer is 12x12x10\n",
        "#Kernal/filter size : 3x3x10 of number/count/row : 16\n",
        "model.add(Convolution2D(16, 3, 3, activation='relu')) # 10\n",
        "model.add(BatchNormalization())\n",
        "model.add(Dropout(0.1))\n",
        "\n",
        "#Input image to these layer is 10x10x16\n",
        "#Kernal/filter size : 3x3x16 of number/count/row : 16\n",
        "model.add(Convolution2D(16, 3, 3, activation='relu')) # 8\n",
        "model.add(BatchNormalization())\n",
        "model.add(Dropout(0.1))\n",
        "\n",
        "#Input image to these layer is 8x8x16\n",
        "#Kernal/filter size : 3x3x16 of number/count/row : 16\n",
        "model.add(Convolution2D(16, 3, 3, activation='relu')) # 6\n",
        "model.add(BatchNormalization())\n",
        "model.add(Dropout(0.1))\n",
        "\n",
        "#Input image to these layer is 6x6x16\n",
        "#Kernal/filter size : 3x3x16 of number/count/row : 16\n",
        "model.add(Convolution2D(16, 3, 3, activation='relu')) # 4\n",
        "model.add(BatchNormalization())\n",
        "model.add(Dropout(0.1))\n",
        "\n",
        "#model.add(Convolution2D(10, 1, activation='relu')) #4\n",
        "model.add(Convolution2D(10, 4, 4))\n",
        "\n",
        "#Before prediction layer we should flatten all convolution weights of neuron\n",
        "model.add(Flatten())\n",
        "model.add(Activation('softmax'))"
      ],
      "execution_count": 50,
      "outputs": [
        {
          "output_type": "stream",
          "text": [
            "/usr/local/lib/python3.6/dist-packages/ipykernel_launcher.py:9: UserWarning: Update your `Conv2D` call to the Keras 2 API: `Conv2D(10, (3, 3), activation=\"relu\", input_shape=(28, 28, 1...)`\n",
            "  if __name__ == '__main__':\n",
            "/usr/local/lib/python3.6/dist-packages/ipykernel_launcher.py:17: UserWarning: Update your `Conv2D` call to the Keras 2 API: `Conv2D(16, (3, 3), activation=\"relu\")`\n",
            "/usr/local/lib/python3.6/dist-packages/ipykernel_launcher.py:24: UserWarning: Update your `Conv2D` call to the Keras 2 API: `Conv2D(10, (1, 1), activation=\"relu\")`\n",
            "/usr/local/lib/python3.6/dist-packages/ipykernel_launcher.py:33: UserWarning: Update your `Conv2D` call to the Keras 2 API: `Conv2D(16, (3, 3), activation=\"relu\")`\n",
            "/usr/local/lib/python3.6/dist-packages/ipykernel_launcher.py:39: UserWarning: Update your `Conv2D` call to the Keras 2 API: `Conv2D(16, (3, 3), activation=\"relu\")`\n",
            "/usr/local/lib/python3.6/dist-packages/ipykernel_launcher.py:45: UserWarning: Update your `Conv2D` call to the Keras 2 API: `Conv2D(16, (3, 3), activation=\"relu\")`\n",
            "/usr/local/lib/python3.6/dist-packages/ipykernel_launcher.py:51: UserWarning: Update your `Conv2D` call to the Keras 2 API: `Conv2D(16, (3, 3), activation=\"relu\")`\n",
            "/usr/local/lib/python3.6/dist-packages/ipykernel_launcher.py:56: UserWarning: Update your `Conv2D` call to the Keras 2 API: `Conv2D(10, (4, 4))`\n"
          ],
          "name": "stderr"
        }
      ]
    },
    {
      "cell_type": "code",
      "metadata": {
        "id": "g6iA_H0Mw5Wh",
        "colab_type": "code",
        "outputId": "421e9e4d-67c2-4ffd-8e2f-00270a750fe4",
        "colab": {
          "base_uri": "https://localhost:8080/",
          "height": 903
        }
      },
      "source": [
        "model.summary()"
      ],
      "execution_count": 51,
      "outputs": [
        {
          "output_type": "stream",
          "text": [
            "_________________________________________________________________\n",
            "Layer (type)                 Output Shape              Param #   \n",
            "=================================================================\n",
            "conv2d_17 (Conv2D)           (None, 26, 26, 10)        100       \n",
            "_________________________________________________________________\n",
            "batch_normalization_13 (Batc (None, 26, 26, 10)        40        \n",
            "_________________________________________________________________\n",
            "dropout_12 (Dropout)         (None, 26, 26, 10)        0         \n",
            "_________________________________________________________________\n",
            "conv2d_18 (Conv2D)           (None, 24, 24, 16)        1456      \n",
            "_________________________________________________________________\n",
            "batch_normalization_14 (Batc (None, 24, 24, 16)        64        \n",
            "_________________________________________________________________\n",
            "dropout_13 (Dropout)         (None, 24, 24, 16)        0         \n",
            "_________________________________________________________________\n",
            "conv2d_19 (Conv2D)           (None, 24, 24, 10)        170       \n",
            "_________________________________________________________________\n",
            "max_pooling2d_3 (MaxPooling2 (None, 12, 12, 10)        0         \n",
            "_________________________________________________________________\n",
            "conv2d_20 (Conv2D)           (None, 10, 10, 16)        1456      \n",
            "_________________________________________________________________\n",
            "batch_normalization_15 (Batc (None, 10, 10, 16)        64        \n",
            "_________________________________________________________________\n",
            "dropout_14 (Dropout)         (None, 10, 10, 16)        0         \n",
            "_________________________________________________________________\n",
            "conv2d_21 (Conv2D)           (None, 8, 8, 16)          2320      \n",
            "_________________________________________________________________\n",
            "batch_normalization_16 (Batc (None, 8, 8, 16)          64        \n",
            "_________________________________________________________________\n",
            "dropout_15 (Dropout)         (None, 8, 8, 16)          0         \n",
            "_________________________________________________________________\n",
            "conv2d_22 (Conv2D)           (None, 6, 6, 16)          2320      \n",
            "_________________________________________________________________\n",
            "batch_normalization_17 (Batc (None, 6, 6, 16)          64        \n",
            "_________________________________________________________________\n",
            "dropout_16 (Dropout)         (None, 6, 6, 16)          0         \n",
            "_________________________________________________________________\n",
            "conv2d_23 (Conv2D)           (None, 4, 4, 16)          2320      \n",
            "_________________________________________________________________\n",
            "batch_normalization_18 (Batc (None, 4, 4, 16)          64        \n",
            "_________________________________________________________________\n",
            "dropout_17 (Dropout)         (None, 4, 4, 16)          0         \n",
            "_________________________________________________________________\n",
            "conv2d_24 (Conv2D)           (None, 1, 1, 10)          2570      \n",
            "_________________________________________________________________\n",
            "flatten_3 (Flatten)          (None, 10)                0         \n",
            "_________________________________________________________________\n",
            "activation_3 (Activation)    (None, 10)                0         \n",
            "=================================================================\n",
            "Total params: 13,072\n",
            "Trainable params: 12,892\n",
            "Non-trainable params: 180\n",
            "_________________________________________________________________\n"
          ],
          "name": "stdout"
        }
      ]
    },
    {
      "cell_type": "markdown",
      "metadata": {
        "id": "w5MO-UNhD-wM",
        "colab_type": "text"
      },
      "source": [
        "###Compile the Model:\n",
        ">***While compile the model we need to declare Loss Function and Optimizer***\n",
        "\n",
        ">***Here we used Adam and categorical cross entropy as optimizer and loss function respectively***\n"
      ]
    },
    {
      "cell_type": "code",
      "metadata": {
        "id": "haXzMEuPw8zq",
        "colab_type": "code",
        "colab": {
          "base_uri": "https://localhost:8080/",
          "height": 1422
        },
        "outputId": "9bfae9b2-5551-4517-9290-6f0e8649a52a"
      },
      "source": [
        "from keras.optimizers import Adam\n",
        "from keras.callbacks import LearningRateScheduler\n",
        "def scheduler(epoch, lr):\n",
        "  return round(0.0025 * 1/(1 + 0.300 * epoch), 10)\n",
        "\n",
        "model.compile(loss='categorical_crossentropy', optimizer=Adam(lr=0.003), metrics=['accuracy'])\n",
        "\n",
        "model.fit(X_train, Y_train, batch_size=64, nb_epoch=20, verbose=1, validation_data=(X_test,Y_test), callbacks=[LearningRateScheduler(scheduler, verbose=1)])"
      ],
      "execution_count": 59,
      "outputs": [
        {
          "output_type": "stream",
          "text": [
            "/usr/local/lib/python3.6/dist-packages/ipykernel_launcher.py:8: UserWarning: The `nb_epoch` argument in `fit` has been renamed `epochs`.\n",
            "  \n"
          ],
          "name": "stderr"
        },
        {
          "output_type": "stream",
          "text": [
            "Train on 60000 samples, validate on 10000 samples\n",
            "Epoch 1/20\n",
            "\n",
            "Epoch 00001: LearningRateScheduler setting learning rate to 0.0025.\n",
            "60000/60000 [==============================] - 14s 239us/step - loss: 0.0418 - acc: 0.9873 - val_loss: 0.0299 - val_acc: 0.9910\n",
            "Epoch 2/20\n",
            "\n",
            "Epoch 00002: LearningRateScheduler setting learning rate to 0.0019230769.\n",
            "60000/60000 [==============================] - 11s 178us/step - loss: 0.0303 - acc: 0.9901 - val_loss: 0.0373 - val_acc: 0.9890\n",
            "Epoch 3/20\n",
            "\n",
            "Epoch 00003: LearningRateScheduler setting learning rate to 0.0015625.\n",
            "60000/60000 [==============================] - 11s 189us/step - loss: 0.0278 - acc: 0.9909 - val_loss: 0.0281 - val_acc: 0.9915\n",
            "Epoch 4/20\n",
            "\n",
            "Epoch 00004: LearningRateScheduler setting learning rate to 0.0013157895.\n",
            "60000/60000 [==============================] - 10s 174us/step - loss: 0.0240 - acc: 0.9922 - val_loss: 0.0210 - val_acc: 0.9936\n",
            "Epoch 5/20\n",
            "\n",
            "Epoch 00005: LearningRateScheduler setting learning rate to 0.0011363636.\n",
            "60000/60000 [==============================] - 10s 173us/step - loss: 0.0230 - acc: 0.9925 - val_loss: 0.0212 - val_acc: 0.9932\n",
            "Epoch 6/20\n",
            "\n",
            "Epoch 00006: LearningRateScheduler setting learning rate to 0.001.\n",
            "60000/60000 [==============================] - 10s 173us/step - loss: 0.0203 - acc: 0.9933 - val_loss: 0.0218 - val_acc: 0.9922\n",
            "Epoch 7/20\n",
            "\n",
            "Epoch 00007: LearningRateScheduler setting learning rate to 0.0008928571.\n",
            "60000/60000 [==============================] - 10s 174us/step - loss: 0.0195 - acc: 0.9935 - val_loss: 0.0214 - val_acc: 0.9923\n",
            "Epoch 8/20\n",
            "\n",
            "Epoch 00008: LearningRateScheduler setting learning rate to 0.0008064516.\n",
            "60000/60000 [==============================] - 10s 174us/step - loss: 0.0178 - acc: 0.9944 - val_loss: 0.0211 - val_acc: 0.9931\n",
            "Epoch 9/20\n",
            "\n",
            "Epoch 00009: LearningRateScheduler setting learning rate to 0.0007352941.\n",
            "60000/60000 [==============================] - 10s 174us/step - loss: 0.0165 - acc: 0.9944 - val_loss: 0.0194 - val_acc: 0.9931\n",
            "Epoch 10/20\n",
            "\n",
            "Epoch 00010: LearningRateScheduler setting learning rate to 0.0006756757.\n",
            "60000/60000 [==============================] - 11s 189us/step - loss: 0.0151 - acc: 0.9950 - val_loss: 0.0196 - val_acc: 0.9934\n",
            "Epoch 11/20\n",
            "\n",
            "Epoch 00011: LearningRateScheduler setting learning rate to 0.000625.\n",
            "60000/60000 [==============================] - 11s 181us/step - loss: 0.0146 - acc: 0.9950 - val_loss: 0.0219 - val_acc: 0.9935\n",
            "Epoch 12/20\n",
            "\n",
            "Epoch 00012: LearningRateScheduler setting learning rate to 0.0005813953.\n",
            "60000/60000 [==============================] - 10s 175us/step - loss: 0.0147 - acc: 0.9951 - val_loss: 0.0188 - val_acc: 0.9930\n",
            "Epoch 13/20\n",
            "\n",
            "Epoch 00013: LearningRateScheduler setting learning rate to 0.0005434783.\n",
            "60000/60000 [==============================] - 10s 175us/step - loss: 0.0140 - acc: 0.9953 - val_loss: 0.0233 - val_acc: 0.9926\n",
            "Epoch 14/20\n",
            "\n",
            "Epoch 00014: LearningRateScheduler setting learning rate to 0.0005102041.\n",
            "60000/60000 [==============================] - 10s 174us/step - loss: 0.0137 - acc: 0.9956 - val_loss: 0.0214 - val_acc: 0.9932\n",
            "Epoch 15/20\n",
            "\n",
            "Epoch 00015: LearningRateScheduler setting learning rate to 0.0004807692.\n",
            "60000/60000 [==============================] - 10s 174us/step - loss: 0.0133 - acc: 0.9956 - val_loss: 0.0192 - val_acc: 0.9937\n",
            "Epoch 16/20\n",
            "\n",
            "Epoch 00016: LearningRateScheduler setting learning rate to 0.0004545455.\n",
            "60000/60000 [==============================] - 10s 173us/step - loss: 0.0135 - acc: 0.9954 - val_loss: 0.0179 - val_acc: 0.9941\n",
            "Epoch 17/20\n",
            "\n",
            "Epoch 00017: LearningRateScheduler setting learning rate to 0.0004310345.\n",
            "60000/60000 [==============================] - 10s 174us/step - loss: 0.0132 - acc: 0.9959 - val_loss: 0.0192 - val_acc: 0.9938\n",
            "Epoch 18/20\n",
            "\n",
            "Epoch 00018: LearningRateScheduler setting learning rate to 0.0004098361.\n",
            "60000/60000 [==============================] - 12s 194us/step - loss: 0.0123 - acc: 0.9959 - val_loss: 0.0217 - val_acc: 0.9938\n",
            "Epoch 19/20\n",
            "\n",
            "Epoch 00019: LearningRateScheduler setting learning rate to 0.000390625.\n",
            "60000/60000 [==============================] - 10s 173us/step - loss: 0.0119 - acc: 0.9964 - val_loss: 0.0215 - val_acc: 0.9934\n",
            "Epoch 20/20\n",
            "\n",
            "Epoch 00020: LearningRateScheduler setting learning rate to 0.0003731343.\n",
            "60000/60000 [==============================] - 10s 172us/step - loss: 0.0114 - acc: 0.9964 - val_loss: 0.0204 - val_acc: 0.9934\n"
          ],
          "name": "stdout"
        },
        {
          "output_type": "execute_result",
          "data": {
            "text/plain": [
              "<keras.callbacks.History at 0x7fb43f3e2208>"
            ]
          },
          "metadata": {
            "tags": []
          },
          "execution_count": 59
        }
      ]
    },
    {
      "cell_type": "markdown",
      "metadata": {
        "id": "n8N3ABJCFWT5",
        "colab_type": "text"
      },
      "source": [
        "###Now hard part over, we need to train the model as epochs and batch size for training data and do validation with test data parallaly with each epochs\n",
        ">1. Highest Validation accuracy ***99.41*** with params ***13k*** in epochs ***20*** and batch size ***128***"
      ]
    },
    {
      "cell_type": "markdown",
      "metadata": {
        "id": "R_28McQEIkV4",
        "colab_type": "text"
      },
      "source": [
        "###Now Evaluating the model on test data "
      ]
    },
    {
      "cell_type": "code",
      "metadata": {
        "id": "MtwCYlP5xCWF",
        "colab_type": "code",
        "colab": {}
      },
      "source": [
        "score = model.evaluate(X_test, Y_test, verbose=0)"
      ],
      "execution_count": 0,
      "outputs": []
    },
    {
      "cell_type": "code",
      "metadata": {
        "id": "TFWLuj22xGPy",
        "colab_type": "code",
        "outputId": "470e366e-5298-43d6-a36a-4db304a6bc63",
        "colab": {
          "base_uri": "https://localhost:8080/",
          "height": 33
        }
      },
      "source": [
        "print(score)"
      ],
      "execution_count": 54,
      "outputs": [
        {
          "output_type": "stream",
          "text": [
            "[0.020378008055937973, 0.9935]\n"
          ],
          "name": "stdout"
        }
      ]
    },
    {
      "cell_type": "markdown",
      "metadata": {
        "id": "dESgW4Sxhlyu",
        "colab_type": "text"
      },
      "source": [
        "###Now prediction on Test data"
      ]
    },
    {
      "cell_type": "code",
      "metadata": {
        "id": "vk76IB3txI1K",
        "colab_type": "code",
        "colab": {}
      },
      "source": [
        "y_pred = model.predict(X_test)"
      ],
      "execution_count": 0,
      "outputs": []
    },
    {
      "cell_type": "code",
      "metadata": {
        "id": "MOX41QENxMCj",
        "colab_type": "code",
        "outputId": "29d245dc-4b72-4779-9a31-2020be756939",
        "colab": {
          "base_uri": "https://localhost:8080/",
          "height": 485
        }
      },
      "source": [
        "print(y_pred[:9])\n",
        "print(y_test[:9])"
      ],
      "execution_count": 56,
      "outputs": [
        {
          "output_type": "stream",
          "text": [
            "[[2.37922293e-10 5.52884778e-08 1.52498657e-07 1.06326423e-08\n",
            "  2.41576514e-09 4.10862793e-12 7.01217459e-13 9.99999762e-01\n",
            "  1.12374755e-10 1.74577475e-09]\n",
            " [2.94693976e-08 2.91566676e-06 9.99997020e-01 1.29500977e-09\n",
            "  1.46916548e-10 7.02123299e-12 2.75930550e-08 9.81197612e-09\n",
            "  2.45052267e-09 3.95623096e-13]\n",
            " [2.02001615e-08 9.99997973e-01 1.35093901e-08 9.22825549e-09\n",
            "  2.64500898e-07 3.02977440e-07 3.21258000e-07 1.11065469e-06\n",
            "  2.32095694e-08 2.58989452e-09]\n",
            " [9.99978185e-01 4.29022894e-11 1.76271850e-08 2.58988808e-09\n",
            "  5.91534322e-10 6.11927486e-09 2.07889952e-05 1.74513029e-10\n",
            "  2.68276551e-07 8.56565578e-07]\n",
            " [5.79185896e-13 8.64226135e-10 1.05955782e-11 2.29977365e-12\n",
            "  9.99997854e-01 2.41112720e-11 3.65486447e-10 7.06552428e-10\n",
            "  5.43618171e-11 2.13714225e-06]\n",
            " [6.12242568e-09 9.99998927e-01 1.71229857e-08 1.62432789e-09\n",
            "  1.36088886e-07 8.32158431e-09 4.46680843e-08 8.99111399e-07\n",
            "  6.14703266e-09 5.20607424e-09]\n",
            " [1.46021942e-12 1.39291089e-07 2.18994517e-10 2.54654544e-11\n",
            "  9.99863982e-01 7.36542116e-09 7.63363950e-09 6.33400123e-06\n",
            "  7.08746654e-07 1.28826607e-04]\n",
            " [4.10813961e-09 3.56433216e-11 3.98943628e-10 1.88537158e-10\n",
            "  1.74820198e-05 1.12791741e-10 3.22030805e-11 2.25816362e-11\n",
            "  8.41586427e-08 9.99982357e-01]\n",
            " [6.57641621e-08 4.84666252e-10 3.41317774e-09 2.43203289e-08\n",
            "  5.80559822e-10 9.81822968e-01 1.79932471e-02 6.41866560e-10\n",
            "  1.83639757e-04 2.71626011e-09]]\n",
            "[7 2 1 0 4 1 4 9 5]\n"
          ],
          "name": "stdout"
        }
      ]
    },
    {
      "cell_type": "code",
      "metadata": {
        "id": "9XhZNcoFxO-Z",
        "colab_type": "code",
        "colab": {}
      },
      "source": [
        "layer_dict = dict([(layer.name, layer) for layer in model.layers])"
      ],
      "execution_count": 0,
      "outputs": []
    },
    {
      "cell_type": "code",
      "metadata": {
        "id": "Zl2JfIWc0DlS",
        "colab_type": "code",
        "colab": {
          "base_uri": "https://localhost:8080/",
          "height": 741
        },
        "outputId": "0aac1367-d4f4-44be-a96d-e7c1671d63a6"
      },
      "source": [
        "import numpy as np\n",
        "from matplotlib import pyplot as plt\n",
        "from keras import backend as K\n",
        "%matplotlib inline\n",
        "# util function to convert a tensor into a valid image\n",
        "def deprocess_image(x):\n",
        "    # normalize tensor: center on 0., ensure std is 0.1\n",
        "    x -= x.mean()\n",
        "    x /= (x.std() + 1e-5)\n",
        "    x *= 0.1\n",
        "\n",
        "    # clip to [0, 1]\n",
        "    x += 0.5\n",
        "    x = np.clip(x, 0, 1)\n",
        "\n",
        "    # convert to RGB array\n",
        "    x *= 255\n",
        "    #x = x.transpose((1, 2, 0))\n",
        "    x = np.clip(x, 0, 255).astype('uint8')\n",
        "    return x\n",
        "\n",
        "def vis_img_in_filter(img = np.array(X_train[9]).reshape((1, 28, 28, 1)).astype(np.float64), \n",
        "                      layer_name = 'conv2d_23'):\n",
        "    layer_output = layer_dict[layer_name].output\n",
        "    img_ascs = list()\n",
        "    for filter_index in range(layer_output.shape[3]):\n",
        "        # build a loss function that maximizes the activation\n",
        "        # of the nth filter of the layer considered\n",
        "        loss = K.mean(layer_output[:, :, :, filter_index])\n",
        "\n",
        "        # compute the gradient of the input picture wrt this loss\n",
        "        grads = K.gradients(loss, model.input)[0]\n",
        "\n",
        "        # normalization trick: we normalize the gradient\n",
        "        grads /= (K.sqrt(K.mean(K.square(grads))) + 1e-5)\n",
        "\n",
        "        # this function returns the loss and grads given the input picture\n",
        "        iterate = K.function([model.input], [loss, grads])\n",
        "\n",
        "        # step size for gradient ascent\n",
        "        step = 5.\n",
        "\n",
        "        img_asc = np.array(img)\n",
        "        # run gradient ascent for 20 steps\n",
        "        for i in range(20):\n",
        "            loss_value, grads_value = iterate([img_asc])\n",
        "            img_asc += grads_value * step\n",
        "\n",
        "        img_asc = img_asc[0]\n",
        "        img_ascs.append(deprocess_image(img_asc).reshape((28, 28)))\n",
        "        \n",
        "    if layer_output.shape[3] >= 35:\n",
        "        plot_x, plot_y = 6, 6\n",
        "    elif layer_output.shape[3] >= 23:\n",
        "        plot_x, plot_y = 4, 6\n",
        "    elif layer_output.shape[3] >= 11:\n",
        "        plot_x, plot_y = 2, 6\n",
        "    else:\n",
        "        plot_x, plot_y = 1, 2\n",
        "    fig, ax = plt.subplots(plot_x, plot_y, figsize = (12, 12))\n",
        "    ax[0, 0].imshow(img.reshape((28, 28)), cmap = 'gray')\n",
        "    ax[0, 0].set_title('Input image')\n",
        "    fig.suptitle('Input image and %s filters' % (layer_name,))\n",
        "    fig.tight_layout(pad = 0.3, rect = [0, 0, 0.9, 0.9])\n",
        "    for (x, y) in [(i, j) for i in range(plot_x) for j in range(plot_y)]:\n",
        "        if x == 0 and y == 0:\n",
        "            continue\n",
        "        ax[x, y].imshow(img_ascs[x * plot_y + y - 1], cmap = 'gray')\n",
        "        ax[x, y].set_title('filter %d' % (x * plot_y + y - 1))\n",
        "\n",
        "vis_img_in_filter()"
      ],
      "execution_count": 60,
      "outputs": [
        {
          "output_type": "display_data",
          "data": {
            "image/png": "[encoded data removed]",
            "text/plain": [
              "<Figure size 864x864 with 12 Axes>"
            ]
          },
          "metadata": {
            "tags": []
          }
        }
      ]
    }
  ]
}