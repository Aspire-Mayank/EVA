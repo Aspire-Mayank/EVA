{
  "nbformat": 4,
  "nbformat_minor": 0,
  "metadata": {
    "colab": {
      "name": "VanillaVersion2Assigment4.ipynb",
      "version": "0.3.2",
      "provenance": [],
      "collapsed_sections": []
    },
    "kernelspec": {
      "name": "python3",
      "display_name": "Python 3"
    },
    "accelerator": "GPU"
  },
  "cells": [
    {
      "cell_type": "markdown",
      "metadata": {
        "id": "N-zJJyU6Cdz-",
        "colab_type": "text"
      },
      "source": [
        "##Vanilla Version -2 : Assigment 4 "
      ]
    },
    {
      "cell_type": "markdown",
      "metadata": {
        "id": "a3xCHpPfXvNV",
        "colab_type": "text"
      },
      "source": [
        "###Installing Important weapons of DNN (keras)"
      ]
    },
    {
      "cell_type": "code",
      "metadata": {
        "id": "Ae4NIzdbud8B",
        "colab_type": "code",
        "colab": {}
      },
      "source": [
        "# https://keras.io/\n",
        "!pip install -q keras\n",
        "import keras"
      ],
      "execution_count": 0,
      "outputs": []
    },
    {
      "cell_type": "markdown",
      "metadata": {
        "id": "QDpnnNKjwe4-",
        "colab_type": "text"
      },
      "source": [
        "###Installing Keras and related core assualts for using in Neural Network"
      ]
    },
    {
      "cell_type": "code",
      "metadata": {
        "id": "86xOwp-TwgA5",
        "colab_type": "code",
        "colab": {}
      },
      "source": [
        "import numpy as np\n",
        "\n",
        "from keras.models import Sequential\n",
        "from keras.layers import Dense, Dropout, Activation, Flatten, Add\n",
        "from keras.layers import Convolution2D, MaxPooling2D\n",
        "from keras.utils import np_utils\n",
        "\n",
        "from keras.datasets import mnist"
      ],
      "execution_count": 0,
      "outputs": []
    },
    {
      "cell_type": "markdown",
      "metadata": {
        "id": "RVypk1MTwk4A",
        "colab_type": "text"
      },
      "source": [
        "###Loading pre-Shuffled MNIST DataSet in Training and Test "
      ]
    },
    {
      "cell_type": "code",
      "metadata": {
        "id": "ytd3xOp2wlGq",
        "colab_type": "code",
        "colab": {}
      },
      "source": [
        "(X_train, y_train), (X_test, y_test) = mnist.load_data()"
      ],
      "execution_count": 0,
      "outputs": []
    },
    {
      "cell_type": "markdown",
      "metadata": {
        "id": "eL5f_VexGdzB",
        "colab_type": "text"
      },
      "source": [
        "###We can confirm and see we have 60K sample images each of size 28x28, will plot and see sample images."
      ]
    },
    {
      "cell_type": "code",
      "metadata": {
        "id": "0bW6SMjAwnMo",
        "colab_type": "code",
        "outputId": "55dd6cca-1e7e-4157-c051-dcdb34977160",
        "colab": {
          "base_uri": "https://localhost:8080/",
          "height": 302
        }
      },
      "source": [
        "print (X_train.shape)\n",
        "from matplotlib import pyplot as plt\n",
        "%matplotlib inline\n",
        "plt.imshow(X_train[0])"
      ],
      "execution_count": 38,
      "outputs": [
        {
          "output_type": "stream",
          "text": [
            "(60000, 28, 28)\n"
          ],
          "name": "stdout"
        },
        {
          "output_type": "execute_result",
          "data": {
            "text/plain": [
              "<matplotlib.image.AxesImage at 0x7fc1c8103898>"
            ]
          },
          "metadata": {
            "tags": []
          },
          "execution_count": 38
        },
        {
          "output_type": "display_data",
          "data": {
            "image/png": "[encoded data removed]",
            "text/plain": [
              "<Figure size 432x288 with 1 Axes>"
            ]
          },
          "metadata": {
            "tags": []
          }
        }
      ]
    },
    {
      "cell_type": "markdown",
      "metadata": {
        "id": "AFdJEZR6D556",
        "colab_type": "text"
      },
      "source": [
        "###Preprocess input data for Keras.\n",
        ">***A full-color image with all 3 RGB channels will have a depth of 3.Our MNIST images only have a depth of 1, but we must explicitly declare that.***\n",
        "\n",
        ">***In other words, we want to transform our dataset from having shape (n, width, height) to (n, depth, width, height)***."
      ]
    },
    {
      "cell_type": "code",
      "metadata": {
        "id": "-8GM5d6FwtpQ",
        "colab_type": "code",
        "colab": {}
      },
      "source": [
        "#Converting/Reshaping 2-D dimenional Grayscale image to keras specific 4-D input/output form\n",
        "X_train = X_train.reshape(X_train.shape[0], 28, 28,1)\n",
        "X_test = X_test.reshape(X_test.shape[0], 28, 28,1)"
      ],
      "execution_count": 0,
      "outputs": []
    },
    {
      "cell_type": "markdown",
      "metadata": {
        "id": "wgSDr3SKIfR_",
        "colab_type": "text"
      },
      "source": [
        "### Final preprocessing step for the input data is to convert our data type to float32 and normalize our data values to the range"
      ]
    },
    {
      "cell_type": "code",
      "metadata": {
        "id": "8pR9xaZIwwPA",
        "colab_type": "code",
        "colab": {}
      },
      "source": [
        "X_train = X_train.astype('float32')\n",
        "X_test = X_test.astype('float32')\n",
        "X_train /= 255\n",
        "X_test /= 255"
      ],
      "execution_count": 0,
      "outputs": []
    },
    {
      "cell_type": "markdown",
      "metadata": {
        "id": "B5e-2aoeIzTk",
        "colab_type": "text"
      },
      "source": [
        "###Preprocess class labels for Keras.\n",
        ">***let's take a look at the shape of our class label data***\n"
      ]
    },
    {
      "cell_type": "code",
      "metadata": {
        "id": "8uU-4luwKB6a",
        "colab_type": "code",
        "colab": {
          "base_uri": "https://localhost:8080/",
          "height": 33
        },
        "outputId": "63b693bc-dfe8-4252-bc70-5e0623a74fef"
      },
      "source": [
        "print(y_train.shape)"
      ],
      "execution_count": 41,
      "outputs": [
        {
          "output_type": "stream",
          "text": [
            "(60000,)\n"
          ],
          "name": "stdout"
        }
      ]
    },
    {
      "cell_type": "markdown",
      "metadata": {
        "id": "lfeYxqo5KDDK",
        "colab_type": "text"
      },
      "source": [
        "\n",
        ">***We should have 10 different classes, one for each digit, but it looks like we only have a 1-dimensional array.***\n",
        "\n",
        ">***Let's take a look at the labels for the first 10 training samples:***"
      ]
    },
    {
      "cell_type": "code",
      "metadata": {
        "id": "sR0OBUoQwyiR",
        "colab_type": "code",
        "outputId": "37e3d6e4-b82d-45ba-83d4-4beba5de7840",
        "colab": {
          "base_uri": "https://localhost:8080/",
          "height": 33
        }
      },
      "source": [
        "y_train[:10]"
      ],
      "execution_count": 42,
      "outputs": [
        {
          "output_type": "execute_result",
          "data": {
            "text/plain": [
              "array([5, 0, 4, 1, 9, 2, 1, 3, 1, 4], dtype=uint8)"
            ]
          },
          "metadata": {
            "tags": []
          },
          "execution_count": 42
        }
      ]
    },
    {
      "cell_type": "markdown",
      "metadata": {
        "id": "PC3ZTzfaKkGg",
        "colab_type": "text"
      },
      "source": [
        "###And there's the problem. The y_train and y_test data are not split into 10 distinct class labels, but rather are represented as a single array with the class values.\n",
        "\n",
        ">***1. We can fix this easily:***"
      ]
    },
    {
      "cell_type": "code",
      "metadata": {
        "id": "zvkD7VfNvsOC",
        "colab_type": "code",
        "colab": {}
      },
      "source": [
        "# Convert 1-dimensional class arrays to 10-dimensional class matrices\n",
        "Y_train = np_utils.to_categorical(y_train, 10)\n",
        "Y_test = np_utils.to_categorical(y_test, 10)"
      ],
      "execution_count": 0,
      "outputs": []
    },
    {
      "cell_type": "markdown",
      "metadata": {
        "id": "T9x3rm3DK8x8",
        "colab_type": "text"
      },
      "source": [
        "###Now have a look:"
      ]
    },
    {
      "cell_type": "code",
      "metadata": {
        "id": "pAqV4GDNLKJU",
        "colab_type": "code",
        "colab": {
          "base_uri": "https://localhost:8080/",
          "height": 33
        },
        "outputId": "88af28c7-0728-4952-eac7-f940124eff2c"
      },
      "source": [
        "print (Y_train.shape)"
      ],
      "execution_count": 44,
      "outputs": [
        {
          "output_type": "stream",
          "text": [
            "(60000, 10)\n"
          ],
          "name": "stdout"
        }
      ]
    },
    {
      "cell_type": "code",
      "metadata": {
        "id": "uJFFdoIZvvYN",
        "colab_type": "code",
        "outputId": "3bda5032-fcbc-4c72-b24c-03b5b512e30d",
        "colab": {
          "base_uri": "https://localhost:8080/",
          "height": 184
        }
      },
      "source": [
        "Y_train[:10]"
      ],
      "execution_count": 45,
      "outputs": [
        {
          "output_type": "execute_result",
          "data": {
            "text/plain": [
              "array([[0., 0., 0., 0., 0., 1., 0., 0., 0., 0.],\n",
              "       [1., 0., 0., 0., 0., 0., 0., 0., 0., 0.],\n",
              "       [0., 0., 0., 0., 1., 0., 0., 0., 0., 0.],\n",
              "       [0., 1., 0., 0., 0., 0., 0., 0., 0., 0.],\n",
              "       [0., 0., 0., 0., 0., 0., 0., 0., 0., 1.],\n",
              "       [0., 0., 1., 0., 0., 0., 0., 0., 0., 0.],\n",
              "       [0., 1., 0., 0., 0., 0., 0., 0., 0., 0.],\n",
              "       [0., 0., 0., 1., 0., 0., 0., 0., 0., 0.],\n",
              "       [0., 1., 0., 0., 0., 0., 0., 0., 0., 0.],\n",
              "       [0., 0., 0., 0., 1., 0., 0., 0., 0., 0.]], dtype=float32)"
            ]
          },
          "metadata": {
            "tags": []
          },
          "execution_count": 45
        }
      ]
    },
    {
      "cell_type": "markdown",
      "metadata": {
        "id": "EmzftdD7LW7T",
        "colab_type": "text"
      },
      "source": [
        "##Define Model Architechture :"
      ]
    },
    {
      "cell_type": "code",
      "metadata": {
        "id": "8aZ7ugF4w3KJ",
        "colab_type": "code",
        "outputId": "16564caf-5486-4f11-8f3f-49ef8169fe39",
        "colab": {
          "base_uri": "https://localhost:8080/",
          "height": 204
        }
      },
      "source": [
        "#Importing core Functions of Keras layers which will use in Neural Network\n",
        "from keras.layers import Activation, BatchNormalization\n",
        "\n",
        "#Now Will start with Sequential Model\n",
        "model = Sequential()\n",
        "\n",
        "#Adding Input Layer:\n",
        "#Input Image size 28x28x1\n",
        "#convolution filter/kernal size is 3x3x1 of count/row : 10\n",
        "model.add(Convolution2D(10, 3, 3, activation='relu', input_shape=(28,28,1))) # 26\n",
        "#BatchNorms will normalize weights using Mean, Variance of each channels pixel-wise in particular layer\n",
        "model.add(BatchNormalization())\n",
        "\n",
        "#Input image to these layer is 26x26x10\n",
        "#Kernal/filter size : 3x3x10 of number/count/row : 16\n",
        "model.add(Convolution2D(16, 3, 3, activation='relu')) # 24\n",
        "model.add(BatchNormalization())\n",
        "\n",
        "#Input image to these layer is 24x24x10\n",
        "#Kernal/filter size : 1x1x16 of number/count/row : 10\n",
        "#1x1 convolution layer which helps to reduce channel size and increase particular features amplitude.\n",
        "model.add(Convolution2D(10, 1, 1, activation='relu')) # 24\n",
        "\n",
        "#MaxPooling2D is a way to reduce the number of parameters in our model by sliding a 2x2 pooling,\n",
        "#filter across the previous layer and taking the max of the 4 values in the 2x2 filter.\n",
        "model.add(MaxPooling2D(pool_size=(2, 2))) # 12\n",
        "\n",
        "#Input image to these layer is 12x12x10\n",
        "#Kernal/filter size : 3x3x10 of number/count/row : 16\n",
        "model.add(Convolution2D(16, 3, 3, activation='relu')) # 10\n",
        "model.add(BatchNormalization())\n",
        "\n",
        "#Input image to these layer is 10x10x16\n",
        "#Kernal/filter size : 3x3x16 of number/count/row : 16\n",
        "model.add(Convolution2D(16, 3, 3, activation='relu')) # 8\n",
        "model.add(BatchNormalization())\n",
        "\n",
        "#Input image to these layer is 8x8x16\n",
        "#Kernal/filter size : 3x3x16 of number/count/row : 16\n",
        "model.add(Convolution2D(16, 3, 3, activation='relu')) # 6\n",
        "model.add(BatchNormalization())\n",
        "\n",
        "#Input image to these layer is 6x6x16\n",
        "#Kernal/filter size : 3x3x16 of number/count/row : 16\n",
        "model.add(Convolution2D(16, 3, 3, activation='relu')) # 4\n",
        "model.add(BatchNormalization())\n",
        "\n",
        "#model.add(Convolution2D(10, 1, activation='relu')) #4\n",
        "model.add(Convolution2D(10, 4, 4))\n",
        "\n",
        "#Before prediction layer we should flatten all convolution weights of neuron\n",
        "model.add(Flatten())\n",
        "model.add(Activation('softmax'))"
      ],
      "execution_count": 46,
      "outputs": [
        {
          "output_type": "stream",
          "text": [
            "/usr/local/lib/python3.6/dist-packages/ipykernel_launcher.py:9: UserWarning: Update your `Conv2D` call to the Keras 2 API: `Conv2D(10, (3, 3), activation=\"relu\", input_shape=(28, 28, 1...)`\n",
            "  if __name__ == '__main__':\n",
            "/usr/local/lib/python3.6/dist-packages/ipykernel_launcher.py:15: UserWarning: Update your `Conv2D` call to the Keras 2 API: `Conv2D(16, (3, 3), activation=\"relu\")`\n",
            "  from ipykernel import kernelapp as app\n",
            "/usr/local/lib/python3.6/dist-packages/ipykernel_launcher.py:21: UserWarning: Update your `Conv2D` call to the Keras 2 API: `Conv2D(10, (1, 1), activation=\"relu\")`\n",
            "/usr/local/lib/python3.6/dist-packages/ipykernel_launcher.py:29: UserWarning: Update your `Conv2D` call to the Keras 2 API: `Conv2D(16, (3, 3), activation=\"relu\")`\n",
            "/usr/local/lib/python3.6/dist-packages/ipykernel_launcher.py:34: UserWarning: Update your `Conv2D` call to the Keras 2 API: `Conv2D(16, (3, 3), activation=\"relu\")`\n",
            "/usr/local/lib/python3.6/dist-packages/ipykernel_launcher.py:39: UserWarning: Update your `Conv2D` call to the Keras 2 API: `Conv2D(16, (3, 3), activation=\"relu\")`\n",
            "/usr/local/lib/python3.6/dist-packages/ipykernel_launcher.py:44: UserWarning: Update your `Conv2D` call to the Keras 2 API: `Conv2D(16, (3, 3), activation=\"relu\")`\n",
            "/usr/local/lib/python3.6/dist-packages/ipykernel_launcher.py:48: UserWarning: Update your `Conv2D` call to the Keras 2 API: `Conv2D(10, (4, 4))`\n"
          ],
          "name": "stderr"
        }
      ]
    },
    {
      "cell_type": "code",
      "metadata": {
        "id": "g6iA_H0Mw5Wh",
        "colab_type": "code",
        "outputId": "b0f4d093-6efd-4235-950e-6508042b29b9",
        "colab": {
          "base_uri": "https://localhost:8080/",
          "height": 702
        }
      },
      "source": [
        "model.summary()"
      ],
      "execution_count": 47,
      "outputs": [
        {
          "output_type": "stream",
          "text": [
            "_________________________________________________________________\n",
            "Layer (type)                 Output Shape              Param #   \n",
            "=================================================================\n",
            "conv2d_34 (Conv2D)           (None, 26, 26, 10)        100       \n",
            "_________________________________________________________________\n",
            "batch_normalization_25 (Batc (None, 26, 26, 10)        40        \n",
            "_________________________________________________________________\n",
            "conv2d_35 (Conv2D)           (None, 24, 24, 16)        1456      \n",
            "_________________________________________________________________\n",
            "batch_normalization_26 (Batc (None, 24, 24, 16)        64        \n",
            "_________________________________________________________________\n",
            "conv2d_36 (Conv2D)           (None, 24, 24, 10)        170       \n",
            "_________________________________________________________________\n",
            "max_pooling2d_5 (MaxPooling2 (None, 12, 12, 10)        0         \n",
            "_________________________________________________________________\n",
            "conv2d_37 (Conv2D)           (None, 10, 10, 16)        1456      \n",
            "_________________________________________________________________\n",
            "batch_normalization_27 (Batc (None, 10, 10, 16)        64        \n",
            "_________________________________________________________________\n",
            "conv2d_38 (Conv2D)           (None, 8, 8, 16)          2320      \n",
            "_________________________________________________________________\n",
            "batch_normalization_28 (Batc (None, 8, 8, 16)          64        \n",
            "_________________________________________________________________\n",
            "conv2d_39 (Conv2D)           (None, 6, 6, 16)          2320      \n",
            "_________________________________________________________________\n",
            "batch_normalization_29 (Batc (None, 6, 6, 16)          64        \n",
            "_________________________________________________________________\n",
            "conv2d_40 (Conv2D)           (None, 4, 4, 16)          2320      \n",
            "_________________________________________________________________\n",
            "batch_normalization_30 (Batc (None, 4, 4, 16)          64        \n",
            "_________________________________________________________________\n",
            "conv2d_41 (Conv2D)           (None, 1, 1, 10)          2570      \n",
            "_________________________________________________________________\n",
            "flatten_5 (Flatten)          (None, 10)                0         \n",
            "_________________________________________________________________\n",
            "activation_5 (Activation)    (None, 10)                0         \n",
            "=================================================================\n",
            "Total params: 13,072\n",
            "Trainable params: 12,892\n",
            "Non-trainable params: 180\n",
            "_________________________________________________________________\n"
          ],
          "name": "stdout"
        }
      ]
    },
    {
      "cell_type": "markdown",
      "metadata": {
        "id": "w5MO-UNhD-wM",
        "colab_type": "text"
      },
      "source": [
        "###Compile the Model:\n",
        ">***While compile the model we need to declare Loss Function and Optimizer***\n",
        "\n",
        ">***Here we used Adam and categorical cross entropy as optimizer and loss function respectively***\n"
      ]
    },
    {
      "cell_type": "code",
      "metadata": {
        "id": "haXzMEuPw8zq",
        "colab_type": "code",
        "colab": {}
      },
      "source": [
        "model.compile(loss='categorical_crossentropy',\n",
        "             optimizer='adam',\n",
        "             metrics=['accuracy'])"
      ],
      "execution_count": 0,
      "outputs": []
    },
    {
      "cell_type": "markdown",
      "metadata": {
        "id": "n8N3ABJCFWT5",
        "colab_type": "text"
      },
      "source": [
        "###Now hard part over, we need to train the model as epochs and batch size for training data and do validation with test data parallaly with each epochs"
      ]
    },
    {
      "cell_type": "code",
      "metadata": {
        "id": "s7sG5s7xw_sE",
        "colab_type": "code",
        "outputId": "d27814a2-b3f5-4b9f-d3e3-065f355361cd",
        "colab": {
          "base_uri": "https://localhost:8080/",
          "height": 753
        }
      },
      "source": [
        "model.fit(X_train, Y_train, batch_size=64, nb_epoch=20, verbose=1, validation_data=(X_test,Y_test))"
      ],
      "execution_count": 49,
      "outputs": [
        {
          "output_type": "stream",
          "text": [
            "/usr/local/lib/python3.6/dist-packages/ipykernel_launcher.py:1: UserWarning: The `nb_epoch` argument in `fit` has been renamed `epochs`.\n",
            "  \"\"\"Entry point for launching an IPython kernel.\n"
          ],
          "name": "stderr"
        },
        {
          "output_type": "stream",
          "text": [
            "Train on 60000 samples, validate on 10000 samples\n",
            "Epoch 1/20\n",
            "60000/60000 [==============================] - 12s 195us/step - loss: 0.2082 - acc: 0.9373 - val_loss: 0.0602 - val_acc: 0.9807\n",
            "Epoch 2/20\n",
            "60000/60000 [==============================] - 10s 175us/step - loss: 0.0523 - acc: 0.9836 - val_loss: 0.0520 - val_acc: 0.9834\n",
            "Epoch 3/20\n",
            "60000/60000 [==============================] - 9s 157us/step - loss: 0.0397 - acc: 0.9877 - val_loss: 0.0470 - val_acc: 0.9850\n",
            "Epoch 4/20\n",
            "60000/60000 [==============================] - 9s 156us/step - loss: 0.0323 - acc: 0.9897 - val_loss: 0.0584 - val_acc: 0.9815\n",
            "Epoch 5/20\n",
            "60000/60000 [==============================] - 9s 156us/step - loss: 0.0314 - acc: 0.9898 - val_loss: 0.0404 - val_acc: 0.9871\n",
            "Epoch 6/20\n",
            "60000/60000 [==============================] - 9s 156us/step - loss: 0.0256 - acc: 0.9918 - val_loss: 0.0359 - val_acc: 0.9893\n",
            "Epoch 7/20\n",
            "60000/60000 [==============================] - 9s 156us/step - loss: 0.0239 - acc: 0.9923 - val_loss: 0.0316 - val_acc: 0.9908\n",
            "Epoch 8/20\n",
            "60000/60000 [==============================] - 9s 156us/step - loss: 0.0212 - acc: 0.9928 - val_loss: 0.0483 - val_acc: 0.9854\n",
            "Epoch 9/20\n",
            "60000/60000 [==============================] - 9s 157us/step - loss: 0.0193 - acc: 0.9936 - val_loss: 0.0472 - val_acc: 0.9863\n",
            "Epoch 10/20\n",
            "60000/60000 [==============================] - 11s 176us/step - loss: 0.0177 - acc: 0.9942 - val_loss: 0.0434 - val_acc: 0.9873\n",
            "Epoch 11/20\n",
            "60000/60000 [==============================] - 10s 160us/step - loss: 0.0163 - acc: 0.9947 - val_loss: 0.0340 - val_acc: 0.9903\n",
            "Epoch 12/20\n",
            "60000/60000 [==============================] - 9s 156us/step - loss: 0.0147 - acc: 0.9950 - val_loss: 0.0297 - val_acc: 0.9913\n",
            "Epoch 13/20\n",
            "60000/60000 [==============================] - 9s 156us/step - loss: 0.0143 - acc: 0.9950 - val_loss: 0.0479 - val_acc: 0.9870\n",
            "Epoch 14/20\n",
            "60000/60000 [==============================] - 9s 156us/step - loss: 0.0135 - acc: 0.9954 - val_loss: 0.0407 - val_acc: 0.9887\n",
            "Epoch 15/20\n",
            "60000/60000 [==============================] - 9s 157us/step - loss: 0.0117 - acc: 0.9960 - val_loss: 0.0282 - val_acc: 0.9912\n",
            "Epoch 16/20\n",
            "60000/60000 [==============================] - 10s 163us/step - loss: 0.0112 - acc: 0.9960 - val_loss: 0.0344 - val_acc: 0.9898\n",
            "Epoch 17/20\n",
            "60000/60000 [==============================] - 10s 163us/step - loss: 0.0117 - acc: 0.9961 - val_loss: 0.0584 - val_acc: 0.9838\n",
            "Epoch 18/20\n",
            "60000/60000 [==============================] - 10s 167us/step - loss: 0.0098 - acc: 0.9964 - val_loss: 0.0327 - val_acc: 0.9906\n",
            "Epoch 19/20\n",
            "60000/60000 [==============================] - 10s 170us/step - loss: 0.0086 - acc: 0.9971 - val_loss: 0.0345 - val_acc: 0.9906\n",
            "Epoch 20/20\n",
            "60000/60000 [==============================] - 11s 183us/step - loss: 0.0100 - acc: 0.9967 - val_loss: 0.0348 - val_acc: 0.9900\n"
          ],
          "name": "stdout"
        },
        {
          "output_type": "execute_result",
          "data": {
            "text/plain": [
              "<keras.callbacks.History at 0x7fc1c78fc160>"
            ]
          },
          "metadata": {
            "tags": []
          },
          "execution_count": 49
        }
      ]
    },
    {
      "cell_type": "markdown",
      "metadata": {
        "id": "hq1aoo8ory7a",
        "colab_type": "text"
      },
      "source": [
        "###Model Observation from above log shows:\n",
        ">1. In version 1 Model without BN getting better accuracy but loss was big compare to this model.\n",
        ">2. Accuracy is some how closer to previous model but loss also reduced and traning time also increased.\n",
        ">3. Gap between Test and Training Accuracy reduced ***13k*** params with ***99.13*** accuaracy in ***20*** epochs and ***64*** batch size."
      ]
    },
    {
      "cell_type": "markdown",
      "metadata": {
        "id": "R_28McQEIkV4",
        "colab_type": "text"
      },
      "source": [
        "###Now Evaluating the model on test data "
      ]
    },
    {
      "cell_type": "code",
      "metadata": {
        "id": "MtwCYlP5xCWF",
        "colab_type": "code",
        "colab": {}
      },
      "source": [
        "score = model.evaluate(X_test, Y_test, verbose=0)"
      ],
      "execution_count": 0,
      "outputs": []
    },
    {
      "cell_type": "code",
      "metadata": {
        "id": "TFWLuj22xGPy",
        "colab_type": "code",
        "colab": {
          "base_uri": "https://localhost:8080/",
          "height": 33
        },
        "outputId": "522479f3-98f5-4bf0-8244-8044c69666f7"
      },
      "source": [
        "print(score)"
      ],
      "execution_count": 51,
      "outputs": [
        {
          "output_type": "stream",
          "text": [
            "[0.03483150541526184, 0.99]\n"
          ],
          "name": "stdout"
        }
      ]
    },
    {
      "cell_type": "markdown",
      "metadata": {
        "id": "dESgW4Sxhlyu",
        "colab_type": "text"
      },
      "source": [
        "###Now prediction on Test data"
      ]
    },
    {
      "cell_type": "code",
      "metadata": {
        "id": "vk76IB3txI1K",
        "colab_type": "code",
        "colab": {}
      },
      "source": [
        "y_pred = model.predict(X_test)"
      ],
      "execution_count": 0,
      "outputs": []
    },
    {
      "cell_type": "code",
      "metadata": {
        "id": "MOX41QENxMCj",
        "colab_type": "code",
        "colab": {
          "base_uri": "https://localhost:8080/",
          "height": 485
        },
        "outputId": "6e86dbe7-4a7f-441d-97da-3cef62d75312"
      },
      "source": [
        "print(y_pred[:9])\n",
        "print(y_test[:9])"
      ],
      "execution_count": 53,
      "outputs": [
        {
          "output_type": "stream",
          "text": [
            "[[3.44324889e-08 3.33217187e-08 2.88107138e-08 3.27687175e-08\n",
            "  2.46457412e-12 6.61463176e-11 4.96245667e-17 9.99999881e-01\n",
            "  1.81268986e-12 2.54092469e-10]\n",
            " [1.05057651e-08 1.34027722e-09 1.00000000e+00 1.92702868e-11\n",
            "  3.30735216e-15 1.56919057e-18 7.37727790e-09 1.39318262e-11\n",
            "  6.91592009e-12 6.17677897e-15]\n",
            " [7.66638530e-10 9.99998450e-01 1.42284960e-11 1.27993211e-12\n",
            "  3.71508264e-08 9.56841606e-10 1.07431530e-09 1.48793833e-06\n",
            "  1.18855314e-09 1.23759336e-09]\n",
            " [9.98847485e-01 3.77434928e-09 1.11920485e-07 1.69834641e-06\n",
            "  2.12875850e-09 4.48986043e-07 1.14808755e-03 3.94921393e-08\n",
            "  8.77867251e-07 1.28396130e-06]\n",
            " [2.35962322e-14 5.36033848e-12 4.61054762e-12 2.56273952e-14\n",
            "  1.00000000e+00 1.98980941e-13 5.12923905e-13 3.58002683e-10\n",
            "  2.62543286e-12 9.39301703e-09]\n",
            " [6.12580386e-09 9.99930620e-01 2.20292029e-09 1.58708593e-12\n",
            "  1.22261270e-07 8.23997051e-11 6.53916477e-10 6.92908434e-05\n",
            "  4.44192283e-09 5.95875216e-09]\n",
            " [5.76868104e-15 3.47874785e-10 2.14121522e-15 2.79930561e-15\n",
            "  9.99998212e-01 2.74934643e-13 3.04158441e-16 4.64164041e-09\n",
            "  4.76222728e-10 1.84608029e-06]\n",
            " [1.03936004e-15 6.79280576e-10 2.75053556e-11 1.63278310e-12\n",
            "  3.28000692e-06 5.93037826e-13 3.46673297e-18 5.80550097e-09\n",
            "  7.21343762e-10 9.99996662e-01]\n",
            " [2.55451846e-06 1.07182005e-08 1.41817226e-11 1.56699031e-07\n",
            "  3.93361038e-12 4.90419924e-01 5.09517074e-01 1.10724784e-10\n",
            "  5.14615749e-05 8.78163974e-06]]\n",
            "[7 2 1 0 4 1 4 9 5]\n"
          ],
          "name": "stdout"
        }
      ]
    },
    {
      "cell_type": "code",
      "metadata": {
        "id": "9XhZNcoFxO-Z",
        "colab_type": "code",
        "colab": {}
      },
      "source": [
        "layer_dict = dict([(layer.name, layer) for layer in model.layers])"
      ],
      "execution_count": 0,
      "outputs": []
    },
    {
      "cell_type": "code",
      "metadata": {
        "id": "Zl2JfIWc0DlS",
        "colab_type": "code",
        "colab": {
          "base_uri": "https://localhost:8080/",
          "height": 741
        },
        "outputId": "83fe9bd7-1556-4378-869d-be98485a7149"
      },
      "source": [
        "import numpy as np\n",
        "from matplotlib import pyplot as plt\n",
        "from keras import backend as K\n",
        "%matplotlib inline\n",
        "# util function to convert a tensor into a valid image\n",
        "def deprocess_image(x):\n",
        "    # normalize tensor: center on 0., ensure std is 0.1\n",
        "    x -= x.mean()\n",
        "    x /= (x.std() + 1e-5)\n",
        "    x *= 0.1\n",
        "\n",
        "    # clip to [0, 1]\n",
        "    x += 0.5\n",
        "    x = np.clip(x, 0, 1)\n",
        "\n",
        "    # convert to RGB array\n",
        "    x *= 255\n",
        "    #x = x.transpose((1, 2, 0))\n",
        "    x = np.clip(x, 0, 255).astype('uint8')\n",
        "    return x\n",
        "\n",
        "def vis_img_in_filter(img = np.array(X_train[7]).reshape((1, 28, 28, 1)).astype(np.float64), \n",
        "                      layer_name = 'conv2d_40'):\n",
        "    layer_output = layer_dict[layer_name].output\n",
        "    img_ascs = list()\n",
        "    for filter_index in range(layer_output.shape[3]):\n",
        "        # build a loss function that maximizes the activation\n",
        "        # of the nth filter of the layer considered\n",
        "        loss = K.mean(layer_output[:, :, :, filter_index])\n",
        "\n",
        "        # compute the gradient of the input picture wrt this loss\n",
        "        grads = K.gradients(loss, model.input)[0]\n",
        "\n",
        "        # normalization trick: we normalize the gradient\n",
        "        grads /= (K.sqrt(K.mean(K.square(grads))) + 1e-5)\n",
        "\n",
        "        # this function returns the loss and grads given the input picture\n",
        "        iterate = K.function([model.input], [loss, grads])\n",
        "\n",
        "        # step size for gradient ascent\n",
        "        step = 5.\n",
        "\n",
        "        img_asc = np.array(img)\n",
        "        # run gradient ascent for 20 steps\n",
        "        for i in range(20):\n",
        "            loss_value, grads_value = iterate([img_asc])\n",
        "            img_asc += grads_value * step\n",
        "\n",
        "        img_asc = img_asc[0]\n",
        "        img_ascs.append(deprocess_image(img_asc).reshape((28, 28)))\n",
        "        \n",
        "    if layer_output.shape[3] >= 35:\n",
        "        plot_x, plot_y = 6, 6\n",
        "    elif layer_output.shape[3] >= 23:\n",
        "        plot_x, plot_y = 4, 6\n",
        "    elif layer_output.shape[3] >= 11:\n",
        "        plot_x, plot_y = 2, 6\n",
        "    else:\n",
        "        plot_x, plot_y = 1, 2\n",
        "    fig, ax = plt.subplots(plot_x, plot_y, figsize = (12, 12))\n",
        "    ax[0, 0].imshow(img.reshape((28, 28)), cmap = 'gray')\n",
        "    ax[0, 0].set_title('Input image')\n",
        "    fig.suptitle('Input image and %s filters' % (layer_name,))\n",
        "    fig.tight_layout(pad = 0.3, rect = [0, 0, 0.9, 0.9])\n",
        "    for (x, y) in [(i, j) for i in range(plot_x) for j in range(plot_y)]:\n",
        "        if x == 0 and y == 0:\n",
        "            continue\n",
        "        ax[x, y].imshow(img_ascs[x * plot_y + y - 1], cmap = 'gray')\n",
        "        ax[x, y].set_title('filter %d' % (x * plot_y + y - 1))\n",
        "\n",
        "vis_img_in_filter()"
      ],
      "execution_count": 57,
      "outputs": [
        {
          "output_type": "display_data",
          "data": {
            "image/png": "[encoded data removed]",
            "text/plain": [
              "<Figure size 864x864 with 12 Axes>"
            ]
          },
          "metadata": {
            "tags": []
          }
        }
      ]
    }
  ]
}