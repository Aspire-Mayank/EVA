{
  "nbformat": 4,
  "nbformat_minor": 0,
  "metadata": {
    "colab": {
      "name": "VanillaVersion1Assigment4.ipynb",
      "version": "0.3.2",
      "provenance": [],
      "collapsed_sections": []
    },
    "kernelspec": {
      "name": "python3",
      "display_name": "Python 3"
    },
    "accelerator": "GPU"
  },
  "cells": [
    {
      "cell_type": "markdown",
      "metadata": {
        "id": "dP5n9ldOmnhj",
        "colab_type": "text"
      },
      "source": [
        "##Vanilla Version -1 : Assigment 4 "
      ]
    },
    {
      "cell_type": "markdown",
      "metadata": {
        "id": "GeWxxGmms1KN",
        "colab_type": "text"
      },
      "source": [
        "###Installing Important weapons of DNN (keras)"
      ]
    },
    {
      "cell_type": "code",
      "metadata": {
        "id": "JsNZUBkRlHvQ",
        "colab_type": "code",
        "colab": {}
      },
      "source": [
        "# https://keras.io/\n",
        "!pip install -q keras\n",
        "import keras"
      ],
      "execution_count": 0,
      "outputs": []
    },
    {
      "cell_type": "markdown",
      "metadata": {
        "id": "o0SEUbFPmpRh",
        "colab_type": "text"
      },
      "source": [
        "###Importing all Neccesary Assualt for War againt Cost Function."
      ]
    },
    {
      "cell_type": "code",
      "metadata": {
        "id": "2lEbwRkVmrqR",
        "colab_type": "code",
        "colab": {}
      },
      "source": [
        "import numpy as np\n",
        "\n",
        "from keras.models import Sequential\n",
        "from keras.layers import Dense, Dropout, Activation, Flatten, Add\n",
        "from keras.layers import Convolution2D, MaxPooling2D\n",
        "from keras.utils import np_utils\n",
        "\n",
        "from keras.datasets import mnist"
      ],
      "execution_count": 0,
      "outputs": []
    },
    {
      "cell_type": "markdown",
      "metadata": {
        "id": "u3vUMkPAmx4P",
        "colab_type": "text"
      },
      "source": [
        "###Loading MNIST Data in Training and Test Format"
      ]
    },
    {
      "cell_type": "code",
      "metadata": {
        "id": "eft8B3vTmy9Y",
        "colab_type": "code",
        "colab": {}
      },
      "source": [
        "(X_train, y_train), (X_test, y_test) = mnist.load_data()"
      ],
      "execution_count": 0,
      "outputs": []
    },
    {
      "cell_type": "markdown",
      "metadata": {
        "id": "qJ7APuphm6qx",
        "colab_type": "text"
      },
      "source": [
        "###Visualizing and Analysing of Training Data:\n",
        ">#### We can confirm and see we have 60K sample images each of size 28x28, will plot and see sample images."
      ]
    },
    {
      "cell_type": "code",
      "metadata": {
        "id": "Y_S0L2s6m_Vy",
        "colab_type": "code",
        "outputId": "e04bbee6-ee21-4d2a-ddd4-cd6753a13082",
        "colab": {
          "base_uri": "https://localhost:8080/",
          "height": 302
        }
      },
      "source": [
        "print (X_train.shape)\n",
        "from matplotlib import pyplot as plt\n",
        "%matplotlib inline\n",
        "plt.imshow(X_train[7])"
      ],
      "execution_count": 30,
      "outputs": [
        {
          "output_type": "stream",
          "text": [
            "(60000, 28, 28)\n"
          ],
          "name": "stdout"
        },
        {
          "output_type": "execute_result",
          "data": {
            "text/plain": [
              "<matplotlib.image.AxesImage at 0x7f2f2c3c7208>"
            ]
          },
          "metadata": {
            "tags": []
          },
          "execution_count": 30
        },
        {
          "output_type": "display_data",
          "data": {
            "image/png": "[encoded data removed]",
            "text/plain": [
              "<Figure size 432x288 with 1 Axes>"
            ]
          },
          "metadata": {
            "tags": []
          }
        }
      ]
    },
    {
      "cell_type": "markdown",
      "metadata": {
        "id": "af9sybz4X7Yb",
        "colab_type": "text"
      },
      "source": [
        ""
      ]
    },
    {
      "cell_type": "markdown",
      "metadata": {
        "id": "AFdJEZR6D556",
        "colab_type": "text"
      },
      "source": [
        "###Preprocess input data for Keras.\n",
        ">***A full-color image with all 3 RGB channels will have a depth of 3.Our MNIST images only have a depth of 1, but we must explicitly declare that.***\n",
        "\n",
        ">***In other words, we want to transform our dataset from having shape (n, width, height) to (n, depth, width, height)***."
      ]
    },
    {
      "cell_type": "code",
      "metadata": {
        "id": "2B8wJrT7nCWR",
        "colab_type": "code",
        "colab": {}
      },
      "source": [
        "#Converting/Reshaping 2-D dimenional Grayscale image to keras specific 4-D input/output form\n",
        "X_train = X_train.reshape(X_train.shape[0], 28, 28,1)\n",
        "X_test = X_test.reshape(X_test.shape[0], 28, 28,1)"
      ],
      "execution_count": 0,
      "outputs": []
    },
    {
      "cell_type": "markdown",
      "metadata": {
        "id": "UnwsUEnveXXJ",
        "colab_type": "text"
      },
      "source": [
        "### Final preprocessing step for the input data is to convert our data type to float32 and normalize our data values to the range"
      ]
    },
    {
      "cell_type": "code",
      "metadata": {
        "id": "5NHzh8tvnG4p",
        "colab_type": "code",
        "colab": {}
      },
      "source": [
        "X_train = X_train.astype('float32')\n",
        "X_test = X_test.astype('float32')\n",
        "X_train /= 255\n",
        "X_test /= 255"
      ],
      "execution_count": 0,
      "outputs": []
    },
    {
      "cell_type": "markdown",
      "metadata": {
        "id": "3dQp_dpWeiJq",
        "colab_type": "text"
      },
      "source": [
        "###Preprocess class labels for Keras.\n",
        ">***let's take a look at the shape of our class label data***"
      ]
    },
    {
      "cell_type": "code",
      "metadata": {
        "id": "2Ezg54cwemdd",
        "colab_type": "code",
        "colab": {
          "base_uri": "https://localhost:8080/",
          "height": 33
        },
        "outputId": "ff442476-6525-41ae-8767-10de4decc74e"
      },
      "source": [
        "print(y_train.shape)"
      ],
      "execution_count": 33,
      "outputs": [
        {
          "output_type": "stream",
          "text": [
            "(60000,)\n"
          ],
          "name": "stdout"
        }
      ]
    },
    {
      "cell_type": "markdown",
      "metadata": {
        "id": "OT-NMUKdenno",
        "colab_type": "text"
      },
      "source": [
        ">***We should have 10 different classes, one for each digit, but it looks like we only have a 1-dimensional array.***\n",
        "\n",
        ">***Let's take a look at the labels for the first 10 training samples:***"
      ]
    },
    {
      "cell_type": "code",
      "metadata": {
        "id": "Wa9tBpR-nJaC",
        "colab_type": "code",
        "outputId": "cb884f0d-0154-4fd9-baec-52734bae6b19",
        "colab": {
          "base_uri": "https://localhost:8080/",
          "height": 33
        }
      },
      "source": [
        "y_train[:10]"
      ],
      "execution_count": 34,
      "outputs": [
        {
          "output_type": "execute_result",
          "data": {
            "text/plain": [
              "array([5, 0, 4, 1, 9, 2, 1, 3, 1, 4], dtype=uint8)"
            ]
          },
          "metadata": {
            "tags": []
          },
          "execution_count": 34
        }
      ]
    },
    {
      "cell_type": "markdown",
      "metadata": {
        "id": "67RMgNMye9O3",
        "colab_type": "text"
      },
      "source": [
        "###And there's the problem. The y_train and y_test data are not split into 10 distinct class labels, but rather are represented as a single array with the class values.\n",
        "\n",
        ">***1. We can fix this easily:***"
      ]
    },
    {
      "cell_type": "code",
      "metadata": {
        "id": "uMIVH_sxnNt5",
        "colab_type": "code",
        "colab": {}
      },
      "source": [
        "# Convert 1-dimensional class arrays to 10-dimensional class matrices\n",
        "Y_train = np_utils.to_categorical(y_train, 10)\n",
        "Y_test = np_utils.to_categorical(y_test, 10)"
      ],
      "execution_count": 0,
      "outputs": []
    },
    {
      "cell_type": "markdown",
      "metadata": {
        "id": "qqbKbfmrfE-8",
        "colab_type": "text"
      },
      "source": [
        "###Now have a look:"
      ]
    },
    {
      "cell_type": "code",
      "metadata": {
        "id": "60srLibSfFW_",
        "colab_type": "code",
        "colab": {
          "base_uri": "https://localhost:8080/",
          "height": 33
        },
        "outputId": "3a6c586f-24f7-47c8-fe31-5ddd664ae294"
      },
      "source": [
        "print (Y_train.shape)"
      ],
      "execution_count": 36,
      "outputs": [
        {
          "output_type": "stream",
          "text": [
            "(60000, 10)\n"
          ],
          "name": "stdout"
        }
      ]
    },
    {
      "cell_type": "code",
      "metadata": {
        "id": "VqTuS3dhnQaL",
        "colab_type": "code",
        "outputId": "7fb84056-6690-4818-8414-96dff3f207f6",
        "colab": {
          "base_uri": "https://localhost:8080/",
          "height": 184
        }
      },
      "source": [
        "Y_train[:10]"
      ],
      "execution_count": 37,
      "outputs": [
        {
          "output_type": "execute_result",
          "data": {
            "text/plain": [
              "array([[0., 0., 0., 0., 0., 1., 0., 0., 0., 0.],\n",
              "       [1., 0., 0., 0., 0., 0., 0., 0., 0., 0.],\n",
              "       [0., 0., 0., 0., 1., 0., 0., 0., 0., 0.],\n",
              "       [0., 1., 0., 0., 0., 0., 0., 0., 0., 0.],\n",
              "       [0., 0., 0., 0., 0., 0., 0., 0., 0., 1.],\n",
              "       [0., 0., 1., 0., 0., 0., 0., 0., 0., 0.],\n",
              "       [0., 1., 0., 0., 0., 0., 0., 0., 0., 0.],\n",
              "       [0., 0., 0., 1., 0., 0., 0., 0., 0., 0.],\n",
              "       [0., 1., 0., 0., 0., 0., 0., 0., 0., 0.],\n",
              "       [0., 0., 0., 0., 1., 0., 0., 0., 0., 0.]], dtype=float32)"
            ]
          },
          "metadata": {
            "tags": []
          },
          "execution_count": 37
        }
      ]
    },
    {
      "cell_type": "markdown",
      "metadata": {
        "id": "zIFhTAzHXaU9",
        "colab_type": "text"
      },
      "source": [
        "#Define Model Architechture :"
      ]
    },
    {
      "cell_type": "markdown",
      "metadata": {
        "id": "YZuxEVcvjYAJ",
        "colab_type": "text"
      },
      "source": [
        "##Model Observation below:\n",
        ">1. Start with Sequential Model\n",
        ">2. Started Input image of 28x28x1 with kernal 3x3x1 splitted to 10 channels in Layer one\n",
        ">3. Receptive field grown by 2 with each 3x3 convolution and doubles with MaxPool.\n",
        ">4. I have 1x1 after two layers of 3x3 convoltion because initial features needs to be louder to perform better. \n",
        ">5. Then Added MaxPool to reduce parameter as model gets all edges and gradients in first two convolution, which helps to predict better, and also got foundation features of input image.\n",
        "6. Then added 4 consecutive convolution of channels 16x16 with kernals of 3x3 to gets network depth and learn parts of object and objects as digit in MNIST.\n",
        "7. At Last flatten all weights and given to prediction layer final output of 10 classes.\n",
        "\n",
        "***NOTE:*** I have used 1x1 before maxpooling which helps network to learn more features if i used after Maxpooling it will reduces chances of getting featured less and won't helps in model."
      ]
    },
    {
      "cell_type": "code",
      "metadata": {
        "id": "afSij50knSV5",
        "colab_type": "code",
        "outputId": "a9798fab-0b51-4737-9830-08f2296254a6",
        "colab": {
          "base_uri": "https://localhost:8080/",
          "height": 254
        }
      },
      "source": [
        "from keras.layers import Activation\n",
        "model = Sequential()\n",
        "\n",
        " \n",
        "model.add(Convolution2D(10, 3, 3, activation='relu', input_shape=(28,28,1))) # Image size post Convolution:26 #RF :3\n",
        "\n",
        "model.add(Convolution2D(16, 3, 3, activation='relu')) # Image size post Convolution:24 #RF 5\n",
        "model.add(Convolution2D(10, 1, 1, activation='relu')) # Image size post Convolution:24 #RF 5\n",
        "#model.add(Convolution2D(10, 3, 3, activation='relu')) # 22\n",
        "\n",
        "model.add(MaxPooling2D(pool_size=(2, 2))) # Image size post Convoltution:12 #RF 10\n",
        "#model.add(Convolution2D(10, 1, 1, activation='relu')) # 11\n",
        "\n",
        "model.add(Convolution2D(16, 3, 3, activation='relu')) # Image size post Convolution:10 #RF 12\n",
        "model.add(Convolution2D(16, 3, 3, activation='relu')) # Image size post Convolution:8 #RF 14\n",
        "model.add(Convolution2D(16, 3, 3, activation='relu')) # Image size post Convolution:6 #RF 16\n",
        "model.add(Convolution2D(16, 3, 3, activation='relu')) # Image size post Convolution:4 #RF 18\n",
        "\n",
        "model.add(Convolution2D(10, 4))\n",
        "model.add(Flatten())\n",
        "model.add(Activation('softmax'))"
      ],
      "execution_count": 38,
      "outputs": [
        {
          "output_type": "stream",
          "text": [
            "/usr/local/lib/python3.6/dist-packages/ipykernel_launcher.py:5: UserWarning: Update your `Conv2D` call to the Keras 2 API: `Conv2D(10, (3, 3), activation=\"relu\", input_shape=(28, 28, 1...)`\n",
            "  \"\"\"\n",
            "/usr/local/lib/python3.6/dist-packages/ipykernel_launcher.py:7: UserWarning: Update your `Conv2D` call to the Keras 2 API: `Conv2D(16, (3, 3), activation=\"relu\")`\n",
            "  import sys\n",
            "/usr/local/lib/python3.6/dist-packages/ipykernel_launcher.py:8: UserWarning: Update your `Conv2D` call to the Keras 2 API: `Conv2D(10, (1, 1), activation=\"relu\")`\n",
            "  \n",
            "/usr/local/lib/python3.6/dist-packages/ipykernel_launcher.py:14: UserWarning: Update your `Conv2D` call to the Keras 2 API: `Conv2D(16, (3, 3), activation=\"relu\")`\n",
            "  \n",
            "/usr/local/lib/python3.6/dist-packages/ipykernel_launcher.py:15: UserWarning: Update your `Conv2D` call to the Keras 2 API: `Conv2D(16, (3, 3), activation=\"relu\")`\n",
            "  from ipykernel import kernelapp as app\n",
            "/usr/local/lib/python3.6/dist-packages/ipykernel_launcher.py:16: UserWarning: Update your `Conv2D` call to the Keras 2 API: `Conv2D(16, (3, 3), activation=\"relu\")`\n",
            "  app.launch_new_instance()\n",
            "/usr/local/lib/python3.6/dist-packages/ipykernel_launcher.py:17: UserWarning: Update your `Conv2D` call to the Keras 2 API: `Conv2D(16, (3, 3), activation=\"relu\")`\n"
          ],
          "name": "stderr"
        }
      ]
    },
    {
      "cell_type": "code",
      "metadata": {
        "id": "z1O3ha_QnY55",
        "colab_type": "code",
        "outputId": "3b7c12bd-097f-4e8d-ffb8-818239c98b1f",
        "colab": {
          "base_uri": "https://localhost:8080/",
          "height": 502
        }
      },
      "source": [
        "model.summary()"
      ],
      "execution_count": 39,
      "outputs": [
        {
          "output_type": "stream",
          "text": [
            "_________________________________________________________________\n",
            "Layer (type)                 Output Shape              Param #   \n",
            "=================================================================\n",
            "conv2d_17 (Conv2D)           (None, 26, 26, 10)        100       \n",
            "_________________________________________________________________\n",
            "conv2d_18 (Conv2D)           (None, 24, 24, 16)        1456      \n",
            "_________________________________________________________________\n",
            "conv2d_19 (Conv2D)           (None, 24, 24, 10)        170       \n",
            "_________________________________________________________________\n",
            "max_pooling2d_3 (MaxPooling2 (None, 12, 12, 10)        0         \n",
            "_________________________________________________________________\n",
            "conv2d_20 (Conv2D)           (None, 10, 10, 16)        1456      \n",
            "_________________________________________________________________\n",
            "conv2d_21 (Conv2D)           (None, 8, 8, 16)          2320      \n",
            "_________________________________________________________________\n",
            "conv2d_22 (Conv2D)           (None, 6, 6, 16)          2320      \n",
            "_________________________________________________________________\n",
            "conv2d_23 (Conv2D)           (None, 4, 4, 16)          2320      \n",
            "_________________________________________________________________\n",
            "conv2d_24 (Conv2D)           (None, 1, 1, 10)          2570      \n",
            "_________________________________________________________________\n",
            "flatten_3 (Flatten)          (None, 10)                0         \n",
            "_________________________________________________________________\n",
            "activation_3 (Activation)    (None, 10)                0         \n",
            "=================================================================\n",
            "Total params: 12,712\n",
            "Trainable params: 12,712\n",
            "Non-trainable params: 0\n",
            "_________________________________________________________________\n"
          ],
          "name": "stdout"
        }
      ]
    },
    {
      "cell_type": "markdown",
      "metadata": {
        "id": "UpwaVi_m9Kzb",
        "colab_type": "text"
      },
      "source": [
        "###Compile the Model:\n",
        ">***While compile the model we need to declare Loss Function and Optimizer***\n",
        "\n",
        ">***Here we used Adam and categorical cross entropy as optimizer and loss function respectively***"
      ]
    },
    {
      "cell_type": "code",
      "metadata": {
        "id": "syTKEZZznbdl",
        "colab_type": "code",
        "colab": {}
      },
      "source": [
        "model.compile(loss='categorical_crossentropy',\n",
        "             optimizer='adam',\n",
        "             metrics=['accuracy'])"
      ],
      "execution_count": 0,
      "outputs": []
    },
    {
      "cell_type": "markdown",
      "metadata": {
        "id": "bIE21RW1hSp9",
        "colab_type": "text"
      },
      "source": [
        "###Now hard part over, we need to train the model as epochs and batch size on training data and do validation with test data parallaly with each epochs"
      ]
    },
    {
      "cell_type": "code",
      "metadata": {
        "id": "-tq7WQCGneDT",
        "colab_type": "code",
        "outputId": "d52b2bc9-ca45-413b-9891-a1a7e0e6d9f6",
        "colab": {
          "base_uri": "https://localhost:8080/",
          "height": 753
        }
      },
      "source": [
        "model.fit(X_train, Y_train, batch_size=64, nb_epoch=20, verbose=1, validation_data=(X_test,Y_test))"
      ],
      "execution_count": 41,
      "outputs": [
        {
          "output_type": "stream",
          "text": [
            "/usr/local/lib/python3.6/dist-packages/ipykernel_launcher.py:1: UserWarning: The `nb_epoch` argument in `fit` has been renamed `epochs`.\n",
            "  \"\"\"Entry point for launching an IPython kernel.\n"
          ],
          "name": "stderr"
        },
        {
          "output_type": "stream",
          "text": [
            "Train on 60000 samples, validate on 10000 samples\n",
            "Epoch 1/20\n",
            "60000/60000 [==============================] - 6s 100us/step - loss: 0.2918 - acc: 0.9095 - val_loss: 0.0953 - val_acc: 0.9683\n",
            "Epoch 2/20\n",
            "60000/60000 [==============================] - 5s 91us/step - loss: 0.0967 - acc: 0.9711 - val_loss: 0.0618 - val_acc: 0.9800\n",
            "Epoch 3/20\n",
            "60000/60000 [==============================] - 5s 91us/step - loss: 0.0732 - acc: 0.9780 - val_loss: 0.0567 - val_acc: 0.9806\n",
            "Epoch 4/20\n",
            "60000/60000 [==============================] - 5s 91us/step - loss: 0.0601 - acc: 0.9810 - val_loss: 0.0555 - val_acc: 0.9824\n",
            "Epoch 5/20\n",
            "60000/60000 [==============================] - 5s 91us/step - loss: 0.0516 - acc: 0.9843 - val_loss: 0.0466 - val_acc: 0.9835\n",
            "Epoch 6/20\n",
            "60000/60000 [==============================] - 5s 91us/step - loss: 0.0456 - acc: 0.9856 - val_loss: 0.0411 - val_acc: 0.9866\n",
            "Epoch 7/20\n",
            "60000/60000 [==============================] - 5s 90us/step - loss: 0.0412 - acc: 0.9875 - val_loss: 0.0309 - val_acc: 0.9894\n",
            "Epoch 8/20\n",
            "60000/60000 [==============================] - 5s 91us/step - loss: 0.0360 - acc: 0.9889 - val_loss: 0.0366 - val_acc: 0.9874\n",
            "Epoch 9/20\n",
            "60000/60000 [==============================] - 5s 91us/step - loss: 0.0333 - acc: 0.9895 - val_loss: 0.0297 - val_acc: 0.9897\n",
            "Epoch 10/20\n",
            "60000/60000 [==============================] - 5s 91us/step - loss: 0.0292 - acc: 0.9910 - val_loss: 0.0364 - val_acc: 0.9883\n",
            "Epoch 11/20\n",
            "60000/60000 [==============================] - 6s 93us/step - loss: 0.0272 - acc: 0.9915 - val_loss: 0.0316 - val_acc: 0.9902\n",
            "Epoch 12/20\n",
            "60000/60000 [==============================] - 6s 105us/step - loss: 0.0252 - acc: 0.9919 - val_loss: 0.0277 - val_acc: 0.9909\n",
            "Epoch 13/20\n",
            "60000/60000 [==============================] - 6s 97us/step - loss: 0.0227 - acc: 0.9927 - val_loss: 0.0391 - val_acc: 0.9881\n",
            "Epoch 14/20\n",
            "60000/60000 [==============================] - 6s 103us/step - loss: 0.0215 - acc: 0.9928 - val_loss: 0.0295 - val_acc: 0.9911\n",
            "Epoch 15/20\n",
            "60000/60000 [==============================] - 5s 91us/step - loss: 0.0200 - acc: 0.9933 - val_loss: 0.0235 - val_acc: 0.9921\n",
            "Epoch 16/20\n",
            "60000/60000 [==============================] - 5s 91us/step - loss: 0.0187 - acc: 0.9937 - val_loss: 0.0355 - val_acc: 0.9880\n",
            "Epoch 17/20\n",
            "60000/60000 [==============================] - 5s 90us/step - loss: 0.0181 - acc: 0.9938 - val_loss: 0.0273 - val_acc: 0.9911\n",
            "Epoch 18/20\n",
            "60000/60000 [==============================] - 6s 107us/step - loss: 0.0168 - acc: 0.9947 - val_loss: 0.0362 - val_acc: 0.9898\n",
            "Epoch 19/20\n",
            "60000/60000 [==============================] - 6s 104us/step - loss: 0.0156 - acc: 0.9947 - val_loss: 0.0245 - val_acc: 0.9928\n",
            "Epoch 20/20\n",
            "60000/60000 [==============================] - 5s 91us/step - loss: 0.0141 - acc: 0.9956 - val_loss: 0.0319 - val_acc: 0.9901\n"
          ],
          "name": "stdout"
        },
        {
          "output_type": "execute_result",
          "data": {
            "text/plain": [
              "<keras.callbacks.History at 0x7f2f2c2197f0>"
            ]
          },
          "metadata": {
            "tags": []
          },
          "execution_count": 41
        }
      ]
    },
    {
      "cell_type": "markdown",
      "metadata": {
        "id": "hBtWTgr1GMGU",
        "colab_type": "text"
      },
      "source": [
        "###Model Observation with logs:\n",
        ">1. Model which includes Only BN and 1x1 convolution with maxpooling and approx. ***13k*** params.\n",
        ">2. Loss of model is not good as it is vanilla version -1.\n",
        ">3 highest validation Accuracy ***99.21*** with epochs ***20*** and batch size ***64***."
      ]
    },
    {
      "cell_type": "markdown",
      "metadata": {
        "id": "cEUM6dGSha48",
        "colab_type": "text"
      },
      "source": [
        "###Now Evaluating the model on test data "
      ]
    },
    {
      "cell_type": "code",
      "metadata": {
        "id": "WeRuqGLdngxC",
        "colab_type": "code",
        "colab": {}
      },
      "source": [
        "score = model.evaluate(X_test, Y_test, verbose=0)"
      ],
      "execution_count": 0,
      "outputs": []
    },
    {
      "cell_type": "code",
      "metadata": {
        "id": "gqYR1YFUnjrL",
        "colab_type": "code",
        "outputId": "c8dfe211-9500-404b-9641-61908eb413a6",
        "colab": {
          "base_uri": "https://localhost:8080/",
          "height": 33
        }
      },
      "source": [
        "print(score)"
      ],
      "execution_count": 43,
      "outputs": [
        {
          "output_type": "stream",
          "text": [
            "[0.03187539158790605, 0.9901]\n"
          ],
          "name": "stdout"
        }
      ]
    },
    {
      "cell_type": "markdown",
      "metadata": {
        "id": "rKrpsB92jGiW",
        "colab_type": "text"
      },
      "source": [
        "###Start Prediction on Test Data"
      ]
    },
    {
      "cell_type": "code",
      "metadata": {
        "id": "nYNKqPxAnlhq",
        "colab_type": "code",
        "colab": {}
      },
      "source": [
        "y_pred = model.predict(X_test)"
      ],
      "execution_count": 0,
      "outputs": []
    },
    {
      "cell_type": "code",
      "metadata": {
        "id": "88soclsPnoiB",
        "colab_type": "code",
        "outputId": "2f7c922e-63c1-4b8f-f0d3-981f707f0d81",
        "colab": {
          "base_uri": "https://localhost:8080/",
          "height": 334
        }
      },
      "source": [
        "print(y_pred[:9])\n",
        "print(y_test[:9])"
      ],
      "execution_count": 45,
      "outputs": [
        {
          "output_type": "stream",
          "text": [
            "[[2.0761101e-12 3.2895940e-08 1.7807968e-09 3.8929468e-07 1.5682252e-11\n",
            "  7.1203243e-10 1.7160613e-20 9.9999905e-01 3.1444022e-10 4.8198177e-07]\n",
            " [1.3167438e-11 6.1292673e-09 1.0000000e+00 3.3508252e-13 1.6217974e-09\n",
            "  3.2548204e-16 3.7303454e-09 2.3669480e-14 6.4297293e-13 6.5071899e-11]\n",
            " [1.1317336e-05 9.9916184e-01 5.6631951e-08 7.1115989e-09 6.9580783e-05\n",
            "  8.1130040e-08 7.3801621e-04 7.5842547e-07 8.4096973e-06 9.9265617e-06]\n",
            " [9.9999154e-01 7.2416843e-11 1.5323199e-09 2.6878272e-10 7.3622907e-08\n",
            "  1.1608536e-06 6.5236177e-06 1.6794625e-11 8.9186956e-11 6.7246776e-07]\n",
            " [3.4252511e-13 1.4520228e-09 3.0683380e-09 3.7480652e-13 9.9999547e-01\n",
            "  6.1268133e-15 8.1299151e-10 6.9024566e-13 6.7270897e-11 4.4988010e-06]\n",
            " [7.7625549e-07 9.9994910e-01 7.5680511e-08 2.0918360e-10 2.2986984e-05\n",
            "  8.0524622e-08 1.2569895e-05 3.2905768e-07 1.3798696e-05 1.3489529e-07]\n",
            " [7.8928482e-20 1.9300758e-07 2.7183411e-09 2.0144394e-13 9.9999964e-01\n",
            "  9.3571547e-14 9.5742997e-15 2.2020765e-09 2.1428360e-08 7.5420338e-08]\n",
            " [2.7543749e-11 5.2519930e-13 1.6772386e-10 1.0570346e-10 2.6606965e-06\n",
            "  3.0151579e-11 3.1402024e-13 2.0918321e-11 6.1994101e-08 9.9999726e-01]\n",
            " [2.3140150e-09 8.8262776e-16 3.5748144e-16 1.4501280e-08 1.7542399e-12\n",
            "  9.9927884e-01 1.8663661e-04 2.5187726e-20 5.3408300e-04 4.6029743e-07]]\n",
            "[7 2 1 0 4 1 4 9 5]\n"
          ],
          "name": "stdout"
        }
      ]
    },
    {
      "cell_type": "code",
      "metadata": {
        "id": "8yH-kB8Gnrir",
        "colab_type": "code",
        "colab": {}
      },
      "source": [
        "layer_dict = dict([(layer.name, layer) for layer in model.layers])"
      ],
      "execution_count": 0,
      "outputs": []
    },
    {
      "cell_type": "code",
      "metadata": {
        "id": "v27iNYl9nv_T",
        "colab_type": "code",
        "outputId": "85ca7092-0602-4023-93fb-1b0b9dda5a44",
        "colab": {
          "base_uri": "https://localhost:8080/",
          "height": 741
        }
      },
      "source": [
        "import numpy as np\n",
        "from matplotlib import pyplot as plt\n",
        "from keras import backend as K\n",
        "%matplotlib inline\n",
        "# util function to convert a tensor into a valid image\n",
        "def deprocess_image(x):\n",
        "    # normalize tensor: center on 0., ensure std is 0.1\n",
        "    x -= x.mean()\n",
        "    x /= (x.std() + 1e-5)\n",
        "    x *= 0.1\n",
        "\n",
        "    # clip to [0, 1]\n",
        "    x += 0.5\n",
        "    x = np.clip(x, 0, 1)\n",
        "\n",
        "    # convert to RGB array\n",
        "    x *= 255\n",
        "    #x = x.transpose((1, 2, 0))\n",
        "    x = np.clip(x, 0, 255).astype('uint8')\n",
        "    return x\n",
        "\n",
        "def vis_img_in_filter(img = np.array(X_train[2]).reshape((1, 28, 28, 1)).astype(np.float64), \n",
        "                      layer_name = 'conv2d_23'):\n",
        "    layer_output = layer_dict[layer_name].output\n",
        "    img_ascs = list()\n",
        "    for filter_index in range(layer_output.shape[3]):\n",
        "        # build a loss function that maximizes the activation\n",
        "        # of the nth filter of the layer considered\n",
        "        loss = K.mean(layer_output[:, :, :, filter_index])\n",
        "\n",
        "        # compute the gradient of the input picture wrt this loss\n",
        "        grads = K.gradients(loss, model.input)[0]\n",
        "\n",
        "        # normalization trick: we normalize the gradient\n",
        "        grads /= (K.sqrt(K.mean(K.square(grads))) + 1e-5)\n",
        "\n",
        "        # this function returns the loss and grads given the input picture\n",
        "        iterate = K.function([model.input], [loss, grads])\n",
        "\n",
        "        # step size for gradient ascent\n",
        "        step = 5.\n",
        "\n",
        "        img_asc = np.array(img)\n",
        "        # run gradient ascent for 20 steps\n",
        "        for i in range(20):\n",
        "            loss_value, grads_value = iterate([img_asc])\n",
        "            img_asc += grads_value * step\n",
        "\n",
        "        img_asc = img_asc[0]\n",
        "        img_ascs.append(deprocess_image(img_asc).reshape((28, 28)))\n",
        "        \n",
        "    if layer_output.shape[3] >= 35:\n",
        "        plot_x, plot_y = 6, 6\n",
        "    elif layer_output.shape[3] >= 23:\n",
        "        plot_x, plot_y = 4, 6\n",
        "    elif layer_output.shape[3] >= 11:\n",
        "        plot_x, plot_y = 2, 6\n",
        "    else:\n",
        "        plot_x, plot_y = 1, 2\n",
        "    fig, ax = plt.subplots(plot_x, plot_y, figsize = (12, 12))\n",
        "    ax[0, 0].imshow(img.reshape((28, 28)), cmap = 'gray')\n",
        "    ax[0, 0].set_title('Input image')\n",
        "    fig.suptitle('Input image and %s filters' % (layer_name,))\n",
        "    fig.tight_layout(pad = 0.3, rect = [0, 0, 0.9, 0.9])\n",
        "    for (x, y) in [(i, j) for i in range(plot_x) for j in range(plot_y)]:\n",
        "        if x == 0 and y == 0:\n",
        "            continue\n",
        "        ax[x, y].imshow(img_ascs[x * plot_y + y - 1], cmap = 'gray')\n",
        "        ax[x, y].set_title('filter %d' % (x * plot_y + y - 1))\n",
        "\n",
        "vis_img_in_filter()"
      ],
      "execution_count": 50,
      "outputs": [
        {
          "output_type": "display_data",
          "data": {
            "image/png": "[encoded data removed]",
            "text/plain": [
              "<Figure size 864x864 with 12 Axes>"
            ]
          },
          "metadata": {
            "tags": []
          }
        }
      ]
    }
  ]
}