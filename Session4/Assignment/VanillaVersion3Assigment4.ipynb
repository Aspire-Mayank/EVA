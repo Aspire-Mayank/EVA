{
  "nbformat": 4,
  "nbformat_minor": 0,
  "metadata": {
    "colab": {
      "name": "VanillaVersion3Assigment4.ipynb",
      "version": "0.3.2",
      "provenance": [],
      "collapsed_sections": []
    },
    "kernelspec": {
      "name": "python3",
      "display_name": "Python 3"
    },
    "accelerator": "GPU"
  },
  "cells": [
    {
      "cell_type": "markdown",
      "metadata": {
        "id": "N-zJJyU6Cdz-",
        "colab_type": "text"
      },
      "source": [
        "##Vanilla Version -3 : Assigment 4 "
      ]
    },
    {
      "cell_type": "markdown",
      "metadata": {
        "id": "a3xCHpPfXvNV",
        "colab_type": "text"
      },
      "source": [
        "###Installing Important weapons of DNN (keras)"
      ]
    },
    {
      "cell_type": "code",
      "metadata": {
        "id": "Ae4NIzdbud8B",
        "colab_type": "code",
        "outputId": "39da1b49-dbd7-4297-bb5f-5a702adefeda",
        "colab": {
          "base_uri": "https://localhost:8080/",
          "height": 33
        }
      },
      "source": [
        "# https://keras.io/\n",
        "!pip install -q keras\n",
        "import keras"
      ],
      "execution_count": 1,
      "outputs": [
        {
          "output_type": "stream",
          "text": [
            "Using TensorFlow backend.\n"
          ],
          "name": "stderr"
        }
      ]
    },
    {
      "cell_type": "markdown",
      "metadata": {
        "id": "QDpnnNKjwe4-",
        "colab_type": "text"
      },
      "source": [
        "###Installing Keras and related core assualts for using in Neural Network"
      ]
    },
    {
      "cell_type": "code",
      "metadata": {
        "id": "86xOwp-TwgA5",
        "colab_type": "code",
        "colab": {}
      },
      "source": [
        "import numpy as np\n",
        "\n",
        "from keras.models import Sequential\n",
        "from keras.layers import Dense, Dropout, Activation, Flatten, Add\n",
        "from keras.layers import Convolution2D, MaxPooling2D\n",
        "from keras.utils import np_utils\n",
        "\n",
        "from keras.datasets import mnist"
      ],
      "execution_count": 0,
      "outputs": []
    },
    {
      "cell_type": "markdown",
      "metadata": {
        "id": "RVypk1MTwk4A",
        "colab_type": "text"
      },
      "source": [
        "###Loading pre-Shuffled MNIST DataSet in Training and Test "
      ]
    },
    {
      "cell_type": "code",
      "metadata": {
        "id": "ytd3xOp2wlGq",
        "colab_type": "code",
        "colab": {}
      },
      "source": [
        "(X_train, y_train), (X_test, y_test) = mnist.load_data()"
      ],
      "execution_count": 0,
      "outputs": []
    },
    {
      "cell_type": "markdown",
      "metadata": {
        "id": "eL5f_VexGdzB",
        "colab_type": "text"
      },
      "source": [
        "###We can confirm and see we have 60K sample images each of size 28x28, will plot and see sample images."
      ]
    },
    {
      "cell_type": "code",
      "metadata": {
        "id": "0bW6SMjAwnMo",
        "colab_type": "code",
        "outputId": "6a9192ee-98cd-40ab-8e35-f07547d9a510",
        "colab": {
          "base_uri": "https://localhost:8080/",
          "height": 302
        }
      },
      "source": [
        "print (X_train.shape)\n",
        "from matplotlib import pyplot as plt\n",
        "%matplotlib inline\n",
        "plt.imshow(X_train[3])"
      ],
      "execution_count": 4,
      "outputs": [
        {
          "output_type": "stream",
          "text": [
            "(60000, 28, 28)\n"
          ],
          "name": "stdout"
        },
        {
          "output_type": "execute_result",
          "data": {
            "text/plain": [
              "<matplotlib.image.AxesImage at 0x7f26f05eb390>"
            ]
          },
          "metadata": {
            "tags": []
          },
          "execution_count": 4
        },
        {
          "output_type": "display_data",
          "data": {
            "image/png": "[encoded data removed]",
            "text/plain": [
              "<Figure size 432x288 with 1 Axes>"
            ]
          },
          "metadata": {
            "tags": []
          }
        }
      ]
    },
    {
      "cell_type": "markdown",
      "metadata": {
        "id": "AFdJEZR6D556",
        "colab_type": "text"
      },
      "source": [
        "###Preprocess input data for Keras.\n",
        ">***A full-color image with all 3 RGB channels will have a depth of 3.Our MNIST images only have a depth of 1, but we must explicitly declare that.***\n",
        "\n",
        ">***In other words, we want to transform our dataset from having shape (n, width, height) to (n, depth, width, height)***."
      ]
    },
    {
      "cell_type": "code",
      "metadata": {
        "id": "-8GM5d6FwtpQ",
        "colab_type": "code",
        "colab": {}
      },
      "source": [
        "#Converting/Reshaping 2-D dimenional Grayscale image to keras specific 4-D input/output form\n",
        "X_train = X_train.reshape(X_train.shape[0], 28, 28,1)\n",
        "X_test = X_test.reshape(X_test.shape[0], 28, 28,1)"
      ],
      "execution_count": 0,
      "outputs": []
    },
    {
      "cell_type": "markdown",
      "metadata": {
        "id": "wgSDr3SKIfR_",
        "colab_type": "text"
      },
      "source": [
        "### Final preprocessing step for the input data is to convert our data type to float32 and normalize our data values to the range"
      ]
    },
    {
      "cell_type": "code",
      "metadata": {
        "id": "8pR9xaZIwwPA",
        "colab_type": "code",
        "colab": {}
      },
      "source": [
        "X_train = X_train.astype('float32')\n",
        "X_test = X_test.astype('float32')\n",
        "X_train /= 255\n",
        "X_test /= 255"
      ],
      "execution_count": 0,
      "outputs": []
    },
    {
      "cell_type": "markdown",
      "metadata": {
        "id": "B5e-2aoeIzTk",
        "colab_type": "text"
      },
      "source": [
        "###Preprocess class labels for Keras.\n",
        ">***let's take a look at the shape of our class label data***\n"
      ]
    },
    {
      "cell_type": "code",
      "metadata": {
        "id": "8uU-4luwKB6a",
        "colab_type": "code",
        "outputId": "7ac02677-820d-46bb-f067-64bb8a7a5609",
        "colab": {
          "base_uri": "https://localhost:8080/",
          "height": 33
        }
      },
      "source": [
        "print(y_train.shape)"
      ],
      "execution_count": 7,
      "outputs": [
        {
          "output_type": "stream",
          "text": [
            "(60000,)\n"
          ],
          "name": "stdout"
        }
      ]
    },
    {
      "cell_type": "markdown",
      "metadata": {
        "id": "lfeYxqo5KDDK",
        "colab_type": "text"
      },
      "source": [
        "\n",
        ">***We should have 10 different classes, one for each digit, but it looks like we only have a 1-dimensional array.***\n",
        "\n",
        ">***Let's take a look at the labels for the first 10 training samples:***"
      ]
    },
    {
      "cell_type": "code",
      "metadata": {
        "id": "sR0OBUoQwyiR",
        "colab_type": "code",
        "outputId": "f14816f1-e022-45ac-b454-20e4b8da7670",
        "colab": {
          "base_uri": "https://localhost:8080/",
          "height": 33
        }
      },
      "source": [
        "y_train[:10]"
      ],
      "execution_count": 8,
      "outputs": [
        {
          "output_type": "execute_result",
          "data": {
            "text/plain": [
              "array([5, 0, 4, 1, 9, 2, 1, 3, 1, 4], dtype=uint8)"
            ]
          },
          "metadata": {
            "tags": []
          },
          "execution_count": 8
        }
      ]
    },
    {
      "cell_type": "markdown",
      "metadata": {
        "id": "PC3ZTzfaKkGg",
        "colab_type": "text"
      },
      "source": [
        "###And there's the problem. The y_train and y_test data are not split into 10 distinct class labels, but rather are represented as a single array with the class values.\n",
        "\n",
        ">***1. We can fix this easily:***"
      ]
    },
    {
      "cell_type": "code",
      "metadata": {
        "id": "zvkD7VfNvsOC",
        "colab_type": "code",
        "colab": {}
      },
      "source": [
        "# Convert 1-dimensional class arrays to 10-dimensional class matrices\n",
        "Y_train = np_utils.to_categorical(y_train, 10)\n",
        "Y_test = np_utils.to_categorical(y_test, 10)"
      ],
      "execution_count": 0,
      "outputs": []
    },
    {
      "cell_type": "markdown",
      "metadata": {
        "id": "T9x3rm3DK8x8",
        "colab_type": "text"
      },
      "source": [
        "###Now have a look:"
      ]
    },
    {
      "cell_type": "code",
      "metadata": {
        "id": "pAqV4GDNLKJU",
        "colab_type": "code",
        "outputId": "df084deb-1738-493e-94aa-fbda681ee7c9",
        "colab": {
          "base_uri": "https://localhost:8080/",
          "height": 33
        }
      },
      "source": [
        "print (Y_train.shape)"
      ],
      "execution_count": 10,
      "outputs": [
        {
          "output_type": "stream",
          "text": [
            "(60000, 10)\n"
          ],
          "name": "stdout"
        }
      ]
    },
    {
      "cell_type": "code",
      "metadata": {
        "id": "uJFFdoIZvvYN",
        "colab_type": "code",
        "outputId": "0245e5ac-c825-4d0c-e5ea-83de8ed8b2de",
        "colab": {
          "base_uri": "https://localhost:8080/",
          "height": 184
        }
      },
      "source": [
        "Y_train[:10]"
      ],
      "execution_count": 11,
      "outputs": [
        {
          "output_type": "execute_result",
          "data": {
            "text/plain": [
              "array([[0., 0., 0., 0., 0., 1., 0., 0., 0., 0.],\n",
              "       [1., 0., 0., 0., 0., 0., 0., 0., 0., 0.],\n",
              "       [0., 0., 0., 0., 1., 0., 0., 0., 0., 0.],\n",
              "       [0., 1., 0., 0., 0., 0., 0., 0., 0., 0.],\n",
              "       [0., 0., 0., 0., 0., 0., 0., 0., 0., 1.],\n",
              "       [0., 0., 1., 0., 0., 0., 0., 0., 0., 0.],\n",
              "       [0., 1., 0., 0., 0., 0., 0., 0., 0., 0.],\n",
              "       [0., 0., 0., 1., 0., 0., 0., 0., 0., 0.],\n",
              "       [0., 1., 0., 0., 0., 0., 0., 0., 0., 0.],\n",
              "       [0., 0., 0., 0., 1., 0., 0., 0., 0., 0.]], dtype=float32)"
            ]
          },
          "metadata": {
            "tags": []
          },
          "execution_count": 11
        }
      ]
    },
    {
      "cell_type": "markdown",
      "metadata": {
        "id": "EmzftdD7LW7T",
        "colab_type": "text"
      },
      "source": [
        "##Define Model Architechture :"
      ]
    },
    {
      "cell_type": "markdown",
      "metadata": {
        "id": "5-7VbRO2DdPx",
        "colab_type": "text"
      },
      "source": [
        "###Model Observation points:\n",
        ">1. As these model have improvments of Dropouts with BN.\n",
        ">2. Dropouts not added before Prediction layers as it restrict some neurons to speak while doing predictio.\n",
        ">3. Helps model to perform well with ***99.43*** max prediction.\n"
      ]
    },
    {
      "cell_type": "code",
      "metadata": {
        "id": "8aZ7ugF4w3KJ",
        "colab_type": "code",
        "outputId": "0df6e2a8-cc71-45d6-9ced-41777a6b408d",
        "colab": {
          "base_uri": "https://localhost:8080/",
          "height": 187
        }
      },
      "source": [
        "#Importing core Functions of Keras layers which will use in Neural Network\n",
        "from keras.layers import Activation, BatchNormalization\n",
        "\n",
        "#Now Will start with Sequential Model\n",
        "model = Sequential()\n",
        "\n",
        "#Adding Input Layer:\n",
        "#Input Image size 28x28x1\n",
        "#convolution filter/kernal size is 3x3x1 of count/row : 10\n",
        "model.add(Convolution2D(16, 3, 3, activation='relu', input_shape=(28,28,1))) # 26\n",
        "#BatchNorms will normalize weights using Mean, Variance of each channels pixel-wise in particular layer\n",
        "model.add(BatchNormalization())\n",
        "#adding Dropouts(10% drops in pixel values randomly) which drops random nueron/pixel in particular layer which helps model to learn other params exceplicitly\n",
        "model.add(Dropout(0.1))\n",
        "\n",
        "#Input image to these layer is 26x26x10\n",
        "#Kernal/filter size : 3x3x10 of number/count/row : 16\n",
        "model.add(Convolution2D(32, 3, 3, activation='relu')) # 24\n",
        "model.add(BatchNormalization())\n",
        "model.add(Dropout(0.1))\n",
        "\n",
        "#Input image to these layer is 24x24x10\n",
        "#Kernal/filter size : 1x1x16 of number/count/row : 10\n",
        "#1x1 convolution layer which helps to reduce channel size and increase particular features amplitude.\n",
        "model.add(Convolution2D(10, 1, 1, activation='relu')) # 24\n",
        "\n",
        "#MaxPooling2D is a way to reduce the number of parameters in our model by sliding a 2x2 pooling,\n",
        "#filter across the previous layer and taking the max of the 4 values in the 2x2 filter.\n",
        "model.add(MaxPooling2D(pool_size=(2, 2))) # 12\n",
        "#model.add(Convolution2D(10, 1, 1, activation='relu')) # 12\n",
        "\n",
        "#Input image to these layer is 12x12x10\n",
        "#Kernal/filter size : 3x3x10 of number/count/row : 16\n",
        "model.add(Convolution2D(16, 3, 3, activation='relu')) # 10\n",
        "model.add(BatchNormalization())\n",
        "model.add(Dropout(0.1))\n",
        "\n",
        "#Input image to these layer is 10x10x16\n",
        "#Kernal/filter size : 3x3x16 of number/count/row : 16\n",
        "model.add(Convolution2D(16, 3, 3, activation='relu')) # 8\n",
        "model.add(BatchNormalization())\n",
        "model.add(Dropout(0.1))\n",
        "\n",
        "#Input image to these layer is 8x8x16\n",
        "#Kernal/filter size : 3x3x16 of number/count/row : 16\n",
        "model.add(Convolution2D(16, 3, 3, activation='relu')) # 6\n",
        "model.add(BatchNormalization())\n",
        "model.add(Dropout(0.1))\n",
        "\n",
        "#Input image to these layer is 6x6x16\n",
        "#Kernal/filter size : 3x3x16 of number/count/row : 16\n",
        "model.add(Convolution2D(16, 3, 3, activation='relu')) # 4\n",
        "model.add(BatchNormalization())\n",
        "\n",
        "\n",
        "#model.add(Convolution2D(10, 1, activation='relu')) #4\n",
        "model.add(Convolution2D(10, 4, 4))\n",
        "\n",
        "#Before prediction layer we should flatten all convolution weights of neuron\n",
        "model.add(Flatten())\n",
        "model.add(Activation('softmax'))"
      ],
      "execution_count": 24,
      "outputs": [
        {
          "output_type": "stream",
          "text": [
            "/usr/local/lib/python3.6/dist-packages/ipykernel_launcher.py:9: UserWarning: Update your `Conv2D` call to the Keras 2 API: `Conv2D(16, (3, 3), activation=\"relu\", input_shape=(28, 28, 1...)`\n",
            "  if __name__ == '__main__':\n",
            "/usr/local/lib/python3.6/dist-packages/ipykernel_launcher.py:17: UserWarning: Update your `Conv2D` call to the Keras 2 API: `Conv2D(32, (3, 3), activation=\"relu\")`\n",
            "/usr/local/lib/python3.6/dist-packages/ipykernel_launcher.py:24: UserWarning: Update your `Conv2D` call to the Keras 2 API: `Conv2D(10, (1, 1), activation=\"relu\")`\n",
            "/usr/local/lib/python3.6/dist-packages/ipykernel_launcher.py:33: UserWarning: Update your `Conv2D` call to the Keras 2 API: `Conv2D(16, (3, 3), activation=\"relu\")`\n",
            "/usr/local/lib/python3.6/dist-packages/ipykernel_launcher.py:39: UserWarning: Update your `Conv2D` call to the Keras 2 API: `Conv2D(16, (3, 3), activation=\"relu\")`\n",
            "/usr/local/lib/python3.6/dist-packages/ipykernel_launcher.py:45: UserWarning: Update your `Conv2D` call to the Keras 2 API: `Conv2D(16, (3, 3), activation=\"relu\")`\n",
            "/usr/local/lib/python3.6/dist-packages/ipykernel_launcher.py:51: UserWarning: Update your `Conv2D` call to the Keras 2 API: `Conv2D(16, (3, 3), activation=\"relu\")`\n",
            "/usr/local/lib/python3.6/dist-packages/ipykernel_launcher.py:56: UserWarning: Update your `Conv2D` call to the Keras 2 API: `Conv2D(10, (4, 4))`\n"
          ],
          "name": "stderr"
        }
      ]
    },
    {
      "cell_type": "code",
      "metadata": {
        "id": "g6iA_H0Mw5Wh",
        "colab_type": "code",
        "outputId": "596ba143-27d5-4db5-c295-596ae69358b3",
        "colab": {
          "base_uri": "https://localhost:8080/",
          "height": 870
        }
      },
      "source": [
        "model.summary()"
      ],
      "execution_count": 25,
      "outputs": [
        {
          "output_type": "stream",
          "text": [
            "_________________________________________________________________\n",
            "Layer (type)                 Output Shape              Param #   \n",
            "=================================================================\n",
            "conv2d_9 (Conv2D)            (None, 26, 26, 16)        160       \n",
            "_________________________________________________________________\n",
            "batch_normalization_7 (Batch (None, 26, 26, 16)        64        \n",
            "_________________________________________________________________\n",
            "dropout_6 (Dropout)          (None, 26, 26, 16)        0         \n",
            "_________________________________________________________________\n",
            "conv2d_10 (Conv2D)           (None, 24, 24, 32)        4640      \n",
            "_________________________________________________________________\n",
            "batch_normalization_8 (Batch (None, 24, 24, 32)        128       \n",
            "_________________________________________________________________\n",
            "dropout_7 (Dropout)          (None, 24, 24, 32)        0         \n",
            "_________________________________________________________________\n",
            "conv2d_11 (Conv2D)           (None, 24, 24, 10)        330       \n",
            "_________________________________________________________________\n",
            "max_pooling2d_2 (MaxPooling2 (None, 12, 12, 10)        0         \n",
            "_________________________________________________________________\n",
            "conv2d_12 (Conv2D)           (None, 10, 10, 16)        1456      \n",
            "_________________________________________________________________\n",
            "batch_normalization_9 (Batch (None, 10, 10, 16)        64        \n",
            "_________________________________________________________________\n",
            "dropout_8 (Dropout)          (None, 10, 10, 16)        0         \n",
            "_________________________________________________________________\n",
            "conv2d_13 (Conv2D)           (None, 8, 8, 16)          2320      \n",
            "_________________________________________________________________\n",
            "batch_normalization_10 (Batc (None, 8, 8, 16)          64        \n",
            "_________________________________________________________________\n",
            "dropout_9 (Dropout)          (None, 8, 8, 16)          0         \n",
            "_________________________________________________________________\n",
            "conv2d_14 (Conv2D)           (None, 6, 6, 16)          2320      \n",
            "_________________________________________________________________\n",
            "batch_normalization_11 (Batc (None, 6, 6, 16)          64        \n",
            "_________________________________________________________________\n",
            "dropout_10 (Dropout)         (None, 6, 6, 16)          0         \n",
            "_________________________________________________________________\n",
            "conv2d_15 (Conv2D)           (None, 4, 4, 16)          2320      \n",
            "_________________________________________________________________\n",
            "batch_normalization_12 (Batc (None, 4, 4, 16)          64        \n",
            "_________________________________________________________________\n",
            "conv2d_16 (Conv2D)           (None, 1, 1, 10)          2570      \n",
            "_________________________________________________________________\n",
            "flatten_2 (Flatten)          (None, 10)                0         \n",
            "_________________________________________________________________\n",
            "activation_2 (Activation)    (None, 10)                0         \n",
            "=================================================================\n",
            "Total params: 16,564\n",
            "Trainable params: 16,340\n",
            "Non-trainable params: 224\n",
            "_________________________________________________________________\n"
          ],
          "name": "stdout"
        }
      ]
    },
    {
      "cell_type": "markdown",
      "metadata": {
        "id": "w5MO-UNhD-wM",
        "colab_type": "text"
      },
      "source": [
        "###Compile the Model:\n",
        ">***While compile the model we need to declare Loss Function and Optimizer***\n",
        "\n",
        ">***Here we used Adam and categorical cross entropy as optimizer and loss function respectively***\n"
      ]
    },
    {
      "cell_type": "code",
      "metadata": {
        "id": "haXzMEuPw8zq",
        "colab_type": "code",
        "colab": {}
      },
      "source": [
        "model.compile(loss='categorical_crossentropy',\n",
        "             optimizer='adam',\n",
        "             metrics=['accuracy'])"
      ],
      "execution_count": 0,
      "outputs": []
    },
    {
      "cell_type": "markdown",
      "metadata": {
        "id": "n8N3ABJCFWT5",
        "colab_type": "text"
      },
      "source": [
        "###Now hard part over, we need to train the model as epochs and batch size for training data and do validation with test data parallaly with each epochs"
      ]
    },
    {
      "cell_type": "code",
      "metadata": {
        "id": "s7sG5s7xw_sE",
        "colab_type": "code",
        "outputId": "99903310-1bc8-4022-f8f8-2ce5559a3ed5",
        "colab": {
          "base_uri": "https://localhost:8080/",
          "height": 753
        }
      },
      "source": [
        "model.fit(X_train, Y_train, batch_size=64, nb_epoch=20, verbose=1, validation_data=(X_test,Y_test))"
      ],
      "execution_count": 27,
      "outputs": [
        {
          "output_type": "stream",
          "text": [
            "/usr/local/lib/python3.6/dist-packages/ipykernel_launcher.py:1: UserWarning: The `nb_epoch` argument in `fit` has been renamed `epochs`.\n",
            "  \"\"\"Entry point for launching an IPython kernel.\n"
          ],
          "name": "stderr"
        },
        {
          "output_type": "stream",
          "text": [
            "Train on 60000 samples, validate on 10000 samples\n",
            "Epoch 1/20\n",
            "60000/60000 [==============================] - 14s 225us/step - loss: 0.2333 - acc: 0.9283 - val_loss: 0.0742 - val_acc: 0.9765\n",
            "Epoch 2/20\n",
            "60000/60000 [==============================] - 11s 189us/step - loss: 0.0669 - acc: 0.9794 - val_loss: 0.0415 - val_acc: 0.9862\n",
            "Epoch 3/20\n",
            "60000/60000 [==============================] - 10s 174us/step - loss: 0.0523 - acc: 0.9841 - val_loss: 0.0388 - val_acc: 0.9867\n",
            "Epoch 4/20\n",
            "60000/60000 [==============================] - 10s 173us/step - loss: 0.0439 - acc: 0.9864 - val_loss: 0.0330 - val_acc: 0.9890\n",
            "Epoch 5/20\n",
            "60000/60000 [==============================] - 10s 174us/step - loss: 0.0401 - acc: 0.9876 - val_loss: 0.0289 - val_acc: 0.9904\n",
            "Epoch 6/20\n",
            "60000/60000 [==============================] - 10s 175us/step - loss: 0.0358 - acc: 0.9887 - val_loss: 0.0280 - val_acc: 0.9912\n",
            "Epoch 7/20\n",
            "60000/60000 [==============================] - 10s 175us/step - loss: 0.0332 - acc: 0.9895 - val_loss: 0.0255 - val_acc: 0.9916\n",
            "Epoch 8/20\n",
            "60000/60000 [==============================] - 10s 174us/step - loss: 0.0305 - acc: 0.9903 - val_loss: 0.0241 - val_acc: 0.9926\n",
            "Epoch 9/20\n",
            "60000/60000 [==============================] - 11s 187us/step - loss: 0.0274 - acc: 0.9916 - val_loss: 0.0244 - val_acc: 0.9924\n",
            "Epoch 10/20\n",
            "60000/60000 [==============================] - 11s 179us/step - loss: 0.0288 - acc: 0.9905 - val_loss: 0.0258 - val_acc: 0.9918\n",
            "Epoch 11/20\n",
            "60000/60000 [==============================] - 10s 174us/step - loss: 0.0255 - acc: 0.9917 - val_loss: 0.0234 - val_acc: 0.9932\n",
            "Epoch 12/20\n",
            "60000/60000 [==============================] - 11s 179us/step - loss: 0.0246 - acc: 0.9921 - val_loss: 0.0327 - val_acc: 0.9900\n",
            "Epoch 13/20\n",
            "60000/60000 [==============================] - 12s 192us/step - loss: 0.0240 - acc: 0.9920 - val_loss: 0.0244 - val_acc: 0.9935\n",
            "Epoch 14/20\n",
            "60000/60000 [==============================] - 10s 174us/step - loss: 0.0232 - acc: 0.9930 - val_loss: 0.0288 - val_acc: 0.9924\n",
            "Epoch 15/20\n",
            "60000/60000 [==============================] - 10s 173us/step - loss: 0.0230 - acc: 0.9921 - val_loss: 0.0275 - val_acc: 0.9917\n",
            "Epoch 16/20\n",
            "60000/60000 [==============================] - 11s 176us/step - loss: 0.0201 - acc: 0.9935 - val_loss: 0.0318 - val_acc: 0.9910\n",
            "Epoch 17/20\n",
            "60000/60000 [==============================] - 11s 189us/step - loss: 0.0197 - acc: 0.9937 - val_loss: 0.0244 - val_acc: 0.9933\n",
            "Epoch 18/20\n",
            "60000/60000 [==============================] - 10s 174us/step - loss: 0.0199 - acc: 0.9934 - val_loss: 0.0274 - val_acc: 0.9921\n",
            "Epoch 19/20\n",
            "60000/60000 [==============================] - 10s 174us/step - loss: 0.0197 - acc: 0.9936 - val_loss: 0.0239 - val_acc: 0.9933\n",
            "Epoch 20/20\n",
            "60000/60000 [==============================] - 10s 173us/step - loss: 0.0192 - acc: 0.9936 - val_loss: 0.0280 - val_acc: 0.9927\n"
          ],
          "name": "stdout"
        },
        {
          "output_type": "execute_result",
          "data": {
            "text/plain": [
              "<keras.callbacks.History at 0x7f26a392c7b8>"
            ]
          },
          "metadata": {
            "tags": []
          },
          "execution_count": 27
        }
      ]
    },
    {
      "cell_type": "markdown",
      "metadata": {
        "id": "_SiJiTNwDQUA",
        "colab_type": "text"
      },
      "source": [
        "###Above Model Observation:\n",
        ">1. Gap between Training and Test accuracy improved much better.\n",
        ">2. loss is more compared to previous version model reason is seems for Dropouts used.\n",
        ">3. Highest Test Accuracy is ***99.35*** with ***16k*** params in ***20*** epochs, ***64*** batchsize."
      ]
    },
    {
      "cell_type": "markdown",
      "metadata": {
        "id": "R_28McQEIkV4",
        "colab_type": "text"
      },
      "source": [
        "###Now Evaluating the model on test data "
      ]
    },
    {
      "cell_type": "code",
      "metadata": {
        "id": "MtwCYlP5xCWF",
        "colab_type": "code",
        "colab": {}
      },
      "source": [
        "score = model.evaluate(X_test, Y_test, verbose=0)"
      ],
      "execution_count": 0,
      "outputs": []
    },
    {
      "cell_type": "code",
      "metadata": {
        "id": "TFWLuj22xGPy",
        "colab_type": "code",
        "outputId": "b7cb6c21-0098-4727-96cd-88fcf60fe821",
        "colab": {
          "base_uri": "https://localhost:8080/",
          "height": 33
        }
      },
      "source": [
        "print(score)"
      ],
      "execution_count": 29,
      "outputs": [
        {
          "output_type": "stream",
          "text": [
            "[0.028023905697373265, 0.9927]\n"
          ],
          "name": "stdout"
        }
      ]
    },
    {
      "cell_type": "markdown",
      "metadata": {
        "id": "dESgW4Sxhlyu",
        "colab_type": "text"
      },
      "source": [
        "###Now prediction on Test data"
      ]
    },
    {
      "cell_type": "code",
      "metadata": {
        "id": "vk76IB3txI1K",
        "colab_type": "code",
        "colab": {}
      },
      "source": [
        "y_pred = model.predict(X_test)"
      ],
      "execution_count": 0,
      "outputs": []
    },
    {
      "cell_type": "code",
      "metadata": {
        "id": "MOX41QENxMCj",
        "colab_type": "code",
        "outputId": "5fc508cd-94f5-41e2-8be1-dcff3c9174f0",
        "colab": {
          "base_uri": "https://localhost:8080/",
          "height": 485
        }
      },
      "source": [
        "print(y_pred[:9])\n",
        "print(y_test[:9])"
      ],
      "execution_count": 32,
      "outputs": [
        {
          "output_type": "stream",
          "text": [
            "[[1.88834143e-10 1.09295186e-08 4.58140498e-10 2.29446728e-09\n",
            "  3.27135923e-11 1.87744720e-12 4.52265031e-11 1.00000000e+00\n",
            "  1.97086514e-11 3.09323167e-09]\n",
            " [4.39297354e-09 2.62002047e-08 1.00000000e+00 1.09248804e-10\n",
            "  1.89237168e-11 5.21508123e-14 4.86209899e-08 1.03409390e-11\n",
            "  1.23823937e-10 9.78079145e-11]\n",
            " [2.44480458e-09 9.99999404e-01 1.58694426e-08 1.55367594e-11\n",
            "  4.99752446e-07 1.97617148e-11 2.54184562e-09 1.53121178e-07\n",
            "  4.86075802e-09 3.69166315e-08]\n",
            " [9.98768270e-01 3.78769255e-06 3.50318672e-08 3.77661418e-05\n",
            "  6.29031183e-06 5.00819879e-05 8.36774881e-04 1.95182707e-07\n",
            "  1.84357254e-04 1.12468682e-04]\n",
            " [3.55576679e-11 3.69173335e-07 2.78730011e-10 1.33929031e-11\n",
            "  9.99996901e-01 3.35989327e-11 4.19595719e-10 8.74931771e-09\n",
            "  8.47635064e-08 2.61246510e-06]\n",
            " [2.52631671e-09 9.99999762e-01 2.33964652e-08 2.41353847e-11\n",
            "  1.08132582e-07 5.88090514e-12 1.02179376e-09 1.15985216e-07\n",
            "  6.94326197e-09 3.04560750e-08]\n",
            " [5.79875277e-08 2.89452255e-05 1.08109560e-07 8.71445249e-10\n",
            "  9.99657154e-01 2.26728303e-09 1.92355376e-09 1.07054002e-04\n",
            "  2.44746934e-05 1.82247983e-04]\n",
            " [1.16653320e-09 2.36778952e-08 8.90596311e-06 2.39815222e-07\n",
            "  2.61274894e-04 8.57772946e-08 2.63769145e-10 3.42012827e-05\n",
            "  2.33386105e-04 9.99461830e-01]\n",
            " [1.99928013e-06 9.43793026e-08 1.37527201e-09 1.18680010e-10\n",
            "  1.23313937e-08 9.98906970e-01 1.08979293e-03 1.53538604e-09\n",
            "  6.49312653e-07 3.78469224e-07]]\n",
            "[7 2 1 0 4 1 4 9 5]\n"
          ],
          "name": "stdout"
        }
      ]
    },
    {
      "cell_type": "code",
      "metadata": {
        "id": "9XhZNcoFxO-Z",
        "colab_type": "code",
        "colab": {}
      },
      "source": [
        "layer_dict = dict([(layer.name, layer) for layer in model.layers])"
      ],
      "execution_count": 0,
      "outputs": []
    },
    {
      "cell_type": "code",
      "metadata": {
        "id": "Zl2JfIWc0DlS",
        "colab_type": "code",
        "colab": {
          "base_uri": "https://localhost:8080/",
          "height": 741
        },
        "outputId": "e3d3aaf5-fb12-4fe3-cd95-33c4d3afcf45"
      },
      "source": [
        "import numpy as np\n",
        "from matplotlib import pyplot as plt\n",
        "from keras import backend as K\n",
        "%matplotlib inline\n",
        "# util function to convert a tensor into a valid image\n",
        "def deprocess_image(x):\n",
        "    # normalize tensor: center on 0., ensure std is 0.1\n",
        "    x -= x.mean()\n",
        "    x /= (x.std() + 1e-5)\n",
        "    x *= 0.1\n",
        "\n",
        "    # clip to [0, 1]\n",
        "    x += 0.5\n",
        "    x = np.clip(x, 0, 1)\n",
        "\n",
        "    # convert to RGB array\n",
        "    x *= 255\n",
        "    #x = x.transpose((1, 2, 0))\n",
        "    x = np.clip(x, 0, 255).astype('uint8')\n",
        "    return x\n",
        "\n",
        "def vis_img_in_filter(img = np.array(X_train[5]).reshape((1, 28, 28, 1)).astype(np.float64), \n",
        "                      layer_name = 'conv2d_15'):\n",
        "    layer_output = layer_dict[layer_name].output\n",
        "    img_ascs = list()\n",
        "    for filter_index in range(layer_output.shape[3]):\n",
        "        # build a loss function that maximizes the activation\n",
        "        # of the nth filter of the layer considered\n",
        "        loss = K.mean(layer_output[:, :, :, filter_index])\n",
        "\n",
        "        # compute the gradient of the input picture wrt this loss\n",
        "        grads = K.gradients(loss, model.input)[0]\n",
        "\n",
        "        # normalization trick: we normalize the gradient\n",
        "        grads /= (K.sqrt(K.mean(K.square(grads))) + 1e-5)\n",
        "\n",
        "        # this function returns the loss and grads given the input picture\n",
        "        iterate = K.function([model.input], [loss, grads])\n",
        "\n",
        "        # step size for gradient ascent\n",
        "        step = 5.\n",
        "\n",
        "        img_asc = np.array(img)\n",
        "        # run gradient ascent for 20 steps\n",
        "        for i in range(20):\n",
        "            loss_value, grads_value = iterate([img_asc])\n",
        "            img_asc += grads_value * step\n",
        "\n",
        "        img_asc = img_asc[0]\n",
        "        img_ascs.append(deprocess_image(img_asc).reshape((28, 28)))\n",
        "        \n",
        "    if layer_output.shape[3] >= 35:\n",
        "        plot_x, plot_y = 6, 6\n",
        "    elif layer_output.shape[3] >= 23:\n",
        "        plot_x, plot_y = 4, 6\n",
        "    elif layer_output.shape[3] >= 11:\n",
        "        plot_x, plot_y = 2, 6\n",
        "    else:\n",
        "        plot_x, plot_y = 1, 2\n",
        "    fig, ax = plt.subplots(plot_x, plot_y, figsize = (12, 12))\n",
        "    ax[0, 0].imshow(img.reshape((28, 28)), cmap = 'gray')\n",
        "    ax[0, 0].set_title('Input image')\n",
        "    fig.suptitle('Input image and %s filters' % (layer_name,))\n",
        "    fig.tight_layout(pad = 0.3, rect = [0, 0, 0.9, 0.9])\n",
        "    for (x, y) in [(i, j) for i in range(plot_x) for j in range(plot_y)]:\n",
        "        if x == 0 and y == 0:\n",
        "            continue\n",
        "        ax[x, y].imshow(img_ascs[x * plot_y + y - 1], cmap = 'gray')\n",
        "        ax[x, y].set_title('filter %d' % (x * plot_y + y - 1))\n",
        "\n",
        "vis_img_in_filter()"
      ],
      "execution_count": 34,
      "outputs": [
        {
          "output_type": "display_data",
          "data": {
            "image/png": "[encoded data removed]",
            "text/plain": [
              "<Figure size 864x864 with 12 Axes>"
            ]
          },
          "metadata": {
            "tags": []
          }
        }
      ]
    }
  ]
}