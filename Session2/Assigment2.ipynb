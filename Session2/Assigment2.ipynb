{
  "nbformat": 4,
  "nbformat_minor": 0,
  "metadata": {
    "colab": {
      "name": "Assigment2.ipynb",
      "version": "0.3.2",
      "provenance": [],
      "collapsed_sections": [],
      "include_colab_link": true
    },
    "kernelspec": {
      "name": "python3",
      "display_name": "Python 3"
    },
    "accelerator": "GPU"
  },
  "cells": [
    {
      "cell_type": "markdown",
      "metadata": {
        "id": "view-in-github",
        "colab_type": "text"
      },
      "source": [
        "<a href=\"https://colab.research.google.com/github/Mayank01/EVA/blob/master/Session2/Assigment2.ipynb\" target=\"_parent\"><img src=\"https://colab.research.google.com/assets/colab-badge.svg\" alt=\"Open In Colab\"/></a>"
      ]
    },
    {
      "cell_type": "markdown",
      "metadata": {
        "id": "Gmb3rIlILfyy",
        "colab_type": "text"
      },
      "source": [
        "##Assigment 2:   "
      ]
    },
    {
      "cell_type": "code",
      "metadata": {
        "id": "lIxpn_khHfmq",
        "colab_type": "code",
        "outputId": "272f2150-c79a-47ad-a363-c9cd2b43295c",
        "colab": {
          "base_uri": "https://localhost:8080/",
          "height": 33
        }
      },
      "source": [
        "# https://keras.io/\n",
        "# install keras Framework using pip\n",
        "# importing or loading keras library\n",
        "!pip install -q keras\n",
        "import keras"
      ],
      "execution_count": 0,
      "outputs": [
        {
          "output_type": "stream",
          "text": [
            "Using TensorFlow backend.\n"
          ],
          "name": "stderr"
        }
      ]
    },
    {
      "cell_type": "code",
      "metadata": {
        "id": "nRit7dl-H1uS",
        "colab_type": "code",
        "colab": {}
      },
      "source": [
        "#loading packages which required to do math array calculation: Numpy,\n",
        "# keras sequential models, layers which will use in CNN model, dataset to get learn for model \n",
        "import numpy as np\n",
        "from keras.models import Sequential\n",
        "from keras.layers import Flatten, Convolution2D\n",
        "from keras.utils import np_utils\n",
        "\n",
        "from keras.datasets import mnist"
      ],
      "execution_count": 0,
      "outputs": []
    },
    {
      "cell_type": "code",
      "metadata": {
        "id": "rWK0ur_LIuds",
        "colab_type": "code",
        "outputId": "87dce89a-0d80-4a12-8278-5093b97530cd",
        "colab": {
          "base_uri": "https://localhost:8080/",
          "height": 50
        }
      },
      "source": [
        "# mnist data set loading and divided into training and test data.\n",
        "(X_train, y_train),(X_test,y_test)= mnist.load_data()"
      ],
      "execution_count": 0,
      "outputs": [
        {
          "output_type": "stream",
          "text": [
            "Downloading data from https://s3.amazonaws.com/img-datasets/mnist.npz\n",
            "11493376/11490434 [==============================] - 0s 0us/step\n"
          ],
          "name": "stdout"
        }
      ]
    },
    {
      "cell_type": "code",
      "metadata": {
        "id": "gl9aCqRUJG1R",
        "colab_type": "code",
        "outputId": "90dceeb9-e47b-4827-d4d8-6292108b2c0f",
        "colab": {
          "base_uri": "https://localhost:8080/",
          "height": 302
        }
      },
      "source": [
        "# printing input training data shape/matrix.\n",
        "print(X_train.shape)\n",
        "# loading matplot library for visulization \n",
        "from matplotlib import pyplot as plt\n",
        "%matplotlib inline\n",
        "# plotting of Input training data value of 0th index \n",
        "plt.imshow(X_train[0])"
      ],
      "execution_count": 0,
      "outputs": [
        {
          "output_type": "stream",
          "text": [
            "(60000, 28, 28)\n"
          ],
          "name": "stdout"
        },
        {
          "output_type": "execute_result",
          "data": {
            "text/plain": [
              "<matplotlib.image.AxesImage at 0x7f6d1f49fdd8>"
            ]
          },
          "metadata": {
            "tags": []
          },
          "execution_count": 4
        },
        {
          "output_type": "display_data",
          "data": {
            "image/png": "[encoded data removed]",
            "text/plain": [
              "<Figure size 432x288 with 1 Axes>"
            ]
          },
          "metadata": {
            "tags": []
          }
        }
      ]
    },
    {
      "cell_type": "code",
      "metadata": {
        "id": "lI8lETjzJ-vA",
        "colab_type": "code",
        "colab": {}
      },
      "source": [
        "# rearranging of training and test data of input image 28*28\n",
        "X_train = X_train.reshape(X_train.shape[0], 28, 28, 1)\n",
        "X_test = X_test.reshape(X_test.shape[0], 28, 28, 1)"
      ],
      "execution_count": 0,
      "outputs": []
    },
    {
      "cell_type": "code",
      "metadata": {
        "id": "7IeR3FrJK8cJ",
        "colab_type": "code",
        "colab": {}
      },
      "source": [
        "# Normalizing the data\n",
        "# casting of test, training data to float\n",
        "# diving cast data to 255 bytes\n",
        "X_train = X_train.astype('float32')\n",
        "X_test = X_test.astype('float32')\n",
        "X_train /= 255\n",
        "X_test /= 255"
      ],
      "execution_count": 0,
      "outputs": []
    },
    {
      "cell_type": "code",
      "metadata": {
        "id": "_RtA8VoNLkt7",
        "colab_type": "code",
        "outputId": "69cd64cd-5a6c-4edf-9d67-87f9ff74beba",
        "colab": {
          "base_uri": "https://localhost:8080/",
          "height": 33
        }
      },
      "source": [
        "# printing Training Data from 0-10 indexs\n",
        "y_train[:10]"
      ],
      "execution_count": 0,
      "outputs": [
        {
          "output_type": "execute_result",
          "data": {
            "text/plain": [
              "array([5, 0, 4, 1, 9, 2, 1, 3, 1, 4], dtype=uint8)"
            ]
          },
          "metadata": {
            "tags": []
          },
          "execution_count": 7
        }
      ]
    },
    {
      "cell_type": "code",
      "metadata": {
        "id": "WC_5pEdfL4zN",
        "colab_type": "code",
        "colab": {}
      },
      "source": [
        "# convert 1-Dimensional class array to 10-Dimensional matrix using keras np_utils.\n",
        "Y_train = np_utils.to_categorical(y_train, 10)\n",
        "Y_test = np_utils.to_categorical(y_test, 10)"
      ],
      "execution_count": 0,
      "outputs": []
    },
    {
      "cell_type": "code",
      "metadata": {
        "id": "h5ydh0qtMvnu",
        "colab_type": "code",
        "outputId": "da7ded99-1bfd-48e8-90f6-1656af62860e",
        "colab": {
          "base_uri": "https://localhost:8080/",
          "height": 184
        }
      },
      "source": [
        "# After matrix conversion we gets below array\n",
        "Y_train[:10]"
      ],
      "execution_count": 0,
      "outputs": [
        {
          "output_type": "execute_result",
          "data": {
            "text/plain": [
              "array([[0., 0., 0., 0., 0., 1., 0., 0., 0., 0.],\n",
              "       [1., 0., 0., 0., 0., 0., 0., 0., 0., 0.],\n",
              "       [0., 0., 0., 0., 1., 0., 0., 0., 0., 0.],\n",
              "       [0., 1., 0., 0., 0., 0., 0., 0., 0., 0.],\n",
              "       [0., 0., 0., 0., 0., 0., 0., 0., 0., 1.],\n",
              "       [0., 0., 1., 0., 0., 0., 0., 0., 0., 0.],\n",
              "       [0., 1., 0., 0., 0., 0., 0., 0., 0., 0.],\n",
              "       [0., 0., 0., 1., 0., 0., 0., 0., 0., 0.],\n",
              "       [0., 1., 0., 0., 0., 0., 0., 0., 0., 0.],\n",
              "       [0., 0., 0., 0., 1., 0., 0., 0., 0., 0.]], dtype=float32)"
            ]
          },
          "metadata": {
            "tags": []
          },
          "execution_count": 9
        }
      ]
    },
    {
      "cell_type": "code",
      "metadata": {
        "id": "4WUSNj_POV3q",
        "colab_type": "code",
        "outputId": "7d0633cd-eb50-4329-98cb-eb09c834d215",
        "colab": {
          "base_uri": "https://localhost:8080/",
          "height": 739
        }
      },
      "source": [
        "# loading packages for convolution layers  \n",
        "from keras.layers import Activation, MaxPooling2D\n",
        "\n",
        "# START BUILDING MODEL\n",
        "# 1. Start as Sequential model\n",
        "model = Sequential()\n",
        "\n",
        "# 2. adding Input image of size 28*28*of_channel_1 to Model\n",
        "# Kernal Size of 3*3*1 of no. 32 with activation function \"relu\"\n",
        "# RF for 1st layer would be :3\n",
        "model.add(Convolution2D(32, 3, 3, activation='relu', input_shape=(28, 28 ,1))) \n",
        "\n",
        "# 3. Now Input image for second layer would be (26,26,32) and\n",
        "# Kernal size for 2nd layer is 3*3*32 of count 64\n",
        "# Receptive Field for second layer 5*5 \n",
        "model.add(Convolution2D(64, 3, 3, activation='relu')) # RF : 5\n",
        "\n",
        "# 4. Input image for 3rd layer would be (24,24,64) and\n",
        "# kernal size of 3*3*64 of count 128\n",
        "model.add(Convolution2D(128, 3, 3, activation='relu')) # RF : 7\n",
        "\n",
        "# 5. Input Image to 4th layer(pooling) would be (22,22,128) \n",
        "# now Max pooling will reduce to half the resolution and\n",
        "# 1/4th to features.\n",
        "model.add(MaxPooling2D(pool_size=(2,2))) # RF would be double : 14\n",
        "\n",
        "# 6. Input image to 5th layer after max pooling is (11,11,128)\n",
        "# and kernal size is 3*3*128 of count 256\n",
        "model.add(Convolution2D(256, 3, 3, activation='relu')) # RF : 16\n",
        "\n",
        "# 7. Input image to 6th layer would be (9,9,256) and\n",
        "# kernal size would be 3*3*256 of count 512\n",
        "model.add(Convolution2D(512, 3, 3, activation='relu')) # RF : 18\n",
        "\n",
        "# 8. Input image to 7th layer would be (7,7,512) and\n",
        "# kernal size would be 3*3*512 of count 1024\n",
        "model.add(Convolution2D(1024, 3, 3, activation='relu')) # RF : 20\n",
        "\n",
        "# 9. Input image to 8th layer would be (5,5,1024) and\n",
        "# kernal size would be 3*3*1024 of count 2048\n",
        "model.add(Convolution2D(2048, 3, 3, activation='relu')) # RF : 22\n",
        "\n",
        "# 10. Input image to 9th layer would be (3,3,2048) and\n",
        "# kernal size would be 3*3*2048 of count 10\n",
        "model.add(Convolution2D(10, 3, 3)) # RF :24\n",
        "\n",
        "# 11. Input image to Flatten layer would be (1,1,10) and\n",
        "# Flatten layer bring down all multi-layer image to single plane.\n",
        "model.add(Flatten())\n",
        "\n",
        "# 12. Activation Function is to smoothing the output classes\n",
        "# Classifier at last to predict output from model\n",
        "# to normalize the output with continuos distribution\n",
        "model.add(Activation('softmax'))\n",
        "\n",
        "model.summary()\n",
        "\n"
      ],
      "execution_count": 0,
      "outputs": [
        {
          "output_type": "stream",
          "text": [
            "WARNING:tensorflow:From /usr/local/lib/python3.6/dist-packages/tensorflow/python/framework/op_def_library.py:263: colocate_with (from tensorflow.python.framework.ops) is deprecated and will be removed in a future version.\n",
            "Instructions for updating:\n",
            "Colocations handled automatically by placer.\n"
          ],
          "name": "stdout"
        },
        {
          "output_type": "stream",
          "text": [
            "/usr/local/lib/python3.6/dist-packages/ipykernel_launcher.py:10: UserWarning: Update your `Conv2D` call to the Keras 2 API: `Conv2D(32, (3, 3), activation=\"relu\", input_shape=(28, 28, 1...)`\n",
            "  # Remove the CWD from sys.path while we load stuff.\n",
            "/usr/local/lib/python3.6/dist-packages/ipykernel_launcher.py:15: UserWarning: Update your `Conv2D` call to the Keras 2 API: `Conv2D(64, (3, 3), activation=\"relu\")`\n",
            "  from ipykernel import kernelapp as app\n",
            "/usr/local/lib/python3.6/dist-packages/ipykernel_launcher.py:19: UserWarning: Update your `Conv2D` call to the Keras 2 API: `Conv2D(128, (3, 3), activation=\"relu\")`\n",
            "/usr/local/lib/python3.6/dist-packages/ipykernel_launcher.py:28: UserWarning: Update your `Conv2D` call to the Keras 2 API: `Conv2D(256, (3, 3), activation=\"relu\")`\n",
            "/usr/local/lib/python3.6/dist-packages/ipykernel_launcher.py:32: UserWarning: Update your `Conv2D` call to the Keras 2 API: `Conv2D(512, (3, 3), activation=\"relu\")`\n",
            "/usr/local/lib/python3.6/dist-packages/ipykernel_launcher.py:36: UserWarning: Update your `Conv2D` call to the Keras 2 API: `Conv2D(1024, (3, 3), activation=\"relu\")`\n",
            "/usr/local/lib/python3.6/dist-packages/ipykernel_launcher.py:40: UserWarning: Update your `Conv2D` call to the Keras 2 API: `Conv2D(2048, (3, 3), activation=\"relu\")`\n",
            "/usr/local/lib/python3.6/dist-packages/ipykernel_launcher.py:44: UserWarning: Update your `Conv2D` call to the Keras 2 API: `Conv2D(10, (3, 3))`\n"
          ],
          "name": "stderr"
        },
        {
          "output_type": "stream",
          "text": [
            "_________________________________________________________________\n",
            "Layer (type)                 Output Shape              Param #   \n",
            "=================================================================\n",
            "conv2d_1 (Conv2D)            (None, 26, 26, 32)        320       \n",
            "_________________________________________________________________\n",
            "conv2d_2 (Conv2D)            (None, 24, 24, 64)        18496     \n",
            "_________________________________________________________________\n",
            "conv2d_3 (Conv2D)            (None, 22, 22, 128)       73856     \n",
            "_________________________________________________________________\n",
            "max_pooling2d_1 (MaxPooling2 (None, 11, 11, 128)       0         \n",
            "_________________________________________________________________\n",
            "conv2d_4 (Conv2D)            (None, 9, 9, 256)         295168    \n",
            "_________________________________________________________________\n",
            "conv2d_5 (Conv2D)            (None, 7, 7, 512)         1180160   \n",
            "_________________________________________________________________\n",
            "conv2d_6 (Conv2D)            (None, 5, 5, 1024)        4719616   \n",
            "_________________________________________________________________\n",
            "conv2d_7 (Conv2D)            (None, 3, 3, 2048)        18876416  \n",
            "_________________________________________________________________\n",
            "conv2d_8 (Conv2D)            (None, 1, 1, 10)          184330    \n",
            "_________________________________________________________________\n",
            "flatten_1 (Flatten)          (None, 10)                0         \n",
            "_________________________________________________________________\n",
            "activation_1 (Activation)    (None, 10)                0         \n",
            "=================================================================\n",
            "Total params: 25,348,362\n",
            "Trainable params: 25,348,362\n",
            "Non-trainable params: 0\n",
            "_________________________________________________________________\n"
          ],
          "name": "stdout"
        }
      ]
    },
    {
      "cell_type": "code",
      "metadata": {
        "id": "pCfcnFNASd9Z",
        "colab_type": "code",
        "colab": {}
      },
      "source": [
        "# Loss Function, Optimizer, \n",
        "# Loss Function to calculate deflection/Difference btw actual value and predicted value\n",
        "# For Accurate prediction we need to minimize error which is work of backpropogation\n",
        "# the proccess to minimize error using updating weights and bias by function called \"optimizer\"\n",
        "model.compile(loss='categorical_crossentropy',\n",
        "             optimizer='adam',\n",
        "             metrics=['accuracy'])"
      ],
      "execution_count": 0,
      "outputs": []
    },
    {
      "cell_type": "code",
      "metadata": {
        "id": "V5u1TRH7QlLP",
        "colab_type": "code",
        "outputId": "4003b93b-afa9-4d83-e3e4-f20458436110",
        "colab": {
          "base_uri": "https://localhost:8080/",
          "height": 472
        }
      },
      "source": [
        "# to fit model btw X_train and predicted y_train)\n",
        "model.fit(X_train, Y_train, batch_size=32, nb_epoch=10, verbose=1)"
      ],
      "execution_count": 0,
      "outputs": [
        {
          "output_type": "stream",
          "text": [
            "WARNING:tensorflow:From /usr/local/lib/python3.6/dist-packages/tensorflow/python/ops/math_ops.py:3066: to_int32 (from tensorflow.python.ops.math_ops) is deprecated and will be removed in a future version.\n",
            "Instructions for updating:\n",
            "Use tf.cast instead.\n"
          ],
          "name": "stdout"
        },
        {
          "output_type": "stream",
          "text": [
            "/usr/local/lib/python3.6/dist-packages/ipykernel_launcher.py:1: UserWarning: The `nb_epoch` argument in `fit` has been renamed `epochs`.\n",
            "  \"\"\"Entry point for launching an IPython kernel.\n"
          ],
          "name": "stderr"
        },
        {
          "output_type": "stream",
          "text": [
            "Epoch 1/10\n",
            "60000/60000 [==============================] - 123s 2ms/step - loss: 0.1410 - acc: 0.9569\n",
            "Epoch 2/10\n",
            "60000/60000 [==============================] - 116s 2ms/step - loss: 0.0536 - acc: 0.9845\n",
            "Epoch 3/10\n",
            "60000/60000 [==============================] - 116s 2ms/step - loss: 0.0424 - acc: 0.9879\n",
            "Epoch 4/10\n",
            "60000/60000 [==============================] - 116s 2ms/step - loss: 0.0337 - acc: 0.9907\n",
            "Epoch 5/10\n",
            "60000/60000 [==============================] - 116s 2ms/step - loss: 0.0279 - acc: 0.9922\n",
            "Epoch 6/10\n",
            "60000/60000 [==============================] - 116s 2ms/step - loss: 0.0261 - acc: 0.9930\n",
            "Epoch 7/10\n",
            "60000/60000 [==============================] - 115s 2ms/step - loss: 0.0220 - acc: 0.9938\n",
            "Epoch 8/10\n",
            "60000/60000 [==============================] - 115s 2ms/step - loss: 0.0221 - acc: 0.9940\n",
            "Epoch 9/10\n",
            "60000/60000 [==============================] - 115s 2ms/step - loss: 0.0197 - acc: 0.9946\n",
            "Epoch 10/10\n",
            "60000/60000 [==============================] - 115s 2ms/step - loss: 0.0164 - acc: 0.9955\n"
          ],
          "name": "stdout"
        },
        {
          "output_type": "execute_result",
          "data": {
            "text/plain": [
              "<keras.callbacks.History at 0x7f6d1cbaa8d0>"
            ]
          },
          "metadata": {
            "tags": []
          },
          "execution_count": 12
        }
      ]
    },
    {
      "cell_type": "code",
      "metadata": {
        "id": "_ItcFufgTany",
        "colab_type": "code",
        "colab": {}
      },
      "source": [
        "# Model to evaluate the score on the basis of actual output and predicted output. \n",
        "# it will evaluate loss and Accuracy\n",
        "score= model.evaluate(X_test, Y_test, verbose=0)"
      ],
      "execution_count": 0,
      "outputs": []
    },
    {
      "cell_type": "code",
      "metadata": {
        "id": "nN0nR5cbTlMh",
        "colab_type": "code",
        "outputId": "72f0f299-ae8b-4d8a-8de5-fb40db0b4e27",
        "colab": {
          "base_uri": "https://localhost:8080/",
          "height": 33
        }
      },
      "source": [
        "print(score)\n",
        "# model[loss, Accurarcy]"
      ],
      "execution_count": 0,
      "outputs": [
        {
          "output_type": "stream",
          "text": [
            "[0.044243992109429746, 0.9897]\n"
          ],
          "name": "stdout"
        }
      ]
    },
    {
      "cell_type": "code",
      "metadata": {
        "id": "hINiNvFvTv5J",
        "colab_type": "code",
        "colab": {}
      },
      "source": [
        "# Model predicting Y_pred from X_test data\n",
        "y_pred = model.predict(X_test)"
      ],
      "execution_count": 0,
      "outputs": []
    },
    {
      "cell_type": "code",
      "metadata": {
        "id": "HV-CPWp3UCpf",
        "colab_type": "code",
        "outputId": "b6743ce5-d503-4303-84a8-bb4d025d8435",
        "colab": {
          "base_uri": "https://localhost:8080/",
          "height": 485
        }
      },
      "source": [
        "print(y_pred[:9])\n",
        "print(y_test[:9])"
      ],
      "execution_count": 0,
      "outputs": [
        {
          "output_type": "stream",
          "text": [
            "[[4.38629778e-14 1.07974723e-11 1.48652785e-10 2.11398010e-09\n",
            "  7.50692078e-11 1.31784544e-13 1.39210527e-17 1.00000000e+00\n",
            "  1.33193164e-12 5.76125370e-09]\n",
            " [6.95003609e-16 2.08009574e-08 1.00000000e+00 1.60981471e-13\n",
            "  1.05061589e-13 9.49493097e-17 2.96263541e-10 8.57369124e-12\n",
            "  5.10509794e-11 2.55780948e-16]\n",
            " [2.43471493e-11 9.99999881e-01 1.37271972e-10 4.23836716e-10\n",
            "  3.65660497e-08 3.94103878e-08 2.46604247e-11 3.15833937e-09\n",
            "  5.75306114e-09 7.85309595e-10]\n",
            " [9.99999642e-01 1.98506621e-17 2.36462186e-15 1.58766813e-08\n",
            "  3.54817629e-14 2.35165665e-10 3.13387091e-07 5.60532388e-14\n",
            "  5.72681919e-12 1.29710079e-11]\n",
            " [3.28086142e-16 4.91241128e-14 1.58891095e-19 1.94378175e-21\n",
            "  1.00000000e+00 1.87217795e-14 2.30650057e-15 1.33048031e-18\n",
            "  3.06081841e-16 1.60957425e-18]\n",
            " [3.59513987e-15 1.00000000e+00 9.74059598e-15 4.00119433e-15\n",
            "  8.98666419e-11 3.38671067e-13 1.80167550e-14 6.87698108e-13\n",
            "  6.34318281e-13 4.10017564e-15]\n",
            " [1.09176343e-17 2.71338081e-08 4.06622381e-13 1.35525797e-14\n",
            "  1.00000000e+00 1.22547705e-09 2.97739805e-10 3.92079391e-09\n",
            "  1.73310166e-09 7.94287483e-11]\n",
            " [7.14643243e-13 2.98401952e-16 2.28907657e-11 1.17810561e-09\n",
            "  6.20592232e-07 8.11791267e-07 4.62761416e-16 1.06785865e-11\n",
            "  1.20345218e-08 9.99998569e-01]\n",
            " [4.57989549e-12 3.40433468e-15 1.17869937e-14 1.38193368e-08\n",
            "  2.53856452e-14 8.70478392e-01 2.37546768e-02 1.95730319e-15\n",
            "  1.05766878e-01 7.05647224e-14]]\n",
            "[7 2 1 0 4 1 4 9 5]\n"
          ],
          "name": "stdout"
        }
      ]
    },
    {
      "cell_type": "markdown",
      "metadata": {
        "id": "5ovcK_oeDujR",
        "colab_type": "text"
      },
      "source": [
        "### EXPLAINATION : \n",
        ">***Q. What went wrong ???***\n",
        "> As we know image feature distributed/consists of \n",
        "\n",
        ">**edges, gradients --> texture --> pattern --> parts of object --> object --> scene**\n",
        "\n",
        ">1. In these model after getting features in initial convolution layer, still increases depth of model(channels)\n",
        "2. Input image in dataset is simple which doesn't have much comples features maps.\n",
        "3. Channels will help to get feature but once getting features we need to maintain parameter too.\n",
        "4. We can still be use 32 channels as input and make it constant to acheive output in multiple layers.\n",
        "5. and max pooling also help to get important features early and decrease layer counts.\n",
        "6. This model exceed the RF as we know image should be equal to size of object, which is achieved in initial stage of convolution layers, but still added channels and layers in above models.\n",
        "7. In this model Validation accuracy was worst after 10 epochs it was still 49% , it seems if you run 100 epochs too it will overffit and won't gain any addition to accuracy.\n",
        "8. Loss is too much in this model as channels depth increases which increase model time to calculate. Model already learn important features in initial convolution layers, no need to increase depth of model.\n"
      ]
    }
  ]
}