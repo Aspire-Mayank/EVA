{
  "nbformat": 4,
  "nbformat_minor": 0,
  "metadata": {
    "colab": {
      "name": "Session19_json.parser.ipynb",
      "provenance": [],
      "collapsed_sections": [],
      "include_colab_link": true
    },
    "kernelspec": {
      "name": "python3",
      "display_name": "Python 3"
    },
    "accelerator": "GPU"
  },
  "cells": [
    {
      "cell_type": "markdown",
      "metadata": {
        "id": "view-in-github",
        "colab_type": "text"
      },
      "source": [
        "<a href=\"https://colab.research.google.com/github/Aspire-Mayank/EVA/blob/master/Session19/Session19_json_parser.ipynb\" target=\"_parent\"><img src=\"https://colab.research.google.com/assets/colab-badge.svg\" alt=\"Open In Colab\"/></a>"
      ]
    },
    {
      "cell_type": "code",
      "metadata": {
        "id": "eGkybC8G-6GW",
        "colab_type": "code",
        "colab": {}
      },
      "source": [
        "import pandas as pd\n",
        "import matplotlib.pyplot as plt\n",
        "csv = pd.read_csv('via_export_csv.csv')\n",
        "# print(csv)\n",
        "centroid = []\n",
        "width = 0\n",
        "height = 0\n",
        "for index, row in csv.iterrows():\n",
        "\tx = row['region_shape_attributes']\n",
        "\tx = x.split(',')\n",
        "\tfor i in range(len(x)):\n",
        "\t\t#print(i)\n",
        "\t\tif i==2:\n",
        "\t\t\ty = x[i].split(':')\n",
        "\t\t\theight = int(y[1])/2\n",
        "\t\tif i ==4:\n",
        "\t\t\ty = x[i].split(':')\n",
        "\t\t\ty = y[1][:-1]\n",
        "\t\t\twidth = int(y)/2\n",
        "\t# print(x[0])\n",
        "\t\t# print(width, height)\n",
        "\tvalue = [width,height]\n",
        "\tcentroid.append(value)\n",
        "# print(centroid)\n",
        "\n",
        "from sklearn.cluster import KMeans\n",
        "import numpy as np\n",
        "\n",
        "X = np.array(centroid)\n",
        "kmeans = KMeans(n_clusters=4, random_state=0).fit(X)\n",
        "print(kmeans.labels_)\n",
        "print(kmeans.cluster_centers_)\n",
        "\n",
        "\n",
        "\n",
        "plt.scatter(X[:, 0], X[:, 1], c=kmeans.labels_, s=50, cmap='viridis_r')\n",
        "\n",
        "centers = kmeans.cluster_centers_\n",
        "plt.scatter(centers[:, 0], centers[:, 1], c='black', s=200, alpha=0.5)\n",
        "#plt.show()\n",
        "\n",
        "plt.savefig('kmeans.png', dpi=1200)"
      ],
      "execution_count": 0,
      "outputs": []
    }
  ]
}