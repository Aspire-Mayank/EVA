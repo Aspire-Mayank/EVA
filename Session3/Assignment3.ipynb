{
  "nbformat": 4,
  "nbformat_minor": 0,
  "metadata": {
    "colab": {
      "name": "Assignment3.ipynb",
      "version": "0.3.2",
      "provenance": [],
      "collapsed_sections": [],
      "include_colab_link": true
    },
    "kernelspec": {
      "name": "python3",
      "display_name": "Python 3"
    },
    "accelerator": "GPU"
  },
  "cells": [
    {
      "cell_type": "markdown",
      "metadata": {
        "id": "view-in-github",
        "colab_type": "text"
      },
      "source": [
        "<a href=\"https://colab.research.google.com/github/Mayank01/EVA/blob/master/Session3/Assignment3.ipynb\" target=\"_parent\"><img src=\"https://colab.research.google.com/assets/colab-badge.svg\" alt=\"Open In Colab\"/></a>"
      ]
    },
    {
      "cell_type": "markdown",
      "metadata": {
        "id": "0Ip4fw914FZX",
        "colab_type": "text"
      },
      "source": [
        "###Importing Keras library"
      ]
    },
    {
      "cell_type": "code",
      "metadata": {
        "id": "J5PUzrYcqxIg",
        "colab_type": "code",
        "colab": {}
      },
      "source": [
        "# https://keras.io/\n",
        "!pip install -q keras\n",
        "import keras"
      ],
      "execution_count": 0,
      "outputs": []
    },
    {
      "cell_type": "markdown",
      "metadata": {
        "id": "DqzNu2ZD4IIb",
        "colab_type": "text"
      },
      "source": [
        "###Importing main weapons of Keras"
      ]
    },
    {
      "cell_type": "code",
      "metadata": {
        "id": "gz6307zO4MCR",
        "colab_type": "code",
        "colab": {}
      },
      "source": [
        "import numpy as np\n",
        "\n",
        "from keras.models import Sequential\n",
        "from keras.layers import Dense, Dropout, Activation, Flatten, Add\n",
        "from keras.layers import Convolution2D, MaxPooling2D\n",
        "from keras.utils import np_utils\n",
        "\n",
        "from keras.datasets import mnist"
      ],
      "execution_count": 0,
      "outputs": []
    },
    {
      "cell_type": "markdown",
      "metadata": {
        "id": "47cAXtC34Nn7",
        "colab_type": "text"
      },
      "source": [
        "###Loading the MNIST DataSet"
      ]
    },
    {
      "cell_type": "code",
      "metadata": {
        "id": "sCPdft3v4SoH",
        "colab_type": "code",
        "colab": {}
      },
      "source": [
        "(X_train, y_train), (X_test, y_test) = mnist.load_data()"
      ],
      "execution_count": 0,
      "outputs": []
    },
    {
      "cell_type": "markdown",
      "metadata": {
        "id": "DEsJhpwK4UHJ",
        "colab_type": "text"
      },
      "source": [
        "###Analysing DataSet/Visualizing"
      ]
    },
    {
      "cell_type": "code",
      "metadata": {
        "id": "2Zjs3IIP4XbI",
        "colab_type": "code",
        "outputId": "b477f8d4-21e2-4acd-aedf-0fbabb190f36",
        "colab": {
          "base_uri": "https://localhost:8080/",
          "height": 302
        }
      },
      "source": [
        "print (X_train.shape)\n",
        "from matplotlib import pyplot as plt\n",
        "%matplotlib inline\n",
        "plt.imshow(X_train[2])"
      ],
      "execution_count": 0,
      "outputs": [
        {
          "output_type": "stream",
          "text": [
            "(60000, 28, 28)\n"
          ],
          "name": "stdout"
        },
        {
          "output_type": "execute_result",
          "data": {
            "text/plain": [
              "<matplotlib.image.AxesImage at 0x7efdfb5fad30>"
            ]
          },
          "metadata": {
            "tags": []
          },
          "execution_count": 117
        },
        {
          "output_type": "display_data",
          "data": {
            "image/png": "[encoded data removed]",
            "text/plain": [
              "<Figure size 432x288 with 1 Axes>"
            ]
          },
          "metadata": {
            "tags": []
          }
        }
      ]
    },
    {
      "cell_type": "markdown",
      "metadata": {
        "id": "qN9RXoJ05NNo",
        "colab_type": "text"
      },
      "source": [
        "### Re-arranging of training and test data of input image 28*28"
      ]
    },
    {
      "cell_type": "code",
      "metadata": {
        "id": "FJvD8rg15Nsa",
        "colab_type": "code",
        "colab": {}
      },
      "source": [
        "X_train = X_train.reshape(X_train.shape[0], 28, 28,1)\n",
        "X_test = X_test.reshape(X_test.shape[0], 28, 28,1)"
      ],
      "execution_count": 0,
      "outputs": []
    },
    {
      "cell_type": "markdown",
      "metadata": {
        "id": "awaYvIHT5Zdo",
        "colab_type": "text"
      },
      "source": [
        "###1. Normalizing the data\n",
        "###2. casting of test, training data to float\n",
        "###3. diving cast data to 255 bytes"
      ]
    },
    {
      "cell_type": "code",
      "metadata": {
        "id": "taXZPZ8a5Z0k",
        "colab_type": "code",
        "colab": {}
      },
      "source": [
        "X_train = X_train.astype('float32')\n",
        "X_test = X_test.astype('float32')\n",
        "X_train /= 255\n",
        "X_test /= 255"
      ],
      "execution_count": 0,
      "outputs": []
    },
    {
      "cell_type": "markdown",
      "metadata": {
        "id": "ufpwhpo25ee8",
        "colab_type": "text"
      },
      "source": [
        "### printing Training Data from 0-10 indexs"
      ]
    },
    {
      "cell_type": "code",
      "metadata": {
        "id": "cikZ7EEU5e2H",
        "colab_type": "code",
        "outputId": "cdf7f8cd-9b23-44e7-b0ae-887e2f9964ab",
        "colab": {
          "base_uri": "https://localhost:8080/",
          "height": 33
        }
      },
      "source": [
        "y_train[:10]"
      ],
      "execution_count": 0,
      "outputs": [
        {
          "output_type": "execute_result",
          "data": {
            "text/plain": [
              "array([5, 0, 4, 1, 9, 2, 1, 3, 1, 4], dtype=uint8)"
            ]
          },
          "metadata": {
            "tags": []
          },
          "execution_count": 120
        }
      ]
    },
    {
      "cell_type": "markdown",
      "metadata": {
        "id": "2drxuLVb5j9j",
        "colab_type": "text"
      },
      "source": [
        "### convert 1-Dimensional class array to 10-Dimensional matrix using keras np_utils."
      ]
    },
    {
      "cell_type": "code",
      "metadata": {
        "id": "Sp-ZFBmF5kUU",
        "colab_type": "code",
        "colab": {}
      },
      "source": [
        "# Convert 1-dimensional class arrays to 10-dimensional class matrices\n",
        "Y_train = np_utils.to_categorical(y_train, 10)\n",
        "Y_test = np_utils.to_categorical(y_test, 10)"
      ],
      "execution_count": 0,
      "outputs": []
    },
    {
      "cell_type": "markdown",
      "metadata": {
        "id": "0mx30q-A5q2H",
        "colab_type": "text"
      },
      "source": [
        "### After matrix conversion we gets below array"
      ]
    },
    {
      "cell_type": "code",
      "metadata": {
        "id": "HN5Y_uC65rH8",
        "colab_type": "code",
        "outputId": "d72b9ccc-6a86-41ce-809d-a48a7223c04c",
        "colab": {
          "base_uri": "https://localhost:8080/",
          "height": 184
        }
      },
      "source": [
        "Y_train[:10]"
      ],
      "execution_count": 0,
      "outputs": [
        {
          "output_type": "execute_result",
          "data": {
            "text/plain": [
              "array([[0., 0., 0., 0., 0., 1., 0., 0., 0., 0.],\n",
              "       [1., 0., 0., 0., 0., 0., 0., 0., 0., 0.],\n",
              "       [0., 0., 0., 0., 1., 0., 0., 0., 0., 0.],\n",
              "       [0., 1., 0., 0., 0., 0., 0., 0., 0., 0.],\n",
              "       [0., 0., 0., 0., 0., 0., 0., 0., 0., 1.],\n",
              "       [0., 0., 1., 0., 0., 0., 0., 0., 0., 0.],\n",
              "       [0., 1., 0., 0., 0., 0., 0., 0., 0., 0.],\n",
              "       [0., 0., 0., 1., 0., 0., 0., 0., 0., 0.],\n",
              "       [0., 1., 0., 0., 0., 0., 0., 0., 0., 0.],\n",
              "       [0., 0., 0., 0., 1., 0., 0., 0., 0., 0.]], dtype=float32)"
            ]
          },
          "metadata": {
            "tags": []
          },
          "execution_count": 122
        }
      ]
    },
    {
      "cell_type": "markdown",
      "metadata": {
        "id": "pDKn9cJ45vl3",
        "colab_type": "text"
      },
      "source": [
        ""
      ]
    },
    {
      "cell_type": "code",
      "metadata": {
        "id": "S19YO8KR5v_I",
        "colab_type": "code",
        "outputId": "68145f6f-ba2b-4a76-9f8d-ea8250b05e99",
        "colab": {
          "base_uri": "https://localhost:8080/",
          "height": 254
        }
      },
      "source": [
        "# loading packages for convolution layers\n",
        "from keras.layers import Activation\n",
        "from keras.layers.normalization import BatchNormalization\n",
        "\n",
        "model = Sequential()\n",
        "model.add(Convolution2D(32,3,3, activation='relu', input_shape=(28,28,1)))\n",
        "model.add(BatchNormalization())\n",
        "model.add(Convolution2D(32,3,3, activation='relu'))\n",
        "\n",
        "model.add(MaxPooling2D(pool_size=(2,2)))\n",
        "model.add(Convolution2D(10,1,1, activation='relu'))\n",
        "model.add(BatchNormalization())\n",
        "model.add(Convolution2D(10,3,3, activation='relu'))\n",
        "\n",
        "model.add(Dropout(0.2))\n",
        "model.add(Convolution2D(10,3,3, activation='relu'))\n",
        "\n",
        "model.add(MaxPooling2D(pool_size=(2,2)))\n",
        "model.add(Convolution2D(10,1,1,activation='relu'))\n",
        "model.add(BatchNormalization())\n",
        "model.add(Convolution2D(10,3,3, activation='relu'))          \n",
        "         \n",
        "#model.add(MaxPooling2D(pool_size=(2,2)))\n",
        "#model.add(Convolution2D(10,1,1, activation='relu')) \n",
        "\n",
        "#model.add(BatchNormalization())\n",
        "#model.add(Convolution2D(10,3,3,activation='relu'))         \n",
        "model.add(Convolution2D(10, 2, 2)) \n",
        "     \n",
        "model.add(Flatten())\n",
        "model.add(Activation('softmax'))"
      ],
      "execution_count": 0,
      "outputs": [
        {
          "output_type": "stream",
          "text": [
            "/usr/local/lib/python3.6/dist-packages/ipykernel_launcher.py:5: UserWarning: Update your `Conv2D` call to the Keras 2 API: `Conv2D(32, (3, 3), activation=\"relu\", input_shape=(28, 28, 1...)`\n",
            "  \"\"\"\n",
            "/usr/local/lib/python3.6/dist-packages/ipykernel_launcher.py:7: UserWarning: Update your `Conv2D` call to the Keras 2 API: `Conv2D(32, (3, 3), activation=\"relu\")`\n",
            "  import sys\n",
            "/usr/local/lib/python3.6/dist-packages/ipykernel_launcher.py:10: UserWarning: Update your `Conv2D` call to the Keras 2 API: `Conv2D(10, (1, 1), activation=\"relu\")`\n",
            "  # Remove the CWD from sys.path while we load stuff.\n",
            "/usr/local/lib/python3.6/dist-packages/ipykernel_launcher.py:12: UserWarning: Update your `Conv2D` call to the Keras 2 API: `Conv2D(10, (3, 3), activation=\"relu\")`\n",
            "  if sys.path[0] == '':\n",
            "/usr/local/lib/python3.6/dist-packages/ipykernel_launcher.py:15: UserWarning: Update your `Conv2D` call to the Keras 2 API: `Conv2D(10, (3, 3), activation=\"relu\")`\n",
            "  from ipykernel import kernelapp as app\n",
            "/usr/local/lib/python3.6/dist-packages/ipykernel_launcher.py:18: UserWarning: Update your `Conv2D` call to the Keras 2 API: `Conv2D(10, (1, 1), activation=\"relu\")`\n",
            "/usr/local/lib/python3.6/dist-packages/ipykernel_launcher.py:20: UserWarning: Update your `Conv2D` call to the Keras 2 API: `Conv2D(10, (3, 3), activation=\"relu\")`\n",
            "/usr/local/lib/python3.6/dist-packages/ipykernel_launcher.py:27: UserWarning: Update your `Conv2D` call to the Keras 2 API: `Conv2D(10, (2, 2))`\n"
          ],
          "name": "stderr"
        }
      ]
    },
    {
      "cell_type": "code",
      "metadata": {
        "id": "x_OWXPz551mf",
        "colab_type": "code",
        "outputId": "84faaa8f-cad2-41cf-f3d7-15d54122f4ae",
        "colab": {
          "base_uri": "https://localhost:8080/",
          "height": 669
        }
      },
      "source": [
        "model.summary()"
      ],
      "execution_count": 0,
      "outputs": [
        {
          "output_type": "stream",
          "text": [
            "_________________________________________________________________\n",
            "Layer (type)                 Output Shape              Param #   \n",
            "=================================================================\n",
            "conv2d_99 (Conv2D)           (None, 26, 26, 32)        320       \n",
            "_________________________________________________________________\n",
            "batch_normalization_32 (Batc (None, 26, 26, 32)        128       \n",
            "_________________________________________________________________\n",
            "conv2d_100 (Conv2D)          (None, 24, 24, 32)        9248      \n",
            "_________________________________________________________________\n",
            "max_pooling2d_27 (MaxPooling (None, 12, 12, 32)        0         \n",
            "_________________________________________________________________\n",
            "conv2d_101 (Conv2D)          (None, 12, 12, 10)        330       \n",
            "_________________________________________________________________\n",
            "batch_normalization_33 (Batc (None, 12, 12, 10)        40        \n",
            "_________________________________________________________________\n",
            "conv2d_102 (Conv2D)          (None, 10, 10, 10)        910       \n",
            "_________________________________________________________________\n",
            "dropout_11 (Dropout)         (None, 10, 10, 10)        0         \n",
            "_________________________________________________________________\n",
            "conv2d_103 (Conv2D)          (None, 8, 8, 10)          910       \n",
            "_________________________________________________________________\n",
            "max_pooling2d_28 (MaxPooling (None, 4, 4, 10)          0         \n",
            "_________________________________________________________________\n",
            "conv2d_104 (Conv2D)          (None, 4, 4, 10)          110       \n",
            "_________________________________________________________________\n",
            "batch_normalization_34 (Batc (None, 4, 4, 10)          40        \n",
            "_________________________________________________________________\n",
            "conv2d_105 (Conv2D)          (None, 2, 2, 10)          910       \n",
            "_________________________________________________________________\n",
            "conv2d_106 (Conv2D)          (None, 1, 1, 10)          410       \n",
            "_________________________________________________________________\n",
            "flatten_13 (Flatten)         (None, 10)                0         \n",
            "_________________________________________________________________\n",
            "activation_13 (Activation)   (None, 10)                0         \n",
            "=================================================================\n",
            "Total params: 13,356\n",
            "Trainable params: 13,252\n",
            "Non-trainable params: 104\n",
            "_________________________________________________________________\n"
          ],
          "name": "stdout"
        }
      ]
    },
    {
      "cell_type": "markdown",
      "metadata": {
        "id": "eykLj-ye56SK",
        "colab_type": "text"
      },
      "source": [
        "### Loss Function, Optimizer\n",
        ">1. Loss Function to calculate deflection/Difference btw actual value and predicted value\n",
        ">2. For Accurate prediction we need to minimize error which is work of backpropogation\n",
        ">3. the proccess to minimize error using updating weights and bias by function called \"optimizer\""
      ]
    },
    {
      "cell_type": "code",
      "metadata": {
        "id": "9iAn54DL56mm",
        "colab_type": "code",
        "colab": {}
      },
      "source": [
        "model.compile(loss='categorical_crossentropy',\n",
        "             optimizer='adam',\n",
        "             metrics=['accuracy'])"
      ],
      "execution_count": 0,
      "outputs": []
    },
    {
      "cell_type": "markdown",
      "metadata": {
        "id": "vv6WyXql57tU",
        "colab_type": "text"
      },
      "source": [
        "###To fit model btw X_train and predicted y_train)"
      ]
    },
    {
      "cell_type": "code",
      "metadata": {
        "id": "d6WfWuwt58DY",
        "colab_type": "code",
        "outputId": "1e5a4ade-f767-4aa7-d9e4-74ac68ace1aa",
        "colab": {
          "base_uri": "https://localhost:8080/",
          "height": 2412
        }
      },
      "source": [
        "model.fit(X_train, Y_train, batch_size=32, nb_epoch=35, verbose=1)"
      ],
      "execution_count": 0,
      "outputs": [
        {
          "output_type": "stream",
          "text": [
            "60000/60000 [==============================] - 17s 276us/step - loss: 0.1153 - acc: 0.9647\n",
            "Epoch 2/35\n",
            "60000/60000 [==============================] - 15s 248us/step - loss: 0.0742 - acc: 0.9764\n",
            "Epoch 3/35\n",
            "60000/60000 [==============================] - 15s 246us/step - loss: 0.0612 - acc: 0.9808\n",
            "Epoch 4/35\n",
            "60000/60000 [==============================] - 15s 248us/step - loss: 0.0544 - acc: 0.9832\n",
            "Epoch 5/35\n",
            "60000/60000 [==============================] - 17s 282us/step - loss: 0.0506 - acc: 0.9840\n",
            "Epoch 6/35\n",
            "60000/60000 [==============================] - 15s 250us/step - loss: 0.0448 - acc: 0.9855\n",
            "Epoch 7/35\n",
            "60000/60000 [==============================] - 15s 248us/step - loss: 0.0422 - acc: 0.9869\n",
            "Epoch 8/35\n",
            "60000/60000 [==============================] - 15s 247us/step - loss: 0.0392 - acc: 0.9877\n",
            "Epoch 9/35\n",
            "60000/60000 [==============================] - 15s 247us/step - loss: 0.0388 - acc: 0.9874\n",
            "Epoch 10/35\n",
            "60000/60000 [==============================] - 16s 270us/step - loss: 0.0369 - acc: 0.9882\n",
            "Epoch 11/35\n",
            "60000/60000 [==============================] - 15s 248us/step - loss: 0.0325 - acc: 0.9893\n",
            "Epoch 12/35\n",
            "60000/60000 [==============================] - 15s 249us/step - loss: 0.0343 - acc: 0.9887\n",
            "Epoch 13/35\n",
            "60000/60000 [==============================] - 15s 249us/step - loss: 0.0314 - acc: 0.9903\n",
            "Epoch 14/35\n",
            "60000/60000 [==============================] - 15s 249us/step - loss: 0.0300 - acc: 0.9903\n",
            "Epoch 15/35\n",
            "60000/60000 [==============================] - 16s 263us/step - loss: 0.0307 - acc: 0.9900\n",
            "Epoch 16/35\n",
            "60000/60000 [==============================] - 15s 254us/step - loss: 0.0279 - acc: 0.9911\n",
            "Epoch 17/35\n",
            "60000/60000 [==============================] - 15s 248us/step - loss: 0.0273 - acc: 0.9910\n",
            "Epoch 18/35\n",
            "60000/60000 [==============================] - 15s 247us/step - loss: 0.0262 - acc: 0.9915\n",
            "Epoch 19/35\n",
            "60000/60000 [==============================] - 15s 248us/step - loss: 0.0267 - acc: 0.9910\n",
            "Epoch 20/35\n",
            "60000/60000 [==============================] - 15s 251us/step - loss: 0.0254 - acc: 0.9913\n",
            "Epoch 21/35\n",
            "60000/60000 [==============================] - 17s 287us/step - loss: 0.0248 - acc: 0.9917\n",
            "Epoch 22/35\n",
            "60000/60000 [==============================] - 15s 254us/step - loss: 0.0244 - acc: 0.9918\n",
            "Epoch 23/35\n",
            "60000/60000 [==============================] - 15s 248us/step - loss: 0.0234 - acc: 0.9920\n",
            "Epoch 24/35\n",
            "60000/60000 [==============================] - 15s 246us/step - loss: 0.0239 - acc: 0.9921\n",
            "Epoch 25/35\n",
            "60000/60000 [==============================] - 15s 255us/step - loss: 0.0222 - acc: 0.9926\n",
            "Epoch 26/35\n",
            "60000/60000 [==============================] - 16s 274us/step - loss: 0.0226 - acc: 0.9924\n",
            "Epoch 27/35\n",
            "60000/60000 [==============================] - 15s 246us/step - loss: 0.0220 - acc: 0.9926\n",
            "Epoch 28/35\n",
            "60000/60000 [==============================] - 15s 248us/step - loss: 0.0206 - acc: 0.9930\n",
            "Epoch 29/35\n",
            "60000/60000 [==============================] - 15s 248us/step - loss: 0.0203 - acc: 0.9931\n",
            "Epoch 30/35\n",
            "60000/60000 [==============================] - 15s 249us/step - loss: 0.0198 - acc: 0.9932\n",
            "Epoch 31/35\n",
            "60000/60000 [==============================] - 16s 271us/step - loss: 0.0193 - acc: 0.9934\n",
            "Epoch 32/35\n",
            "60000/60000 [==============================] - 15s 247us/step - loss: 0.0192 - acc: 0.9936\n",
            "Epoch 33/35\n",
            "60000/60000 [==============================] - 15s 252us/step - loss: 0.0201 - acc: 0.9932\n",
            "Epoch 34/35\n",
            "60000/60000 [==============================] - 15s 255us/step - loss: 0.0188 - acc: 0.9933\n",
            "Epoch 35/35\n",
            "60000/60000 [==============================] - 16s 266us/step - loss: 0.0182 - acc: 0.9940\n"
          ],
          "name": "stdout"
        },
        {
          "output_type": "execute_result",
          "data": {
            "text/plain": [
              "<keras.callbacks.History at 0x7efdfb68b160>"
            ]
          },
          "metadata": {
            "tags": []
          },
          "execution_count": 113
        },
        {
          "output_type": "stream",
          "text": [
            "/usr/local/lib/python3.6/dist-packages/ipykernel_launcher.py:1: UserWarning: The `nb_epoch` argument in `fit` has been renamed `epochs`.\n",
            "  \"\"\"Entry point for launching an IPython kernel.\n"
          ],
          "name": "stderr"
        },
        {
          "output_type": "stream",
          "text": [
            "Epoch 1/35\n",
            "60000/60000 [==============================] - 19s 324us/step - loss: 0.2786 - acc: 0.9154\n",
            "Epoch 2/35\n",
            "60000/60000 [==============================] - 16s 262us/step - loss: 0.0774 - acc: 0.9761\n",
            "Epoch 3/35\n",
            "60000/60000 [==============================] - 16s 261us/step - loss: 0.0611 - acc: 0.9806\n",
            "Epoch 4/35\n",
            "60000/60000 [==============================] - 16s 261us/step - loss: 0.0532 - acc: 0.9836\n",
            "Epoch 5/35\n",
            "60000/60000 [==============================] - 16s 259us/step - loss: 0.0463 - acc: 0.9850\n",
            "Epoch 6/35\n",
            "60000/60000 [==============================] - 17s 284us/step - loss: 0.0428 - acc: 0.9865\n",
            "Epoch 7/35\n",
            "60000/60000 [==============================] - 15s 258us/step - loss: 0.0400 - acc: 0.9868\n",
            "Epoch 8/35\n",
            "60000/60000 [==============================] - 15s 255us/step - loss: 0.0373 - acc: 0.9881\n",
            "Epoch 9/35\n",
            "60000/60000 [==============================] - 16s 263us/step - loss: 0.0357 - acc: 0.9893\n",
            "Epoch 10/35\n",
            "60000/60000 [==============================] - 16s 260us/step - loss: 0.0337 - acc: 0.9889\n",
            "Epoch 11/35\n",
            "60000/60000 [==============================] - 16s 274us/step - loss: 0.0324 - acc: 0.9895\n",
            "Epoch 12/35\n",
            "60000/60000 [==============================] - 15s 253us/step - loss: 0.0321 - acc: 0.9896\n",
            "Epoch 13/35\n",
            "60000/60000 [==============================] - 15s 254us/step - loss: 0.0289 - acc: 0.9907\n",
            "Epoch 14/35\n",
            "60000/60000 [==============================] - 15s 256us/step - loss: 0.0289 - acc: 0.9907\n",
            "Epoch 15/35\n",
            "60000/60000 [==============================] - 15s 258us/step - loss: 0.0280 - acc: 0.9905\n",
            "Epoch 16/35\n",
            "60000/60000 [==============================] - 16s 275us/step - loss: 0.0278 - acc: 0.9909\n",
            "Epoch 17/35\n",
            "60000/60000 [==============================] - 15s 256us/step - loss: 0.0262 - acc: 0.9918\n",
            "Epoch 18/35\n",
            "60000/60000 [==============================] - 15s 255us/step - loss: 0.0256 - acc: 0.9914\n",
            "Epoch 19/35\n",
            "60000/60000 [==============================] - 15s 254us/step - loss: 0.0242 - acc: 0.9919\n",
            "Epoch 20/35\n",
            "60000/60000 [==============================] - 15s 255us/step - loss: 0.0251 - acc: 0.9913\n",
            "Epoch 21/35\n",
            "60000/60000 [==============================] - 16s 272us/step - loss: 0.0236 - acc: 0.9922\n",
            "Epoch 22/35\n",
            "60000/60000 [==============================] - 15s 258us/step - loss: 0.0222 - acc: 0.9929\n",
            "Epoch 23/35\n",
            "60000/60000 [==============================] - 15s 254us/step - loss: 0.0205 - acc: 0.9931\n",
            "Epoch 24/35\n",
            "60000/60000 [==============================] - 15s 253us/step - loss: 0.0238 - acc: 0.9921\n",
            "Epoch 25/35\n",
            "60000/60000 [==============================] - 15s 255us/step - loss: 0.0213 - acc: 0.9933\n",
            "Epoch 26/35\n",
            "60000/60000 [==============================] - 17s 289us/step - loss: 0.0190 - acc: 0.9934\n",
            "Epoch 27/35\n",
            "60000/60000 [==============================] - 15s 256us/step - loss: 0.0212 - acc: 0.9931\n",
            "Epoch 28/35\n",
            "60000/60000 [==============================] - 15s 251us/step - loss: 0.0196 - acc: 0.9936\n",
            "Epoch 29/35\n",
            "60000/60000 [==============================] - 16s 265us/step - loss: 0.0190 - acc: 0.9934\n",
            "Epoch 30/35\n",
            "60000/60000 [==============================] - 15s 255us/step - loss: 0.0194 - acc: 0.9936\n",
            "Epoch 31/35\n",
            "60000/60000 [==============================] - 16s 262us/step - loss: 0.0191 - acc: 0.9935\n",
            "Epoch 32/35\n",
            "60000/60000 [==============================] - 16s 266us/step - loss: 0.0180 - acc: 0.9941\n",
            "Epoch 33/35\n",
            "60000/60000 [==============================] - 15s 254us/step - loss: 0.0174 - acc: 0.9941\n",
            "Epoch 34/35\n",
            "60000/60000 [==============================] - 15s 255us/step - loss: 0.0162 - acc: 0.9947\n",
            "Epoch 35/35\n",
            "60000/60000 [==============================] - 15s 254us/step - loss: 0.0182 - acc: 0.9939\n"
          ],
          "name": "stdout"
        },
        {
          "output_type": "execute_result",
          "data": {
            "text/plain": [
              "<keras.callbacks.History at 0x7efdfc05d3c8>"
            ]
          },
          "metadata": {
            "tags": []
          },
          "execution_count": 126
        }
      ]
    },
    {
      "cell_type": "markdown",
      "metadata": {
        "id": "rmSdrCsSNCAc",
        "colab_type": "text"
      },
      "source": [
        "### Model to evaluate the score on the basis of actual output and predicted output. \n",
        "### it will evaluate loss and Accuracy"
      ]
    },
    {
      "cell_type": "code",
      "metadata": {
        "id": "1XAz8iGI6Eih",
        "colab_type": "code",
        "colab": {}
      },
      "source": [
        "score = model.evaluate(X_test, Y_test, verbose=0)"
      ],
      "execution_count": 0,
      "outputs": []
    },
    {
      "cell_type": "code",
      "metadata": {
        "id": "rV1QdPIz6G9B",
        "colab_type": "code",
        "outputId": "857da86a-fc50-45ee-92c9-03edd21f01a2",
        "colab": {
          "base_uri": "https://localhost:8080/",
          "height": 33
        }
      },
      "source": [
        "print(score)"
      ],
      "execution_count": 0,
      "outputs": [
        {
          "output_type": "stream",
          "text": [
            "[0.028947537465941788, 0.9922]\n"
          ],
          "name": "stdout"
        }
      ]
    },
    {
      "cell_type": "markdown",
      "metadata": {
        "id": "kcAUavunNJKk",
        "colab_type": "text"
      },
      "source": [
        "### Model predicting Y_pred from X_test data"
      ]
    },
    {
      "cell_type": "code",
      "metadata": {
        "id": "FwqyNTXy6G-v",
        "colab_type": "code",
        "colab": {}
      },
      "source": [
        "y_pred = model.predict(X_test)"
      ],
      "execution_count": 0,
      "outputs": []
    },
    {
      "cell_type": "code",
      "metadata": {
        "id": "CiGMk2hl6MB4",
        "colab_type": "code",
        "outputId": "76fe9902-5cd2-4902-e14a-2cb0f5dbec22",
        "colab": {
          "base_uri": "https://localhost:8080/",
          "height": 485
        }
      },
      "source": [
        "print(y_pred[:9])\n",
        "print(y_test[:9])"
      ],
      "execution_count": 0,
      "outputs": [
        {
          "output_type": "stream",
          "text": [
            "[[8.46989319e-12 1.26704230e-10 2.15773113e-07 8.70910100e-09\n",
            "  4.37018477e-12 4.38848180e-10 1.75997471e-23 9.99999762e-01\n",
            "  5.06283959e-14 3.34780315e-09]\n",
            " [1.77475357e-07 1.08667280e-06 9.99998569e-01 1.73741077e-10\n",
            "  1.88695459e-08 9.64937765e-12 9.83027917e-08 3.36637301e-10\n",
            "  6.34251818e-10 7.18492765e-11]\n",
            " [1.41763554e-12 9.99999404e-01 4.07329370e-09 4.98771302e-10\n",
            "  2.89521267e-07 5.81430415e-09 1.65889646e-11 2.00496174e-07\n",
            "  5.78197081e-08 7.71822144e-08]\n",
            " [9.99997854e-01 7.90646303e-14 4.05866871e-07 1.05324957e-10\n",
            "  7.86293513e-12 2.36836922e-11 2.07365929e-07 9.71491637e-11\n",
            "  1.50341077e-06 4.60935965e-08]\n",
            " [2.65015704e-14 2.86499383e-11 1.97172973e-14 1.18441456e-14\n",
            "  9.99997616e-01 1.00239133e-13 4.09353553e-17 1.86367553e-11\n",
            "  4.65971554e-13 2.40204872e-06]\n",
            " [4.23310102e-11 9.99998808e-01 1.25001369e-08 7.96064492e-10\n",
            "  2.59190102e-07 5.63381253e-09 9.40322733e-12 5.56087969e-07\n",
            "  3.98571842e-08 3.15763458e-07]\n",
            " [2.99814380e-21 1.20260057e-09 2.77231385e-12 1.39753443e-12\n",
            "  9.99924421e-01 3.68959474e-10 1.99768769e-23 3.50946139e-09\n",
            "  1.59962383e-07 7.54696084e-05]\n",
            " [4.04074774e-09 6.72464992e-12 1.13708087e-09 4.45603103e-11\n",
            "  7.09185479e-05 2.81067756e-08 8.09236846e-14 7.60681962e-10\n",
            "  7.49179563e-08 9.99928951e-01]\n",
            " [1.75774326e-10 3.68877068e-10 7.95147182e-15 3.97132396e-11\n",
            "  1.95987615e-10 9.05954838e-01 9.31249484e-02 6.92341967e-16\n",
            "  9.20260500e-04 4.20764312e-09]]\n",
            "[7 2 1 0 4 1 4 9 5]\n"
          ],
          "name": "stdout"
        }
      ]
    },
    {
      "cell_type": "code",
      "metadata": {
        "id": "AcL55PAH6Osa",
        "colab_type": "code",
        "colab": {}
      },
      "source": [
        "layer_dict = dict([(layer.name, layer) for layer in model.layers])"
      ],
      "execution_count": 0,
      "outputs": []
    },
    {
      "cell_type": "markdown",
      "metadata": {
        "id": "AN8VTN476X88",
        "colab_type": "text"
      },
      "source": [
        ""
      ]
    },
    {
      "cell_type": "code",
      "metadata": {
        "id": "a-3Mp1rP6YQI",
        "colab_type": "code",
        "outputId": "1420df64-335c-4d28-c132-a3bd7b8d3f07",
        "colab": {
          "base_uri": "https://localhost:8080/",
          "height": 837
        }
      },
      "source": [
        "import numpy as np\n",
        "from matplotlib import pyplot as plt\n",
        "from keras import backend as K\n",
        "%matplotlib inline\n",
        "# util function to convert a tensor into a valid image\n",
        "def deprocess_image(x):\n",
        "    # normalize tensor: center on 0., ensure std is 0.1\n",
        "    x -= x.mean()\n",
        "    x /= (x.std() + 1e-5)\n",
        "    x *= 0.1\n",
        "\n",
        "    # clip to [0, 1]\n",
        "    x += 0.5\n",
        "    x = np.clip(x, 0, 1)\n",
        "\n",
        "    # convert to RGB array\n",
        "    x *= 255\n",
        "    #x = x.transpose((1, 2, 0))\n",
        "    x = np.clip(x, 0, 255).astype('uint8')\n",
        "    return x\n",
        "\n",
        "def vis_img_in_filter(img = np.array(X_train[2]).reshape((1, 28, 28, 1)).astype(np.float64), \n",
        "                      layer_name = 'conv2d_99'):\n",
        "    layer_output = layer_dict[layer_name].output\n",
        "    img_ascs = list()\n",
        "    for filter_index in range(layer_output.shape[3]):\n",
        "        # build a loss function that maximizes the activation\n",
        "        # of the nth filter of the layer considered\n",
        "        loss = K.mean(layer_output[:, :, :, filter_index])\n",
        "\n",
        "        # compute the gradient of the input picture wrt this loss\n",
        "        grads = K.gradients(loss, model.input)[0]\n",
        "\n",
        "        # normalization trick: we normalize the gradient\n",
        "        grads /= (K.sqrt(K.mean(K.square(grads))) + 1e-5)\n",
        "\n",
        "        # this function returns the loss and grads given the input picture\n",
        "        iterate = K.function([model.input], [loss, grads])\n",
        "\n",
        "        # step size for gradient ascent\n",
        "        step = 5.\n",
        "\n",
        "        img_asc = np.array(img)\n",
        "        # run gradient ascent for 20 steps\n",
        "        for i in range(20):\n",
        "            loss_value, grads_value = iterate([img_asc])\n",
        "            img_asc += grads_value * step\n",
        "\n",
        "        img_asc = img_asc[0]\n",
        "        img_ascs.append(deprocess_image(img_asc).reshape((28, 28)))\n",
        "        \n",
        "    if layer_output.shape[3] >= 35:\n",
        "        plot_x, plot_y = 6, 6\n",
        "    elif layer_output.shape[3] >= 23:\n",
        "        plot_x, plot_y = 4, 6\n",
        "    elif layer_output.shape[3] >= 11:\n",
        "        plot_x, plot_y = 2, 6\n",
        "    else:\n",
        "        plot_x, plot_y = 1, 2\n",
        "    fig, ax = plt.subplots(plot_x, plot_y, figsize = (12, 12))\n",
        "    ax[0, 0].imshow(img.reshape((28, 28)), cmap = 'gray')\n",
        "    ax[0, 0].set_title('Input image')\n",
        "    fig.suptitle('Input image and %s filters' % (layer_name,))\n",
        "    fig.tight_layout(pad = 0.3, rect = [0, 0, 0.9, 0.9])\n",
        "    for (x, y) in [(i, j) for i in range(plot_x) for j in range(plot_y)]:\n",
        "        if x == 0 and y == 0:\n",
        "            continue\n",
        "        ax[x, y].imshow(img_ascs[x * plot_y + y - 1], cmap = 'gray')\n",
        "        ax[x, y].set_title('filter %d' % (x * plot_y + y - 1))\n",
        "\n",
        "vis_img_in_filter()"
      ],
      "execution_count": 0,
      "outputs": [
        {
          "output_type": "display_data",
          "data": {
            "image/png": "[encoded data removed]",
            "text/plain": [
              "<Figure size 864x864 with 24 Axes>"
            ]
          },
          "metadata": {
            "tags": []
          }
        }
      ]
    }
  ]
}