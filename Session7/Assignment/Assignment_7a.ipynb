{
  "nbformat": 4,
  "nbformat_minor": 0,
  "metadata": {
    "colab": {
      "name": "Assignment_7a.ipynb",
      "version": "0.3.2",
      "provenance": [],
      "collapsed_sections": []
    },
    "kernelspec": {
      "name": "python3",
      "display_name": "Python 3"
    }
  },
  "cells": [
    {
      "cell_type": "markdown",
      "metadata": {
        "id": "PDk4hMm6hHtg",
        "colab_type": "text"
      },
      "source": [
        "#Assignment 7A"
      ]
    },
    {
      "cell_type": "markdown",
      "metadata": {
        "id": "DI8JyBFeiRs6",
        "colab_type": "text"
      },
      "source": [
        "##GoogLeNet Incarnation of Inception Model\n",
        "\n",
        "Check this paper out: https://arxiv.org/pdf/1409.4842.pdf (Links to an external site.)"
      ]
    },
    {
      "cell_type": "markdown",
      "metadata": {
        "id": "lbRgsi8oTtwW",
        "colab_type": "text"
      },
      "source": [
        "![alt text](https://i.stack.imgur.com/GHrct.png)"
      ]
    },
    {
      "cell_type": "markdown",
      "metadata": {
        "id": "l7oJeNPGP6XB",
        "colab_type": "text"
      },
      "source": [
        "##Receptive Field Calculation : Formulas"
      ]
    },
    {
      "cell_type": "markdown",
      "metadata": {
        "id": "kHRMPXtXMm3J",
        "colab_type": "text"
      },
      "source": [
        "![alt text](https://i0.wp.com/syncedreview.com/wp-content/uploads/2017/05/32.png?resize=372%2C171&ssl=1)"
      ]
    },
    {
      "cell_type": "markdown",
      "metadata": {
        "id": "xwxOuu27QzwW",
        "colab_type": "text"
      },
      "source": [
        "***Where,***\n",
        "> ***nout*** is Output features (channel Output)\n",
        "\n",
        ">***p*** is padding in Input Feature (Input Image)\n",
        "\n",
        ">***k*** is Kernal size in Convolution\n",
        "\n",
        ">***jin*** is jump between pixels\n",
        "\n",
        ">***s*** is Stride in Convolution.\n",
        "\n",
        ">***rin*** and ***rout*** is Receptive Field as Input and Output Respect to Layer.\n",
        "\n"
      ]
    },
    {
      "cell_type": "markdown",
      "metadata": {
        "id": "-2zxVAD0hSvJ",
        "colab_type": "text"
      },
      "source": [
        "##Calculation Receptive field: As per above formula"
      ]
    },
    {
      "cell_type": "markdown",
      "metadata": {
        "id": "CqMQgNcjgtDK",
        "colab_type": "text"
      },
      "source": [
        "![alt text](https://github.com/Mayank01/EVA/blob/master/Session7/Assignment/RF_7A.PNG?raw=true)"
      ]
    }
  ]
}